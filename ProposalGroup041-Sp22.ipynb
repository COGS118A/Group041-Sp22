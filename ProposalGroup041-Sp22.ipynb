{
 "cells": [
  {
   "cell_type": "markdown",
   "metadata": {},
   "source": [
    "# COGS 118A- Project Proposal"
   ]
  },
  {
   "cell_type": "markdown",
   "metadata": {},
   "source": [
    "# Names\n",
    "\n",
    "Hopefully your team is at least this good. Obviously you should replace these with your names.\n",
    "\n",
    "- Miguel Monares\n",
    "- Ritik Raina\n",
    "- Matilda Michel\n",
    "- Abdalla Atalla\n",
    "- Will Sumerfield\n"
   ]
  },
  {
   "cell_type": "markdown",
   "metadata": {},
   "source": [
    "# Abstract\n",
    "\n",
    "The goal of our project is to practice and experiment with model selection.\n",
    "We will start with a list of models, then hypothesize each of their performances, and train them on our dataset.\n",
    "Finally, we will compare our hypotheses with what actually happened, and analyze why different models did or did not\n",
    "match our predictions. The dataset we will be using concerns the spread of COVID-19 in South Korea, with which we will\n",
    "predict the number of covid cases over time. This includes individual cases and demographics, regional case counts,\n",
    "and a great deal of other COVID information."
   ]
  },
  {
   "cell_type": "markdown",
   "metadata": {},
   "source": [
    "# Background\n",
    "\n",
    "In order to accurately assess the Covid-19 situation in a given region and to act quickly in case there is an incoming\n",
    "surge one must have a reliable model that will be close in predicting the number of cases. This can help bring down\n",
    "cases by increasing awareness and ultimately save lives. With increasing daily confirmed cases since this year, these\n",
    "results could help in the pandemic response by informing decisions about planning, resource allocation, and decisions\n",
    "concerning social distancing policies[1](https://doi.org/10.5808/gi.21028). Governments and legislative bodies rely on insights from prediction models to\n",
    "suggest new policies and to assess the effectiveness of enforced policies. Therefore, access to accurate outbreak\n",
    "prediction models is essential to obtain insights into the likely spread and consequences of infectious diseases[1](https://doi.org/10.5808/gi.21028).\n",
    "\\Henceforth, the current study envisions the analysis of predictive models that employ machine learning techniques and\n",
    "mathematical modeling to mitigate the spread of COVID-19[2](https://doi.org/10.1155/2022/7731618)."
   ]
  },
  {
   "cell_type": "markdown",
   "metadata": {},
   "source": [
    "# Problem Statement\n",
    "\n",
    "Our problem for this project would be aiming to predict the number of covid cases within certain South Korean provinces\n",
    "at a given time, provided a set of features describing current or past relevant covid and regional statistics.\n",
    "Furthermore, we want to explore this problem with multiple supervised ML models and determine the best and worst\n",
    "performing ones."
   ]
  },
  {
   "cell_type": "markdown",
   "metadata": {},
   "source": [
    "# Data\n",
    "\n",
    "The dataset we will be using regards the [South Korean spread of COVID-19](https://www.kaggle.com/datasets/kimjihoo/coronavirusdataset?select=TimeProvince.csv).\n",
    "It includes many, many different subsets of information, including COVID patient demographics, regional covid cases,\n",
    "COVID policies in place over time, and others, although we don’t expect to use many of these variables.\n",
    "There are over 2700 data points for this dataset, each observation representing a region’s case, death, and released\n",
    "patient counts at a given time. These will be the most\n",
    "pertinent variables for our analysis, since the current COVID cases will be used to predict the future case counts.\n",
    "Other variables, such as weather, school counts, and government policies, will need to be analyzed for correlation\n",
    "with case counts before we decide to use them as features. The data is almost entirely clean, although there is some\n",
    "measure of missing data. We will need to perform data reconstruction in these cases. Other than that, our dataset\n",
    "shouldn’t require any data transformations, although we may choose to include some once we investigate our features\n",
    "further."
   ]
  },
  {
   "cell_type": "markdown",
   "metadata": {},
   "source": [
    "# Proposed Solution\n",
    "\n",
    "We want to build a model that best predicts the number of cases within Korean provinces at a given time-stamp.\n",
    "After we select the features from our vast dataset that may be the most predictive of the number of cases,\n",
    "we hope to explore how different supervised ML models perform well/poorly on our inputs for our task.\n",
    "\n",
    "We project that models with memory, Recurrent Neural Networks, will perform the best, as the number of cases is more\n",
    "predictive by the number of cases in the days before that time stamp. To give insight into one particular model, we\n",
    "could fit an LSTM given the inputs we select and then test our output (predicted number of cases in a province at a\n",
    "timestamp) by comparing it to the true number of cases in a test set.\n",
    "\n",
    "We might create a simple linear regression of number of cases vs time stamp as a baseline to compare our model to."
   ]
  },
  {
   "cell_type": "markdown",
   "metadata": {},
   "source": [
    "# Evaluation Metrics\n",
    "\n",
    "The key evaluation metrics that we will be using in our ML model comparison will be the Mean Squared Error (MSE) and\n",
    "Mean Absolute Percentage Error (MAPE). Since our ML models will be trained/tested on their individual datasets, we can\n",
    "evaluate the robustness and generalizability of our model on error values. These error metrics will be evaluated based\n",
    "off of the actual and predicted values that have been forecasted by the ML model. The y (actual) and y’ (predicted)\n",
    "values will be the outputs that will be executed by the ML model. This output will be the number of cases that have\n",
    "been predicted at a particular timestamp after training/testing.\n",
    "\n",
    "![The Mean Squared Error (MSE)](assets/MSE_formula.png)\n",
    "\n",
    "The MSE value should be closer to zero in order to have a better ML model. Here, the differences between the value of\n",
    "y’ and y incorporates ideas about the variance between the COVID-19 cases value and the wide differences they have at\n",
    "different timestamps.\n",
    "\n",
    "![Mean Absolute Percentage Error (MAPE)](assets/MAPE_formula.png)\n",
    "\n",
    "The MAPE value is a percentage that should be closed to zero for a better ML model. Here, we get the absolute value\n",
    "between the y’ (predicted) and y (actual) and divide by y (actual)."
   ]
  },
  {
   "cell_type": "markdown",
   "metadata": {},
   "source": [
    "# Ethics & Privacy"
   ]
  },
  {
   "cell_type": "markdown",
   "metadata": {},
   "source": [
    "The ethical dilemmas within this project could stem from our own dataset. Human-made issues within the dataset could\n",
    "correlate to wrongful predictions made by the ML model. This can lead ML models to pursue certain Korean cities to have\n",
    "higher COVID-19 cases than others. With that being said, this could lead to further concerns if such dilemmas are\n",
    "escalated in real-time inference.\n",
    "Furthermore, the only way that ML models could train/test is with COVID-19 data that have been collected and processed\n",
    "from Korean hospitals. This assumes that such kinds of data are available freely for our ML models to use - leading to\n",
    "privacy concerns."
   ]
  },
  {
   "cell_type": "markdown",
   "metadata": {},
   "source": [
    "# Team Expectations\n",
    "\n",
    " - We hope to attend weekly meetings so we can discuss our approaches on choosing the right models to evaluate on.\n",
    " - Each of us expect to learn about the dataset and the features it entails.\n",
    " - Each of us should pick a particular ML model to evaluate our dataset on and write our own code.\n",
    " - In the case that any of our teammates reach issues concerning ML results; we can do additional meetings to help out."
   ]
  },
  {
   "cell_type": "markdown",
   "metadata": {},
   "source": [
    "# Project Timeline Proposal"
   ]
  },
  {
   "cell_type": "markdown",
   "metadata": {},
   "source": [
    "Replace this with something meaningful that is appropriate for your needs. It doesn't have to be something that fits this format.  It doesn't have to be set in stone... \"no battle plan survives contact with the enemy\". But you need a battle plan nonetheless, and you need to keep it updated so you understand what you are trying to accomplish, who's responsible for what, and what the expected due dates are for each item.\n",
    "\n",
    "| Meeting Date  | Meeting Time | Completed Before Meeting  | Discuss at Meeting |\n",
    "|---|---|---|---|\n",
    "| 5/1  |  4 PM | Peer reviews + model research | Discuss peer reviews + any ideas we’ve gotten from them, discuss + compare ML models we researched to start deciding what we want to use |\n",
    "| 5/8  |  4 PM |  Peer reviews + indv. code work | Further discuss models we want to use, decide what features we want to use to make prediction, assign data cleaning/EDA for everyone to do |\n",
    "| 5/13  | 4 PM  | Do any indv. data cleaning/EDA  | Finish data cleaning + most of EDA, confirm what models/algorithms we want to do + possibly divide up work for next time TURN IN CHECK POINT  |\n",
    "| 5/22  | 4 PM  | Peer reviews + indv. code work | Discuss peer reviews, have EDA finished, check-in with indv. work + do any coding we want to do together |\n",
    "| 5/29  | 4 PM  | Finish indv. project coding | Go over + clean up coding aspect of project + try to have it finished, start report/assign sections to do (focus on intro/hypoth/methods/background) |\n",
    "| 6/5  | 4 PM  | Indv. report work + maybe any final touches to coding | Another coding + report draft check in/discussion, assign any finishing touches on either |\n",
    "| 6/8  | 4 PM  | Finishing touches | Final check-in + reviewing project TURN IN FINAL PROJECT |"
   ]
  },
  {
   "cell_type": "markdown",
   "metadata": {},
   "source": [
    "# Footnotes\n",
    "1.^: Goo, T., Apio, C., Heo, G., Lee, D., Lee, J. H., Lim, J., Han, K., & Park, T. (2021). Forecasting of the COVID-19 pandemic situation of Korea. Genomics & informatics, 19(1), e11. https://doi.org/10.5808/gi.21028\n",
    "2.^: Hassan, A., Prasad, D., Rani, S., & Alhassan, M. (2022). Gauging the Impact of Artificial Intelligence and Mathematical Modeling in Response to the COVID-19 Pandemic: A Systematic Review. BioMed research international, 2022, 7731618. https://doi.org/10.1155/2022/7731618\n"
   ]
  },
  {
   "cell_type": "code",
   "execution_count": null,
   "metadata": {},
   "outputs": [],
   "source": []
  }
 ],
 "metadata": {
  "kernelspec": {
   "name": "pycharm-b7952dfa",
   "language": "python",
   "display_name": "PyCharm (Group041-Sp22)"
  },
  "language_info": {
   "codemirror_mode": {
    "name": "ipython",
    "version": 3
   },
   "file_extension": ".py",
   "mimetype": "text/x-python",
   "name": "python",
   "nbconvert_exporter": "python",
   "pygments_lexer": "ipython3",
   "version": "3.7.1"
  }
 },
 "nbformat": 4,
 "nbformat_minor": 2
}