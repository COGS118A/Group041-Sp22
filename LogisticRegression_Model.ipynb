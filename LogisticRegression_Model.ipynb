{
 "cells": [
  {
   "cell_type": "markdown",
   "metadata": {},
   "source": [
    "# Model Training and Testing\n",
    "\n",
    "In this file, we train each of our models on the exact same training dataset, and test them\n",
    "on the same testing dataset. This allows us to judge their performance, strengths, and\n",
    "weaknesses using a comparable measure. We hope that this will, in conjunction with our\n",
    "hypotheses, help us understand the merits of each model, and be more informed in future\n",
    "instances of model selection."
   ]
  },
  {
   "cell_type": "markdown",
   "metadata": {},
   "source": [
    "## Imports"
   ]
  },
  {
   "cell_type": "code",
   "execution_count": 83,
   "metadata": {
    "pycharm": {
     "name": "#%%\n"
    }
   },
   "outputs": [],
   "source": [
    "import pandas as pd\n",
    "import numpy as np\n",
    "import sklearn as sk\n",
    "from sklearn.model_selection import train_test_split\n",
    "from sklearn.linear_model import LogisticRegression\n",
    "from sklearn.preprocessing import StandardScaler\n",
    "from sklearn.pipeline import Pipeline\n",
    "from sklearn.linear_model import LogisticRegression\n",
    "from sklearn.preprocessing import OneHotEncoder, PolynomialFeatures\n",
    "from sklearn.metrics import precision_recall_fscore_support as class_metrics\n",
    "from sklearn.gaussian_process import GaussianProcessClassifier\n",
    "from sklearn.model_selection import GridSearchCV\n",
    "from sklearn.gaussian_process.kernels import RBF, WhiteKernel\n",
    "import matplotlib.pyplot as plt\n",
    "import seaborn as sns\n",
    "import regex as re\n",
    "import pickle\n",
    "pd.set_option('display.max_columns', None)"
   ]
  },
  {
   "cell_type": "markdown",
   "metadata": {},
   "source": [
    "## Create the Dataset\n",
    "\n",
    "First, we separate out the testing and training dataset for each of our models to train on.\n",
    "In this case, we decided against k-cross validation due to the sheer size of our dataset.\n",
    "The accuracy of our models should be representative of their performance on future data as\n",
    "well, since there is such a large quantity of training data.\n",
    "\n",
    "Our dataset does have a few issues: several of the variables have classes which occur very infrequently.\n",
    "This may bias our results, since we don't know much about how that variable affects heart disease relative to the other\n",
    "classes. Therefore, we may need to stratify our data to get more accurate results.\n",
    "Additionally, the columns **GenHealth** and **Stroke** have the potential to bias our results.\n",
    "These factors are much more likely to occur due to heart disease, but may not be a good predictor\n",
    "of its future fruition. Therefore, to deal with each of these issues, we will make separate versions of our dataset for\n",
    "each of these cases: **Normal**, **Stratified**, and **No Health Indicators**."
   ]
  },
  {
   "cell_type": "code",
   "execution_count": 45,
   "metadata": {
    "pycharm": {
     "name": "#%%\n"
    },
    "scrolled": true
   },
   "outputs": [
    {
     "name": "stdout",
     "output_type": "stream",
     "text": [
      "Rows:     319795\n",
      "Columns:  35\n"
     ]
    },
    {
     "data": {
      "text/html": [
       "<div>\n",
       "<style scoped>\n",
       "    .dataframe tbody tr th:only-of-type {\n",
       "        vertical-align: middle;\n",
       "    }\n",
       "\n",
       "    .dataframe tbody tr th {\n",
       "        vertical-align: top;\n",
       "    }\n",
       "\n",
       "    .dataframe thead th {\n",
       "        text-align: right;\n",
       "    }\n",
       "</style>\n",
       "<table border=\"1\" class=\"dataframe\">\n",
       "  <thead>\n",
       "    <tr style=\"text-align: right;\">\n",
       "      <th></th>\n",
       "      <th>HeartDisease</th>\n",
       "      <th>BMI</th>\n",
       "      <th>PhysicalHealth</th>\n",
       "      <th>MentalHealth</th>\n",
       "      <th>AgeCategory</th>\n",
       "      <th>GenHealth</th>\n",
       "      <th>SleepTime</th>\n",
       "      <th>Smoking_Yes</th>\n",
       "      <th>Smoking_No</th>\n",
       "      <th>AlcoholDrinking_No</th>\n",
       "      <th>...</th>\n",
       "      <th>Diabetic_No, borderline diabetes</th>\n",
       "      <th>Diabetic_Yes (during pregnancy)</th>\n",
       "      <th>PhysicalActivity_Yes</th>\n",
       "      <th>PhysicalActivity_No</th>\n",
       "      <th>Asthma_Yes</th>\n",
       "      <th>Asthma_No</th>\n",
       "      <th>KidneyDisease_No</th>\n",
       "      <th>KidneyDisease_Yes</th>\n",
       "      <th>SkinCancer_Yes</th>\n",
       "      <th>SkinCancer_No</th>\n",
       "    </tr>\n",
       "  </thead>\n",
       "  <tbody>\n",
       "    <tr>\n",
       "      <th>0</th>\n",
       "      <td>0</td>\n",
       "      <td>16.60</td>\n",
       "      <td>3.0</td>\n",
       "      <td>30.0</td>\n",
       "      <td>7</td>\n",
       "      <td>4</td>\n",
       "      <td>5.0</td>\n",
       "      <td>0.0</td>\n",
       "      <td>1.0</td>\n",
       "      <td>1.0</td>\n",
       "      <td>...</td>\n",
       "      <td>1.0</td>\n",
       "      <td>0.0</td>\n",
       "      <td>0.0</td>\n",
       "      <td>1.0</td>\n",
       "      <td>0.0</td>\n",
       "      <td>1.0</td>\n",
       "      <td>1.0</td>\n",
       "      <td>0.0</td>\n",
       "      <td>0.0</td>\n",
       "      <td>1.0</td>\n",
       "    </tr>\n",
       "    <tr>\n",
       "      <th>1</th>\n",
       "      <td>0</td>\n",
       "      <td>20.34</td>\n",
       "      <td>0.0</td>\n",
       "      <td>0.0</td>\n",
       "      <td>12</td>\n",
       "      <td>4</td>\n",
       "      <td>7.0</td>\n",
       "      <td>1.0</td>\n",
       "      <td>0.0</td>\n",
       "      <td>1.0</td>\n",
       "      <td>...</td>\n",
       "      <td>0.0</td>\n",
       "      <td>0.0</td>\n",
       "      <td>0.0</td>\n",
       "      <td>1.0</td>\n",
       "      <td>1.0</td>\n",
       "      <td>0.0</td>\n",
       "      <td>1.0</td>\n",
       "      <td>0.0</td>\n",
       "      <td>1.0</td>\n",
       "      <td>0.0</td>\n",
       "    </tr>\n",
       "    <tr>\n",
       "      <th>2</th>\n",
       "      <td>0</td>\n",
       "      <td>26.58</td>\n",
       "      <td>20.0</td>\n",
       "      <td>30.0</td>\n",
       "      <td>9</td>\n",
       "      <td>1</td>\n",
       "      <td>8.0</td>\n",
       "      <td>0.0</td>\n",
       "      <td>1.0</td>\n",
       "      <td>1.0</td>\n",
       "      <td>...</td>\n",
       "      <td>1.0</td>\n",
       "      <td>0.0</td>\n",
       "      <td>0.0</td>\n",
       "      <td>1.0</td>\n",
       "      <td>0.0</td>\n",
       "      <td>1.0</td>\n",
       "      <td>1.0</td>\n",
       "      <td>0.0</td>\n",
       "      <td>1.0</td>\n",
       "      <td>0.0</td>\n",
       "    </tr>\n",
       "    <tr>\n",
       "      <th>3</th>\n",
       "      <td>0</td>\n",
       "      <td>24.21</td>\n",
       "      <td>0.0</td>\n",
       "      <td>0.0</td>\n",
       "      <td>11</td>\n",
       "      <td>2</td>\n",
       "      <td>6.0</td>\n",
       "      <td>1.0</td>\n",
       "      <td>0.0</td>\n",
       "      <td>1.0</td>\n",
       "      <td>...</td>\n",
       "      <td>0.0</td>\n",
       "      <td>0.0</td>\n",
       "      <td>1.0</td>\n",
       "      <td>0.0</td>\n",
       "      <td>1.0</td>\n",
       "      <td>0.0</td>\n",
       "      <td>1.0</td>\n",
       "      <td>0.0</td>\n",
       "      <td>0.0</td>\n",
       "      <td>1.0</td>\n",
       "    </tr>\n",
       "    <tr>\n",
       "      <th>4</th>\n",
       "      <td>0</td>\n",
       "      <td>23.71</td>\n",
       "      <td>28.0</td>\n",
       "      <td>0.0</td>\n",
       "      <td>4</td>\n",
       "      <td>4</td>\n",
       "      <td>8.0</td>\n",
       "      <td>1.0</td>\n",
       "      <td>0.0</td>\n",
       "      <td>1.0</td>\n",
       "      <td>...</td>\n",
       "      <td>0.0</td>\n",
       "      <td>0.0</td>\n",
       "      <td>0.0</td>\n",
       "      <td>1.0</td>\n",
       "      <td>1.0</td>\n",
       "      <td>0.0</td>\n",
       "      <td>1.0</td>\n",
       "      <td>0.0</td>\n",
       "      <td>1.0</td>\n",
       "      <td>0.0</td>\n",
       "    </tr>\n",
       "  </tbody>\n",
       "</table>\n",
       "<p>5 rows × 35 columns</p>\n",
       "</div>"
      ],
      "text/plain": [
       "   HeartDisease    BMI  PhysicalHealth  MentalHealth  AgeCategory  GenHealth  \\\n",
       "0             0  16.60             3.0          30.0            7          4   \n",
       "1             0  20.34             0.0           0.0           12          4   \n",
       "2             0  26.58            20.0          30.0            9          1   \n",
       "3             0  24.21             0.0           0.0           11          2   \n",
       "4             0  23.71            28.0           0.0            4          4   \n",
       "\n",
       "   SleepTime  Smoking_Yes  Smoking_No  AlcoholDrinking_No  ...  \\\n",
       "0        5.0          0.0         1.0                 1.0  ...   \n",
       "1        7.0          1.0         0.0                 1.0  ...   \n",
       "2        8.0          0.0         1.0                 1.0  ...   \n",
       "3        6.0          1.0         0.0                 1.0  ...   \n",
       "4        8.0          1.0         0.0                 1.0  ...   \n",
       "\n",
       "   Diabetic_No, borderline diabetes  Diabetic_Yes (during pregnancy)  \\\n",
       "0                               1.0                              0.0   \n",
       "1                               0.0                              0.0   \n",
       "2                               1.0                              0.0   \n",
       "3                               0.0                              0.0   \n",
       "4                               0.0                              0.0   \n",
       "\n",
       "   PhysicalActivity_Yes  PhysicalActivity_No  Asthma_Yes  Asthma_No  \\\n",
       "0                   0.0                  1.0         0.0        1.0   \n",
       "1                   0.0                  1.0         1.0        0.0   \n",
       "2                   0.0                  1.0         0.0        1.0   \n",
       "3                   1.0                  0.0         1.0        0.0   \n",
       "4                   0.0                  1.0         1.0        0.0   \n",
       "\n",
       "   KidneyDisease_No  KidneyDisease_Yes  SkinCancer_Yes  SkinCancer_No  \n",
       "0               1.0                0.0             0.0            1.0  \n",
       "1               1.0                0.0             1.0            0.0  \n",
       "2               1.0                0.0             1.0            0.0  \n",
       "3               1.0                0.0             0.0            1.0  \n",
       "4               1.0                0.0             1.0            0.0  \n",
       "\n",
       "[5 rows x 35 columns]"
      ]
     },
     "execution_count": 45,
     "metadata": {},
     "output_type": "execute_result"
    }
   ],
   "source": [
    "# Import the dataset\n",
    "data = pd.read_csv('raw_data.csv')\n",
    "\n",
    "# Create a lists of each type of feature\n",
    "nominal_features = ['Smoking', 'AlcoholDrinking', 'Stroke', 'DiffWalking', 'Sex', 'Race', 'Diabetic',\n",
    "                  'PhysicalActivity', 'Asthma', 'KidneyDisease', 'SkinCancer']\n",
    "ordinal_features = ['AgeCategory', 'GenHealth']\n",
    "continuous_features = ['BMI', 'PhysicalHealth', 'MentalHealth', 'SleepTime']\n",
    "\n",
    "# region Convert the nominal features into one-hot encodings\n",
    "\n",
    "# Create a One-Hot Encoder\n",
    "encoder = OneHotEncoder()\n",
    "\n",
    "# For each nominal feature...\n",
    "for feature in nominal_features:\n",
    "\n",
    "    # Get an encoded version\n",
    "    encoded_feature = pd.DataFrame(encoder.fit_transform(data[[feature]]).toarray(),\n",
    "                                   columns=[f'{feature}_{f_class}' for f_class in data[feature].unique()])\n",
    "\n",
    "    # Remove the old feature from the data\n",
    "    data = data.drop(feature, axis=1)\n",
    "\n",
    "    # Add the encoded feature to the data\n",
    "    data = data.join(encoded_feature)\n",
    "\n",
    "# endregion Convert the nominal features into one-hot encodings\n",
    "\n",
    "# region Convert the ordinal features into labels\n",
    "\n",
    "# For each nominal feature...\n",
    "for feature in ordinal_features:\n",
    "\n",
    "    # Replace the old feature with an encoded feature\n",
    "    data[feature] = data[feature].astype('category').cat.codes\n",
    "\n",
    "# endregion Convert the ordinal features into labels\n",
    "\n",
    "# Convert the output column to be numerical\n",
    "data['HeartDisease'] = data['HeartDisease'].astype('category').cat.codes\n",
    "\n",
    "# Get the X and y of the dataset\n",
    "data_X = data.iloc[:,1:]\n",
    "data_y = data.loc[:,'HeartDisease']\n",
    "\n",
    "# Display the head of the data\n",
    "print(\"Rows:    \", data.shape[0])\n",
    "print(\"Columns: \", data.shape[1])\n",
    "data.head()"
   ]
  },
  {
   "cell_type": "code",
   "execution_count": 46,
   "metadata": {
    "pycharm": {
     "name": "#%%\n"
    }
   },
   "outputs": [],
   "source": [
    "# Get the Normal test-train split\n",
    "normal_train_X, normal_test_X, normal_train_y, normal_test_y = train_test_split(data_X, data_y, train_size=2/3,\n",
    "                                                                                random_state=42)\n",
    "\n",
    "# Get the Stratified test-train split\n",
    "stratified_train_X, stratified_test_X, stratified_train_y, stratified_test_y = train_test_split(data_X, data_y,\n",
    "                                                                                                train_size=2/3,\n",
    "                                                                                                stratify=data_y,\n",
    "                                                                                                random_state=42)\n",
    "# Get the No Health test-train split\n",
    "dropped_features = [feature for feature in data.columns if ('GenHealth' in feature or 'Stroke' in feature) and feature in data_X.columns]\n",
    "nohealth_train_X, nohealth_test_X, nohealth_train_y, nohealth_test_y = train_test_split(data_X.drop(dropped_features,\n",
    "                                                                                                    axis=1),\n",
    "                                                                                        data_y, train_size=2/3,\n",
    "                                                                                        random_state=42)"
   ]
  },
  {
   "cell_type": "markdown",
   "metadata": {},
   "source": [
    "## Dataset Tuning\n",
    "\n",
    "Now that we know have our datasets, we need to find which we want to use. To do that, we can introduce a simple model\n",
    "which we will use as a measure. By comparing the results of the model trained on each of the different datasets, we\n",
    "can get a sense of how the changes impact performance, and potentially help us intuit whether any bias is introduced by\n",
    "our data. In specific, we are looking to see if the dropped data columns or the stratification make the dataset perform\n",
    "better or worse.\n",
    "\n",
    "The model we will be using for this is **Logistic Regression**, since this model is very simple and fast to train."
   ]
  },
  {
   "cell_type": "code",
   "execution_count": 84,
   "metadata": {},
   "outputs": [
    {
     "name": "stdout",
     "output_type": "stream",
     "text": [
      "Normal Dataset LR:\n",
      "Precision: 0.5112219451371571\n",
      "Recall:    0.08886962176221957\n",
      "F1 Score:  0.15141722832610102\n",
      "\n",
      "Stratified Dataset LR:\n",
      "Precision: 0.5166767738023045\n",
      "Recall:    0.0933800964489259\n",
      "F1 Score:  0.15817321080478977\n",
      "\n",
      "No Health Dataset LR:\n",
      "Precision: 0.4827018121911038\n",
      "Recall:    0.06350926628373252\n",
      "F1 Score:  0.11224978450340006\n"
     ]
    }
   ],
   "source": [
    "# Create a standard scalar and one-hot-encoding pipeline for each dataset\n",
    "normal_pipe = Pipeline([('scalar', StandardScaler()), ('lr', LogisticRegression())])\n",
    "stratified_pipe = Pipeline([('scalar', StandardScaler()), ('lr', LogisticRegression())])\n",
    "nohealth_pipe = Pipeline([('scalar', StandardScaler()), ('lr', LogisticRegression())])\n",
    "\n",
    "# Train each logistic regression on its dataset\n",
    "normal_pipe.fit(normal_train_X, normal_train_y)\n",
    "stratified_pipe.fit(stratified_train_X, stratified_train_y)\n",
    "nohealth_pipe.fit(nohealth_train_X, nohealth_train_y)\n",
    "\n",
    "# Make predictions with each logistic regression\n",
    "normal_prediction = normal_pipe.predict(normal_test_X)\n",
    "stratified_prediction = stratified_pipe.predict(stratified_test_X)\n",
    "nohealth_prediction = nohealth_pipe.predict(nohealth_test_X)\n",
    "\n",
    "# Find the score of each regression\n",
    "normal_precision, normal_recall, normal_f, _ = class_metrics(normal_test_y, normal_prediction)\n",
    "stratified_precision, stratified_recall, stratified_f, _ = class_metrics(stratified_test_y, stratified_prediction)\n",
    "nohealth_precision, nohealth_recall, nohealth_f, _ = class_metrics(nohealth_test_y, nohealth_prediction)\n",
    "\n",
    "# Display the score of each regression\n",
    "print(\"Normal Dataset LR:\")\n",
    "print(f\"Precision: {normal_precision[1]}\")\n",
    "print(f\"Recall:    {normal_recall[1]}\")\n",
    "print(f\"F1 Score:  {normal_f[1]}\")\n",
    "print()\n",
    "print(\"Stratified Dataset LR:\")\n",
    "print(f\"Precision: {stratified_precision[1]}\")\n",
    "print(f\"Recall:    {stratified_recall[1]}\")\n",
    "print(f\"F1 Score:  {stratified_f[1]}\")\n",
    "print()\n",
    "print(\"No Health Dataset LR:\")\n",
    "print(f\"Precision: {nohealth_precision[1]}\")\n",
    "print(f\"Recall:    {nohealth_recall[1]}\")\n",
    "print(f\"F1 Score:  {nohealth_f[1]}\")"
   ]
  },
  {
   "cell_type": "markdown",
   "metadata": {},
   "source": [
    "As we can see, the stratified dataset performed marginally better than the normal dataset, whereas the No Health\n",
    "indicators dataset performed moderately worse. If were really trying to predict heart disease, this would indicate to\n",
    "us that using these columns may be unhelpful for our predictions. However, since that is not the case and since we have\n",
    "the data, we are going to use it anyways, and keep with the stratified dataset.\n",
    "\n",
    "However, some of our models may need a smaller subset of the data, such as the Gaussian Process Classifier. This is\n",
    "because they have high memory demands which scale with the data.\n",
    "\n",
    "Below, let's do two things: Relabel the stratified dataset we'll be using to be more simple, and create a subset of that\n",
    "dataset for models which need less data"
   ]
  },
  {
   "cell_type": "code",
   "execution_count": 47,
   "metadata": {
    "pycharm": {
     "name": "#%%\n"
    }
   },
   "outputs": [],
   "source": [
    "# Rename the stratified dataset\n",
    "train_X, test_X, train_y, test_y = stratified_train_X, stratified_test_X, stratified_train_y, stratified_test_y\n",
    "\n",
    "# Get a smaller subset of the dataset\n",
    "data_subset = data.sample(5000, random_state=42)\n",
    "data_sub_X = data_subset.iloc[:,1:]\n",
    "data_sub_y = data_subset.loc[:,'HeartDisease']\n",
    "\n",
    "# Get the Stratified test-train split\n",
    "train_sub_X, test_sub_X, train_sub_y, test_sub_y = train_test_split(data_sub_X, data_sub_y, train_size=2/3,\n",
    "                                                                    stratify=data_sub_y, random_state=42)"
   ]
  },
  {
   "cell_type": "markdown",
   "metadata": {},
   "source": [
    "# Model Training\n",
    "\n",
    "Now, we need to train each of our models on the stratified data. Since our training dataset is so large (around\n",
    "200,000 samples), we do not need to cross validate our results for each model - they should be representative of true\n",
    "performance relative to one another.\n",
    "\n",
    "Let's start by defining some methods that makes sure that each of our models is trained the same general way."
   ]
  },
  {
   "cell_type": "code",
   "execution_count": 48,
   "metadata": {
    "pycharm": {
     "name": "#%%\n"
    }
   },
   "outputs": [],
   "source": [
    "def train_model(model, parameter_dict, dataset_train_x, dataset_train_y):\n",
    "    \"\"\"This function is used to the find the best model using Cross Validating grid search.\n",
    "    It also applies a standard scaling pipeline to the data.\n",
    "\n",
    "    :param model: An SK Learn model to train\n",
    "    :param parameter_dict: A dictionary of parameters to optimize using grid search. Keys are non-pipe parameters.\n",
    "    :param dataset_train_x: The X values of the training dataset\n",
    "    :param dataset_train_y: The y values of the training dataset\n",
    "    :return best_model: The best model found by the grid search, retrained on all of the data\n",
    "    :return search: The grid search object\n",
    "    \"\"\"\n",
    "\n",
    "    # Create the pipeline\n",
    "    pipe = Pipeline([('scalar', StandardScaler()), ('model', model)])\n",
    "\n",
    "    # Find the parameter grid\n",
    "    parameter_grid = {'model__' + param: parameter_dict[param] for param in parameter_dict}\n",
    "\n",
    "    # Get the GridSearch object\n",
    "    search = GridSearchCV(pipe, parameter_grid, cv=3, n_jobs=-1, verbose=100, scoring='f1')\n",
    "\n",
    "    # Search for the best model\n",
    "    search.fit(dataset_train_x, dataset_train_y)\n",
    "\n",
    "    # Train the best model found\n",
    "    best_model = Pipeline([('scalar', StandardScaler()), ('model', model)]).set_params(**search.best_params_)\n",
    "    best_model.fit(dataset_train_x, dataset_train_y)\n",
    "\n",
    "    # Return the grid search object\n",
    "    return best_model, search\n",
    "\n",
    "\n",
    "def display_results(model_name, best_model, grid_search, dataset_train_x, dataset_train_y,\n",
    "                    dataset_test_x, dataset_test_y):\n",
    "    \"\"\"This function displays the results of the grid search both via tables and graphically.\n",
    "\n",
    "    :param model_name: The name of the SK Learn model trained\n",
    "    :param best_model: The best model found by the grid search\n",
    "    :param grid_search: The grid search object which optimized the model\n",
    "    :param dataset_train_x: The X values of the training dataset\n",
    "    :param dataset_train_y: The y values of the training dataset\n",
    "    :param dataset_test_x: The X values of the training dataset\n",
    "    :param dataset_test_y: The y values of the training dataset\n",
    "    \"\"\"\n",
    "\n",
    "    # Add spacing\n",
    "    print(\"\\n\")\n",
    "\n",
    "    # Start by displaying the trend of the data over each of the parameters\n",
    "    for param in grid_search.best_params_:\n",
    "\n",
    "        # This dict stores the mean performance for each parameter\n",
    "        param_dict = {}\n",
    "\n",
    "        # For the parameter value for each grid search iteration\n",
    "        for p_ind, p in enumerate(grid_search.cv_results_[f'param_{param}']):\n",
    "\n",
    "            # Get P's name\n",
    "            pname = str(p)\n",
    "\n",
    "            # If the parameter is not in the param dictionary, add it\n",
    "            if pname not in param_dict: param_dict[pname] = (1, grid_search.cv_results_['mean_test_score'][p_ind])\n",
    "\n",
    "            # Otherwise, summate them\n",
    "            else: param_dict[pname] = (param_dict[pname][0] + 1,\n",
    "                                   param_dict[pname][1] + grid_search.cv_results_['mean_test_score'][p_ind])\n",
    "\n",
    "        # Finally, find the average value for each parameter value across all grid search iteration\n",
    "        for p in param_dict:\n",
    "            pname = str(p)\n",
    "            param_dict[pname] = param_dict[pname][1] / param_dict[pname][0]\n",
    "\n",
    "        # If the data is numeric, draw a lineplot\n",
    "        if type(list(param_dict.keys())[0]) is not str:\n",
    "            xtick_enum = range(len(list(param_dict.keys())))\n",
    "            ax = sns.lineplot(x=xtick_enum, y=param_dict.values())\n",
    "            ax.set_xticks(xtick_enum, list(param_dict.keys()))\n",
    "\n",
    "        # otherwise, draw a barplot\n",
    "        else: ax = sns.barplot(x=list(param_dict.keys()), y=list(param_dict.values()))\n",
    "\n",
    "        # Since we only care about the differences between models, zoom in the plot to see the differences\n",
    "        max_val = max(param_dict.values())\n",
    "        min_val = min(param_dict.values())\n",
    "        range_val = max_val - min_val\n",
    "        plt.ylim(min_val - range_val*0.1, max_val + range_val*0.1)\n",
    "\n",
    "        # Add plot aesthetics\n",
    "        ax.set_xlabel(param[7:].capitalize() + ' Value')\n",
    "        ax.set_ylabel('F1 Score')\n",
    "        plt.title(f'F1 Score over {param[7:].capitalize()} Value')\n",
    "        plt.show()\n",
    "\n",
    "    # Calculate the performance of the best model\n",
    "    model_train_pred = best_model.predict(dataset_train_x)\n",
    "    model_test_pred = best_model.predict(dataset_test_x)\n",
    "\n",
    "    # Calculate the performance metrics of the best model\n",
    "    model_train_precision, model_train_recall, model_train_f1, _ = class_metrics(dataset_train_y, model_train_pred,\n",
    "                                                                                 zero_division=0)\n",
    "    model_test_precision, model_test_recall, model_test_f1, _ = class_metrics(dataset_test_y, model_test_pred,\n",
    "                                                                              zero_division=0)\n",
    "\n",
    "    # Display which parameters were best\n",
    "    print(\"The best parameters were:\")\n",
    "    for param in grid_search.best_params_:\n",
    "        print(re.search(r'model__(.*)', param).group(1) + f\": {grid_search.best_params_[param]}\")\n",
    "    print(\"\\n\")\n",
    "\n",
    "    # Display the scores of the best model\n",
    "    print(f\"{model_name.title()} Prediction Metrics:\")\n",
    "    print(f\"Train Precision: {model_train_precision[1]}\")\n",
    "    print(f\"Train Recall:    {model_train_recall[1]}\")\n",
    "    print(f\"Train F1 Score:  {model_train_f1[1]}\")\n",
    "    print(f\"Test Precision:  {model_test_precision[1]}\")\n",
    "    print(f\"Test Recall:     {model_test_recall[1]}\")\n",
    "    print(f\"Test F1 Score:   {model_test_f1[1]}\")\n",
    "\n",
    "\n",
    "def save_model(model_name, grid_search):\n",
    "    \"\"\"Save the best model's parameters.\n",
    "\n",
    "    :param model_name: The name of the SK Learn model trained\n",
    "    :param grid_search: The grid search object which optimized the model\n",
    "    \"\"\"\n",
    "\n",
    "    pickle.dump(grid_search.best_params_, open(f'../models/{model_name}.pkl', 'wb'))"
   ]
  },
  {
   "cell_type": "markdown",
   "metadata": {},
   "source": [
    "## Baseline Model\n",
    "\n",
    "A good place to start is to make a baseline. The most simple baseline model we can use is one that always guesses that there is heart disease. Let's see how this performs, in order to compare it to our other models."
   ]
  },
  {
   "cell_type": "code",
   "execution_count": 85,
   "metadata": {},
   "outputs": [
    {
     "name": "stdout",
     "output_type": "stream",
     "text": [
      "Baseline Model Prediction Metrics:\n",
      "Train Precision: 0.08559729075592412\n",
      "Train Recall:    1.0\n",
      "Train F1 Score:  0.15769621292315666\n",
      "Test Precision:  0.08559179729640991\n",
      "Test Recall:     1.0\n",
      "Test F1 Score:   0.15768689024653698\n"
     ]
    }
   ],
   "source": [
    "# Create a dataframe full of 'Yes' Heart Disease Predictions\n",
    "baseline_train_pred = pd.Series([1] * train_y.shape[0])\n",
    "baseline_test_pred = pd.Series([1] * test_y.shape[0])\n",
    "\n",
    "# Find the baseline classification metrics\n",
    "baseline_train_precision, baseline_train_recall, baseline_train_f, _ = class_metrics(train_y,\n",
    "                                                                                     baseline_train_pred,\n",
    "                                                                                     zero_division=0)\n",
    "baseline_test_precision, baseline_test_recall, baseline_test_f, _ = class_metrics(test_y,\n",
    "                                                                                  baseline_test_pred,\n",
    "                                                                                  zero_division=0)\n",
    "\n",
    "# Display the score of each regression\n",
    "print(\"Baseline Model Prediction Metrics:\")\n",
    "print(f\"Train Precision: {baseline_train_precision[1]}\")\n",
    "print(f\"Train Recall:    {baseline_train_recall[1]}\")\n",
    "print(f\"Train F1 Score:  {baseline_train_f[1]}\")\n",
    "print(f\"Test Precision:  {baseline_test_precision[1]}\")\n",
    "print(f\"Test Recall:     {baseline_test_recall[1]}\")\n",
    "print(f\"Test F1 Score:   {baseline_test_f[1]}\")"
   ]
  },
  {
   "cell_type": "markdown",
   "metadata": {},
   "source": [
    "As we can see, our model does pretty poorly overall. Although it does correctly label all occurrences of heart disease,\n",
    "it fails to label any of the negative cases. Our F Score to beat comes out to be **0.159**."
   ]
  },
  {
   "cell_type": "markdown",
   "metadata": {
    "slideshow": {
     "slide_type": "subslide"
    }
   },
   "source": [
    "## Logistic Regression"
   ]
  },
  {
   "cell_type": "markdown",
   "metadata": {},
   "source": [
    "### Logistic Regression w/ Polynomial Features"
   ]
  },
  {
   "cell_type": "markdown",
   "metadata": {},
   "source": [
    "I want to explore how the model runs with different degrees of polynomial logistic regression, including linear, by using the sklearn pre-processing feature PolynomialFeatures. So first, I want to create and store different sets of the data that's been transformed on different degrees that can they all be run through the logistic regression model and compared."
   ]
  },
  {
   "cell_type": "code",
   "execution_count": 11,
   "metadata": {},
   "outputs": [],
   "source": [
    "poly_train= []\n",
    "poly_test = []\n",
    "for d in range(1,5):\n",
    "    trans_tr = PolynomialFeatures(degree=d)\n",
    "    trans_te = PolynomialFeatures(degree=d)\n",
    "    poly_train.append(np.array(trans_tr.fit_transform(train_sub_X)))\n",
    "    poly_test.append(np.array(trans_te.fit_transform(test_sub_X)))\n",
    "with open('train_PolyFeatures', 'wb') as f:\n",
    "    pickle.dump(poly_train, f)\n",
    "with open('test_PolyFeatures', 'wb') as f:\n",
    "    pickle.dump(poly_test, f)"
   ]
  },
  {
   "cell_type": "markdown",
   "metadata": {},
   "source": [
    "I would have liked to explore models with a higher degree of polynomial, but memory limitations stopped me at a degree of 4."
   ]
  },
  {
   "cell_type": "code",
   "execution_count": 6,
   "metadata": {},
   "outputs": [],
   "source": [
    "with open('test_PolyFeatures', 'rb') as f:\n",
    "    poly_test_X = pickle.load(f)\n",
    "with open('train_PolyFeatures', 'rb') as f:\n",
    "    poly_train_X = pickle.load(f)"
   ]
  },
  {
   "cell_type": "markdown",
   "metadata": {},
   "source": [
    "First, I wanted to see how the model performed with the default parameters provided by sklearn which I could then more easily compare to see how much the hypertuning improves performance."
   ]
  },
  {
   "cell_type": "code",
   "execution_count": 62,
   "metadata": {},
   "outputs": [],
   "source": [
    "no_params = {}"
   ]
  },
  {
   "cell_type": "code",
   "execution_count": 57,
   "metadata": {
    "collapsed": true
   },
   "outputs": [
    {
     "name": "stdout",
     "output_type": "stream",
     "text": [
      "Fitting 3 folds for each of 1 candidates, totalling 3 fits\n",
      "Fitting 3 folds for each of 1 candidates, totalling 3 fits\n"
     ]
    },
    {
     "name": "stderr",
     "output_type": "stream",
     "text": [
      "/opt/conda/lib/python3.9/site-packages/sklearn/linear_model/_logistic.py:763: ConvergenceWarning: lbfgs failed to converge (status=1):\n",
      "STOP: TOTAL NO. of ITERATIONS REACHED LIMIT.\n",
      "\n",
      "Increase the number of iterations (max_iter) or scale the data as shown in:\n",
      "    https://scikit-learn.org/stable/modules/preprocessing.html\n",
      "Please also refer to the documentation for alternative solver options:\n",
      "    https://scikit-learn.org/stable/modules/linear_model.html#logistic-regression\n",
      "  n_iter_i = _check_optimize_result(\n",
      "/opt/conda/lib/python3.9/site-packages/sklearn/linear_model/_logistic.py:763: ConvergenceWarning: lbfgs failed to converge (status=1):\n",
      "STOP: TOTAL NO. of ITERATIONS REACHED LIMIT.\n",
      "\n",
      "Increase the number of iterations (max_iter) or scale the data as shown in:\n",
      "    https://scikit-learn.org/stable/modules/preprocessing.html\n",
      "Please also refer to the documentation for alternative solver options:\n",
      "    https://scikit-learn.org/stable/modules/linear_model.html#logistic-regression\n",
      "  n_iter_i = _check_optimize_result(\n",
      "/opt/conda/lib/python3.9/site-packages/sklearn/linear_model/_logistic.py:763: ConvergenceWarning: lbfgs failed to converge (status=1):\n",
      "STOP: TOTAL NO. of ITERATIONS REACHED LIMIT.\n",
      "\n",
      "Increase the number of iterations (max_iter) or scale the data as shown in:\n",
      "    https://scikit-learn.org/stable/modules/preprocessing.html\n",
      "Please also refer to the documentation for alternative solver options:\n",
      "    https://scikit-learn.org/stable/modules/linear_model.html#logistic-regression\n",
      "  n_iter_i = _check_optimize_result(\n",
      "/opt/conda/lib/python3.9/site-packages/sklearn/linear_model/_logistic.py:763: ConvergenceWarning: lbfgs failed to converge (status=1):\n",
      "STOP: TOTAL NO. of ITERATIONS REACHED LIMIT.\n",
      "\n",
      "Increase the number of iterations (max_iter) or scale the data as shown in:\n",
      "    https://scikit-learn.org/stable/modules/preprocessing.html\n",
      "Please also refer to the documentation for alternative solver options:\n",
      "    https://scikit-learn.org/stable/modules/linear_model.html#logistic-regression\n",
      "  n_iter_i = _check_optimize_result(\n",
      "/opt/conda/lib/python3.9/site-packages/sklearn/linear_model/_logistic.py:763: ConvergenceWarning: lbfgs failed to converge (status=1):\n",
      "STOP: TOTAL NO. of ITERATIONS REACHED LIMIT.\n",
      "\n",
      "Increase the number of iterations (max_iter) or scale the data as shown in:\n",
      "    https://scikit-learn.org/stable/modules/preprocessing.html\n",
      "Please also refer to the documentation for alternative solver options:\n",
      "    https://scikit-learn.org/stable/modules/linear_model.html#logistic-regression\n",
      "  n_iter_i = _check_optimize_result(\n"
     ]
    },
    {
     "name": "stdout",
     "output_type": "stream",
     "text": [
      "Fitting 3 folds for each of 1 candidates, totalling 3 fits\n"
     ]
    },
    {
     "name": "stderr",
     "output_type": "stream",
     "text": [
      "/opt/conda/lib/python3.9/site-packages/sklearn/linear_model/_logistic.py:763: ConvergenceWarning: lbfgs failed to converge (status=1):\n",
      "STOP: TOTAL NO. of ITERATIONS REACHED LIMIT.\n",
      "\n",
      "Increase the number of iterations (max_iter) or scale the data as shown in:\n",
      "    https://scikit-learn.org/stable/modules/preprocessing.html\n",
      "Please also refer to the documentation for alternative solver options:\n",
      "    https://scikit-learn.org/stable/modules/linear_model.html#logistic-regression\n",
      "  n_iter_i = _check_optimize_result(\n",
      "/opt/conda/lib/python3.9/site-packages/sklearn/linear_model/_logistic.py:763: ConvergenceWarning: lbfgs failed to converge (status=1):\n",
      "STOP: TOTAL NO. of ITERATIONS REACHED LIMIT.\n",
      "\n",
      "Increase the number of iterations (max_iter) or scale the data as shown in:\n",
      "    https://scikit-learn.org/stable/modules/preprocessing.html\n",
      "Please also refer to the documentation for alternative solver options:\n",
      "    https://scikit-learn.org/stable/modules/linear_model.html#logistic-regression\n",
      "  n_iter_i = _check_optimize_result(\n",
      "/opt/conda/lib/python3.9/site-packages/sklearn/linear_model/_logistic.py:763: ConvergenceWarning: lbfgs failed to converge (status=1):\n",
      "STOP: TOTAL NO. of ITERATIONS REACHED LIMIT.\n",
      "\n",
      "Increase the number of iterations (max_iter) or scale the data as shown in:\n",
      "    https://scikit-learn.org/stable/modules/preprocessing.html\n",
      "Please also refer to the documentation for alternative solver options:\n",
      "    https://scikit-learn.org/stable/modules/linear_model.html#logistic-regression\n",
      "  n_iter_i = _check_optimize_result(\n",
      "/opt/conda/lib/python3.9/site-packages/sklearn/linear_model/_logistic.py:763: ConvergenceWarning: lbfgs failed to converge (status=1):\n",
      "STOP: TOTAL NO. of ITERATIONS REACHED LIMIT.\n",
      "\n",
      "Increase the number of iterations (max_iter) or scale the data as shown in:\n",
      "    https://scikit-learn.org/stable/modules/preprocessing.html\n",
      "Please also refer to the documentation for alternative solver options:\n",
      "    https://scikit-learn.org/stable/modules/linear_model.html#logistic-regression\n",
      "  n_iter_i = _check_optimize_result(\n",
      "/opt/conda/lib/python3.9/site-packages/sklearn/linear_model/_logistic.py:763: ConvergenceWarning: lbfgs failed to converge (status=1):\n",
      "STOP: TOTAL NO. of ITERATIONS REACHED LIMIT.\n",
      "\n",
      "Increase the number of iterations (max_iter) or scale the data as shown in:\n",
      "    https://scikit-learn.org/stable/modules/preprocessing.html\n",
      "Please also refer to the documentation for alternative solver options:\n",
      "    https://scikit-learn.org/stable/modules/linear_model.html#logistic-regression\n",
      "  n_iter_i = _check_optimize_result(\n"
     ]
    }
   ],
   "source": [
    "lr_model = LogisticRegression(max_iter=200, random_state=42)\n",
    "for i in range(3):\n",
    "    bm, gs = train_model(lr_model, no_params, poly_train_X[i], train_sub_y)\n",
    "    filename = 'models/PF' + str(i+1) + '_C1'\n",
    "    with open(filename, 'wb') as f:\n",
    "        pickle.dump(bm, f)\n",
    "    filename = filename + '_gs'\n",
    "    with open(filename, 'wb') as f:\n",
    "        pickle.dump(gs, f)"
   ]
  },
  {
   "cell_type": "markdown",
   "metadata": {},
   "source": [
    "#### Polynomial Features, Degree = 1-3, tol = 1e-4, no hyperparameter tuning"
   ]
  },
  {
   "cell_type": "code",
   "execution_count": 63,
   "metadata": {
    "scrolled": false
   },
   "outputs": [
    {
     "name": "stdout",
     "output_type": "stream",
     "text": [
      "\n",
      "\n",
      "The best parameters were:\n",
      "\n",
      "\n",
      "Logistic Regression W/ Pf D=1 Prediction Metrics:\n",
      "Train Precision: 0.5471698113207547\n",
      "Train Recall:    0.0926517571884984\n",
      "Train F1 Score:  0.15846994535519127\n",
      "Test Precision:  0.3333333333333333\n",
      "Test Recall:     0.07051282051282051\n",
      "Test F1 Score:   0.1164021164021164\n",
      "\n",
      "\n",
      "The best parameters were:\n",
      "\n",
      "\n",
      "Logistic Regression W/ Pf D=2 Prediction Metrics:\n",
      "Train Precision: 0.7431192660550459\n",
      "Train Recall:    0.25878594249201275\n",
      "Train F1 Score:  0.38388625592417064\n",
      "Test Precision:  0.23529411764705882\n",
      "Test Recall:     0.07692307692307693\n",
      "Test F1 Score:   0.11594202898550726\n",
      "\n",
      "\n",
      "The best parameters were:\n",
      "\n",
      "\n",
      "Logistic Regression W/ Pf D=3 Prediction Metrics:\n",
      "Train Precision: 0.9567099567099567\n",
      "Train Recall:    0.7060702875399361\n",
      "Train F1 Score:  0.8124999999999999\n",
      "Test Precision:  0.226890756302521\n",
      "Test Recall:     0.17307692307692307\n",
      "Test F1 Score:   0.19636363636363635\n"
     ]
    }
   ],
   "source": [
    "for i in range(3):\n",
    "    filename = 'models/PF' + str(i+1) + '_C1'\n",
    "    with open(filename, 'rb') as f:\n",
    "        bm = pickle.load(f)\n",
    "    filename = 'models/PF' + str(i+1) + '_C1_gs'\n",
    "    with open(filename, 'rb') as f:\n",
    "        gs = pickle.load(f)\n",
    "    display_results(\"Logistic Regression w/ PF D=\" + str(i+1), bm, gs, poly_train_X[i], train_sub_y, poly_test_X[i], test_sub_y)"
   ]
  },
  {
   "cell_type": "markdown",
   "metadata": {},
   "source": [
    "Using the default parameters for Logistic Regression, theres clearly issues with converging and the test performance is very low, especially compared to testing performance, for all 3 degrees. It would be wise to hypertune and find the best parameters for our model. Degree 3 does give the best f1 + recall scores."
   ]
  },
  {
   "cell_type": "markdown",
   "metadata": {},
   "source": [
    "Then, I created a dictionary for hyperparameters to compare with gridsearch and find the best model for each degree of polynomial. The lr_params are used for finding the best model for degrees 1-3. I also explored the model using different values of 'tol', the stopping criteria, for each set of degrees. I didn't put this in the param dictionary for gridsearch because I wanted to be able to visualize the difference in performance, as it's merely to help it converge within the processing limits (as it'd be expensive to hypertune more parameters) and won't necessarily produce the best performance for that set of parameters at that degree.\n",
    "\n",
    "The no_params dictionary is for running the model with a degree of 4, as trying to gridsearch with it crashes the kernel due to memory consumption."
   ]
  },
  {
   "cell_type": "code",
   "execution_count": 64,
   "metadata": {},
   "outputs": [],
   "source": [
    "lr_params = {'solver': ['sag', 'saga'],\n",
    "             'C': [1e-5, 1e-4, 1e-3, 1e-2, 1e-1, 1],\n",
    "             'class_weight': [None, 'balanced']}"
   ]
  },
  {
   "cell_type": "markdown",
   "metadata": {},
   "source": [
    "For each tol value, I ran model selection and displayed the results of the best performing model, based on the tests above, for 1-3 degrees of polynomial regression."
   ]
  },
  {
   "cell_type": "code",
   "execution_count": 14,
   "metadata": {
    "collapsed": true
   },
   "outputs": [
    {
     "name": "stdout",
     "output_type": "stream",
     "text": [
      "Fitting 3 folds for each of 24 candidates, totalling 72 fits\n"
     ]
    },
    {
     "name": "stderr",
     "output_type": "stream",
     "text": [
      "/opt/conda/lib/python3.9/site-packages/sklearn/linear_model/_sag.py:328: ConvergenceWarning: The max_iter was reached which means the coef_ did not converge\n",
      "  warnings.warn(\"The max_iter was reached which means \"\n",
      "/opt/conda/lib/python3.9/site-packages/sklearn/linear_model/_sag.py:328: ConvergenceWarning: The max_iter was reached which means the coef_ did not converge\n",
      "  warnings.warn(\"The max_iter was reached which means \"\n",
      "/opt/conda/lib/python3.9/site-packages/sklearn/linear_model/_sag.py:328: ConvergenceWarning: The max_iter was reached which means the coef_ did not converge\n",
      "  warnings.warn(\"The max_iter was reached which means \"\n",
      "/opt/conda/lib/python3.9/site-packages/sklearn/linear_model/_sag.py:328: ConvergenceWarning: The max_iter was reached which means the coef_ did not converge\n",
      "  warnings.warn(\"The max_iter was reached which means \"\n",
      "/opt/conda/lib/python3.9/site-packages/sklearn/linear_model/_sag.py:328: ConvergenceWarning: The max_iter was reached which means the coef_ did not converge\n",
      "  warnings.warn(\"The max_iter was reached which means \"\n",
      "/opt/conda/lib/python3.9/site-packages/sklearn/linear_model/_sag.py:328: ConvergenceWarning: The max_iter was reached which means the coef_ did not converge\n",
      "  warnings.warn(\"The max_iter was reached which means \"\n",
      "/opt/conda/lib/python3.9/site-packages/sklearn/linear_model/_sag.py:328: ConvergenceWarning: The max_iter was reached which means the coef_ did not converge\n",
      "  warnings.warn(\"The max_iter was reached which means \"\n",
      "/opt/conda/lib/python3.9/site-packages/sklearn/linear_model/_sag.py:328: ConvergenceWarning: The max_iter was reached which means the coef_ did not converge\n",
      "  warnings.warn(\"The max_iter was reached which means \"\n"
     ]
    },
    {
     "name": "stdout",
     "output_type": "stream",
     "text": [
      "Fitting 3 folds for each of 24 candidates, totalling 72 fits\n",
      "[CV 2/3; 1/24] START model__C=1e-05, model__class_weight=None, model__solver=sag\n",
      "[CV 2/3; 1/24] END model__C=1e-05, model__class_weight=None, model__solver=sag;, score=0.000 total time=   0.0s\n",
      "[CV 2/3; 12/24] START model__C=0.001, model__class_weight=balanced, model__solver=saga\n",
      "[CV 2/3; 12/24] END model__C=0.001, model__class_weight=balanced, model__solver=saga;, score=0.338 total time=   0.0s\n",
      "[CV 3/3; 12/24] START model__C=0.001, model__class_weight=balanced, model__solver=saga\n",
      "[CV 3/3; 12/24] END model__C=0.001, model__class_weight=balanced, model__solver=saga;, score=0.331 total time=   0.0s\n",
      "[CV 2/3; 14/24] START model__C=0.01, model__class_weight=None, model__solver=saga\n",
      "[CV 2/3; 14/24] END model__C=0.01, model__class_weight=None, model__solver=saga;, score=0.090 total time=   0.0s\n",
      "[CV 3/3; 14/24] START model__C=0.01, model__class_weight=None, model__solver=saga\n",
      "[CV 3/3; 14/24] END model__C=0.01, model__class_weight=None, model__solver=saga;, score=0.069 total time=   0.0s\n",
      "[CV 2/3; 16/24] START model__C=0.01, model__class_weight=balanced, model__solver=saga\n",
      "[CV 2/3; 16/24] END model__C=0.01, model__class_weight=balanced, model__solver=saga;, score=0.352 total time=   0.0s\n",
      "[CV 3/3; 16/24] START model__C=0.01, model__class_weight=balanced, model__solver=saga\n",
      "[CV 3/3; 16/24] END model__C=0.01, model__class_weight=balanced, model__solver=saga;, score=0.309 total time=   0.0s\n",
      "[CV 2/3; 20/24] START model__C=0.1, model__class_weight=balanced, model__solver=saga\n",
      "[CV 2/3; 20/24] END model__C=0.1, model__class_weight=balanced, model__solver=saga;, score=0.354 total time=   0.0s\n",
      "[CV 3/3; 20/24] START model__C=0.1, model__class_weight=balanced, model__solver=saga\n",
      "[CV 3/3; 20/24] END model__C=0.1, model__class_weight=balanced, model__solver=saga;, score=0.312 total time=   0.0s\n",
      "[CV 1/3; 24/24] START model__C=1, model__class_weight=balanced, model__solver=saga\n",
      "[CV 1/3; 24/24] END model__C=1, model__class_weight=balanced, model__solver=saga;, score=0.327 total time=   0.0s\n",
      "[CV 1/3; 1/24] START model__C=1e-05, model__class_weight=None, model__solver=sag\n",
      "[CV 1/3; 1/24] END model__C=1e-05, model__class_weight=None, model__solver=sag;, score=0.000 total time=   0.2s\n",
      "[CV 1/3; 4/24] START model__C=1e-05, model__class_weight=balanced, model__solver=saga\n",
      "[CV 1/3; 4/24] END model__C=1e-05, model__class_weight=balanced, model__solver=saga;, score=0.328 total time=   0.2s\n",
      "[CV 3/3; 5/24] START model__C=0.0001, model__class_weight=None, model__solver=sag\n",
      "[CV 3/3; 5/24] END model__C=0.0001, model__class_weight=None, model__solver=sag;, score=0.000 total time=   0.2s\n",
      "[CV 1/3; 7/24] START model__C=0.0001, model__class_weight=balanced, model__solver=sag\n",
      "[CV 1/3; 7/24] END model__C=0.0001, model__class_weight=balanced, model__solver=sag;, score=0.346 total time=   0.1s\n",
      "[CV 3/3; 8/24] START model__C=0.0001, model__class_weight=balanced, model__solver=saga\n",
      "[CV 3/3; 8/24] END model__C=0.0001, model__class_weight=balanced, model__solver=saga;, score=0.321 total time=   0.2s\n",
      "[CV 2/3; 11/24] START model__C=0.001, model__class_weight=balanced, model__solver=sag\n",
      "[CV 2/3; 11/24] END model__C=0.001, model__class_weight=balanced, model__solver=sag;, score=0.336 total time=   0.3s\n",
      "[CV 2/3; 13/24] START model__C=0.01, model__class_weight=None, model__solver=sag\n",
      "[CV 2/3; 13/24] END model__C=0.01, model__class_weight=None, model__solver=sag;, score=0.157 total time=   0.5s\n",
      "[CV 1/3; 16/24] START model__C=0.01, model__class_weight=balanced, model__solver=saga\n",
      "[CV 1/3; 16/24] END model__C=0.01, model__class_weight=balanced, model__solver=saga;, score=0.311 total time=   0.6s\n",
      "[CV 3/3; 18/24] START model__C=0.1, model__class_weight=None, model__solver=saga\n",
      "[CV 3/3; 18/24] END model__C=0.1, model__class_weight=None, model__solver=saga;, score=0.179 total time=   1.1s\n",
      "[CV 1/3; 22/24] START model__C=1, model__class_weight=None, model__solver=saga..\n",
      "[CV 1/3; 22/24] END model__C=1, model__class_weight=None, model__solver=saga;, score=0.086 total time=   1.3s\n",
      "[CV 3/3; 24/24] START model__C=1, model__class_weight=balanced, model__solver=saga\n",
      "[CV 3/3; 24/24] END model__C=1, model__class_weight=balanced, model__solver=saga;, score=0.246 total time=   1.2s\n",
      "[CV 2/3; 3/24] START model__C=1e-05, model__class_weight=balanced, model__solver=sag\n",
      "[CV 2/3; 3/24] END model__C=1e-05, model__class_weight=balanced, model__solver=sag;, score=0.322 total time=   2.3s\n",
      "[CV 3/3; 3/24] START model__C=1e-05, model__class_weight=balanced, model__solver=sag\n",
      "[CV 3/3; 3/24] END model__C=1e-05, model__class_weight=balanced, model__solver=sag;, score=0.304 total time=   2.4s\n",
      "[CV 2/3; 6/24] START model__C=0.0001, model__class_weight=None, model__solver=saga\n",
      "[CV 2/3; 6/24] END model__C=0.0001, model__class_weight=None, model__solver=saga;, score=0.334 total time=   4.1s\n",
      "[CV 1/3; 9/24] START model__C=0.001, model__class_weight=None, model__solver=sag\n",
      "[CV 1/3; 9/24] END model__C=0.001, model__class_weight=None, model__solver=sag;, score=0.205 total time=   6.7s\n",
      "[CV 2/3; 12/24] START model__C=0.001, model__class_weight=balanced, model__solver=saga\n",
      "[CV 2/3; 12/24] END model__C=0.001, model__class_weight=balanced, model__solver=saga;, score=0.301 total time=  10.1s\n",
      "[CV 3/3; 14/24] START model__C=0.01, model__class_weight=None, model__solver=saga\n",
      "[CV 3/3; 14/24] END model__C=0.01, model__class_weight=None, model__solver=saga;, score=0.231 total time=  12.4s\n",
      "[CV 2/3; 17/24] START model__C=0.1, model__class_weight=None, model__solver=sag.\n",
      "[CV 2/3; 17/24] END model__C=0.1, model__class_weight=None, model__solver=sag;, score=0.235 total time=  10.9s\n",
      "[CV 2/3; 20/24] START model__C=0.1, model__class_weight=balanced, model__solver=saga\n",
      "[CV 2/3; 20/24] END model__C=0.1, model__class_weight=balanced, model__solver=saga;, score=0.289 total time=  15.0s\n",
      "[CV 2/3; 23/24] START model__C=1, model__class_weight=balanced, model__solver=sag\n",
      "[CV 2/3; 23/24] END model__C=1, model__class_weight=balanced, model__solver=sag;, score=0.288 total time=  12.6s\n",
      "[CV 3/3; 1/24] START model__C=1e-05, model__class_weight=None, model__solver=sag\n",
      "[CV 3/3; 1/24] END model__C=1e-05, model__class_weight=None, model__solver=sag;, score=0.000 total time=   0.0s\n",
      "[CV 2/3; 4/24] START model__C=1e-05, model__class_weight=balanced, model__solver=saga\n",
      "[CV 2/3; 4/24] END model__C=1e-05, model__class_weight=balanced, model__solver=saga;, score=0.342 total time=   0.0s\n",
      "[CV 3/3; 7/24] START model__C=0.0001, model__class_weight=balanced, model__solver=sag\n",
      "[CV 3/3; 7/24] END model__C=0.0001, model__class_weight=balanced, model__solver=sag;, score=0.338 total time=   0.0s\n",
      "[CV 1/3; 8/24] START model__C=0.0001, model__class_weight=balanced, model__solver=saga\n",
      "[CV 1/3; 8/24] END model__C=0.0001, model__class_weight=balanced, model__solver=saga;, score=0.331 total time=   0.0s\n",
      "[CV 2/3; 16/24] START model__C=0.01, model__class_weight=balanced, model__solver=saga\n",
      "[CV 2/3; 16/24] END model__C=0.01, model__class_weight=balanced, model__solver=saga;, score=0.351 total time=   0.0s\n",
      "[CV 3/3; 16/24] START model__C=0.01, model__class_weight=balanced, model__solver=saga\n",
      "[CV 3/3; 16/24] END model__C=0.01, model__class_weight=balanced, model__solver=saga;, score=0.312 total time=   0.0s\n",
      "[CV 1/3; 21/24] START model__C=1, model__class_weight=None, model__solver=sag...\n",
      "[CV 1/3; 21/24] END model__C=1, model__class_weight=None, model__solver=sag;, score=0.082 total time=   0.0s\n",
      "[CV 3/3; 22/24] START model__C=1, model__class_weight=None, model__solver=saga..\n",
      "[CV 3/3; 22/24] END model__C=1, model__class_weight=None, model__solver=saga;, score=0.214 total time=   0.0s\n",
      "[CV 3/3; 23/24] START model__C=1, model__class_weight=balanced, model__solver=sag\n",
      "[CV 3/3; 23/24] END model__C=1, model__class_weight=balanced, model__solver=sag;, score=0.320 total time=   0.2s\n",
      "[CV 3/3; 2/24] START model__C=1e-05, model__class_weight=None, model__solver=saga\n",
      "[CV 3/3; 2/24] END model__C=1e-05, model__class_weight=None, model__solver=saga;, score=0.000 total time=   2.6s\n",
      "[CV 1/3; 9/24] START model__C=0.001, model__class_weight=None, model__solver=sag\n",
      "[CV 1/3; 9/24] END model__C=0.001, model__class_weight=None, model__solver=sag;, score=0.053 total time=   1.2s\n"
     ]
    },
    {
     "name": "stderr",
     "output_type": "stream",
     "text": [
      "/opt/conda/lib/python3.9/site-packages/sklearn/linear_model/_sag.py:328: ConvergenceWarning: The max_iter was reached which means the coef_ did not converge\n",
      "  warnings.warn(\"The max_iter was reached which means \"\n",
      "/opt/conda/lib/python3.9/site-packages/sklearn/linear_model/_sag.py:328: ConvergenceWarning: The max_iter was reached which means the coef_ did not converge\n",
      "  warnings.warn(\"The max_iter was reached which means \"\n",
      "/opt/conda/lib/python3.9/site-packages/sklearn/linear_model/_sag.py:328: ConvergenceWarning: The max_iter was reached which means the coef_ did not converge\n",
      "  warnings.warn(\"The max_iter was reached which means \"\n"
     ]
    },
    {
     "name": "stdout",
     "output_type": "stream",
     "text": [
      "[CV 1/3; 2/24] START model__C=1e-05, model__class_weight=None, model__solver=saga\n",
      "[CV 1/3; 2/24] END model__C=1e-05, model__class_weight=None, model__solver=saga;, score=0.000 total time=   0.0s\n",
      "[CV 1/3; 13/24] START model__C=0.01, model__class_weight=None, model__solver=sag\n",
      "[CV 1/3; 13/24] END model__C=0.01, model__class_weight=None, model__solver=sag;, score=0.036 total time=   0.0s\n",
      "[CV 2/3; 13/24] START model__C=0.01, model__class_weight=None, model__solver=sag\n",
      "[CV 2/3; 13/24] END model__C=0.01, model__class_weight=None, model__solver=sag;, score=0.090 total time=   0.0s\n",
      "[CV 3/3; 15/24] START model__C=0.01, model__class_weight=balanced, model__solver=sag\n",
      "[CV 3/3; 15/24] END model__C=0.01, model__class_weight=balanced, model__solver=sag;, score=0.310 total time=   0.0s\n",
      "[CV 1/3; 16/24] START model__C=0.01, model__class_weight=balanced, model__solver=saga\n",
      "[CV 1/3; 16/24] END model__C=0.01, model__class_weight=balanced, model__solver=saga;, score=0.350 total time=   0.0s\n",
      "[CV 3/3; 19/24] START model__C=0.1, model__class_weight=balanced, model__solver=sag\n",
      "[CV 3/3; 19/24] END model__C=0.1, model__class_weight=balanced, model__solver=sag;, score=0.307 total time=   0.1s\n",
      "[CV 1/3; 20/24] START model__C=0.1, model__class_weight=balanced, model__solver=saga\n",
      "[CV 1/3; 20/24] END model__C=0.1, model__class_weight=balanced, model__solver=saga;, score=0.331 total time=   0.0s\n",
      "[CV 3/3; 24/24] START model__C=1, model__class_weight=balanced, model__solver=saga\n",
      "[CV 3/3; 24/24] END model__C=1, model__class_weight=balanced, model__solver=saga;, score=0.315 total time=   0.1s\n",
      "[CV 1/3; 2/24] START model__C=1e-05, model__class_weight=None, model__solver=saga\n",
      "[CV 1/3; 2/24] END model__C=1e-05, model__class_weight=None, model__solver=saga;, score=0.000 total time=   0.7s\n",
      "[CV 1/3; 8/24] START model__C=0.0001, model__class_weight=balanced, model__solver=saga\n",
      "[CV 1/3; 8/24] END model__C=0.0001, model__class_weight=balanced, model__solver=saga;, score=0.345 total time=   0.2s\n",
      "[CV 3/3; 9/24] START model__C=0.001, model__class_weight=None, model__solver=sag\n",
      "[CV 3/3; 9/24] END model__C=0.001, model__class_weight=None, model__solver=sag;, score=0.116 total time=   0.3s\n",
      "[CV 3/3; 12/24] START model__C=0.001, model__class_weight=balanced, model__solver=saga\n",
      "[CV 3/3; 12/24] END model__C=0.001, model__class_weight=balanced, model__solver=saga;, score=0.302 total time=   0.2s\n",
      "[CV 1/3; 15/24] START model__C=0.01, model__class_weight=balanced, model__solver=sag\n",
      "[CV 1/3; 15/24] END model__C=0.01, model__class_weight=balanced, model__solver=sag;, score=0.309 total time=   0.4s\n",
      "[CV 2/3; 16/24] START model__C=0.01, model__class_weight=balanced, model__solver=saga\n",
      "[CV 2/3; 16/24] END model__C=0.01, model__class_weight=balanced, model__solver=saga;, score=0.313 total time=   0.7s\n",
      "[CV 1/3; 19/24] START model__C=0.1, model__class_weight=balanced, model__solver=sag\n",
      "[CV 1/3; 19/24] END model__C=0.1, model__class_weight=balanced, model__solver=sag;, score=0.286 total time=   0.8s\n",
      "[CV 1/3; 21/24] START model__C=1, model__class_weight=None, model__solver=sag...\n",
      "[CV 1/3; 21/24] END model__C=1, model__class_weight=None, model__solver=sag;, score=0.084 total time=   1.1s\n",
      "[CV 3/3; 23/24] START model__C=1, model__class_weight=balanced, model__solver=sag\n",
      "[CV 3/3; 23/24] END model__C=1, model__class_weight=balanced, model__solver=sag;, score=0.239 total time=   1.0s\n",
      "[CV 3/3; 1/24] START model__C=1e-05, model__class_weight=None, model__solver=sag\n",
      "[CV 3/3; 1/24] END model__C=1e-05, model__class_weight=None, model__solver=sag;, score=0.306 total time=   3.0s\n",
      "[CV 2/3; 5/24] START model__C=0.0001, model__class_weight=None, model__solver=sag\n",
      "[CV 2/3; 5/24] END model__C=0.0001, model__class_weight=None, model__solver=sag;, score=0.303 total time=   3.1s\n",
      "[CV 1/3; 8/24] START model__C=0.0001, model__class_weight=balanced, model__solver=saga\n",
      "[CV 1/3; 8/24] END model__C=0.0001, model__class_weight=balanced, model__solver=saga;, score=0.294 total time=   3.6s\n",
      "[CV 3/3; 10/24] START model__C=0.001, model__class_weight=None, model__solver=saga\n",
      "[CV 3/3; 10/24] END model__C=0.001, model__class_weight=None, model__solver=saga;, score=0.232 total time=   8.5s\n",
      "[CV 2/3; 13/24] START model__C=0.01, model__class_weight=None, model__solver=sag\n",
      "[CV 2/3; 13/24] END model__C=0.01, model__class_weight=None, model__solver=sag;, score=0.232 total time=  10.2s\n",
      "[CV 3/3; 15/24] START model__C=0.01, model__class_weight=balanced, model__solver=sag\n",
      "[CV 3/3; 15/24] END model__C=0.01, model__class_weight=balanced, model__solver=sag;, score=0.215 total time=  11.2s\n",
      "[CV 2/3; 18/24] START model__C=0.1, model__class_weight=None, model__solver=saga\n",
      "[CV 2/3; 18/24] END model__C=0.1, model__class_weight=None, model__solver=saga;, score=0.250 total time=  12.6s\n",
      "[CV 1/3; 21/24] START model__C=1, model__class_weight=None, model__solver=sag...\n",
      "[CV 1/3; 21/24] END model__C=1, model__class_weight=None, model__solver=sag;, score=0.162 total time=  11.1s\n",
      "[CV 1/3; 23/24] START model__C=1, model__class_weight=balanced, model__solver=sag\n",
      "[CV 1/3; 23/24] END model__C=1, model__class_weight=balanced, model__solver=sag;, score=0.265 total time=  11.9s\n",
      "[CV 2/3; 1/24] START model__C=1e-05, model__class_weight=None, model__solver=sag\n",
      "[CV 2/3; 1/24] END model__C=1e-05, model__class_weight=None, model__solver=sag;, score=0.000 total time=   0.0s\n",
      "[CV 3/3; 3/24] START model__C=1e-05, model__class_weight=balanced, model__solver=sag\n",
      "[CV 3/3; 3/24] END model__C=1e-05, model__class_weight=balanced, model__solver=sag;, score=0.340 total time=   0.0s\n",
      "[CV 1/3; 5/24] START model__C=0.0001, model__class_weight=None, model__solver=sag\n",
      "[CV 1/3; 5/24] END model__C=0.0001, model__class_weight=None, model__solver=sag;, score=0.000 total time=   0.0s\n",
      "[CV 2/3; 8/24] START model__C=0.0001, model__class_weight=balanced, model__solver=saga\n",
      "[CV 2/3; 8/24] END model__C=0.0001, model__class_weight=balanced, model__solver=saga;, score=0.336 total time=   0.0s\n",
      "[CV 3/3; 8/24] START model__C=0.0001, model__class_weight=balanced, model__solver=saga\n",
      "[CV 3/3; 8/24] END model__C=0.0001, model__class_weight=balanced, model__solver=saga;, score=0.338 total time=   0.0s\n",
      "[CV 3/3; 13/24] START model__C=0.01, model__class_weight=None, model__solver=sag\n",
      "[CV 3/3; 13/24] END model__C=0.01, model__class_weight=None, model__solver=sag;, score=0.069 total time=   0.0s\n",
      "[CV 1/3; 14/24] START model__C=0.01, model__class_weight=None, model__solver=saga\n",
      "[CV 1/3; 14/24] END model__C=0.01, model__class_weight=None, model__solver=saga;, score=0.036 total time=   0.0s\n",
      "[CV 1/3; 18/24] START model__C=0.1, model__class_weight=None, model__solver=saga\n",
      "[CV 1/3; 18/24] END model__C=0.1, model__class_weight=None, model__solver=saga;, score=0.083 total time=   0.0s\n",
      "[CV 1/3; 20/24] START model__C=0.1, model__class_weight=balanced, model__solver=saga\n",
      "[CV 1/3; 20/24] END model__C=0.1, model__class_weight=balanced, model__solver=saga;, score=0.330 total time=   0.0s\n",
      "[CV 3/3; 21/24] START model__C=1, model__class_weight=None, model__solver=sag...\n",
      "[CV 3/3; 21/24] END model__C=1, model__class_weight=None, model__solver=sag;, score=0.214 total time=   0.0s\n",
      "[CV 2/3; 22/24] START model__C=1, model__class_weight=None, model__solver=saga..\n",
      "[CV 2/3; 22/24] END model__C=1, model__class_weight=None, model__solver=saga;, score=0.134 total time=   0.0s\n",
      "[CV 2/3; 23/24] START model__C=1, model__class_weight=balanced, model__solver=sag\n",
      "[CV 2/3; 23/24] END model__C=1, model__class_weight=balanced, model__solver=sag;, score=0.349 total time=   0.2s\n",
      "[CV 2/3; 2/24] START model__C=1e-05, model__class_weight=None, model__solver=saga\n",
      "[CV 2/3; 2/24] END model__C=1e-05, model__class_weight=None, model__solver=saga;, score=0.000 total time=   2.7s\n",
      "[CV 2/3; 9/24] START model__C=0.001, model__class_weight=None, model__solver=sag\n",
      "[CV 2/3; 9/24] END model__C=0.001, model__class_weight=None, model__solver=sag;, score=0.091 total time=   1.4s\n",
      "[CV 1/3; 12/24] START model__C=0.001, model__class_weight=balanced, model__solver=saga\n",
      "[CV 1/3; 12/24] END model__C=0.001, model__class_weight=balanced, model__solver=saga;, score=0.336 total time=   1.6s\n",
      "[CV 3/3; 13/24] START model__C=0.01, model__class_weight=None, model__solver=sag\n"
     ]
    },
    {
     "name": "stderr",
     "output_type": "stream",
     "text": [
      "/opt/conda/lib/python3.9/site-packages/sklearn/linear_model/_sag.py:328: ConvergenceWarning: The max_iter was reached which means the coef_ did not converge\n",
      "  warnings.warn(\"The max_iter was reached which means \"\n",
      "/opt/conda/lib/python3.9/site-packages/sklearn/linear_model/_sag.py:328: ConvergenceWarning: The max_iter was reached which means the coef_ did not converge\n",
      "  warnings.warn(\"The max_iter was reached which means \"\n",
      "/opt/conda/lib/python3.9/site-packages/sklearn/linear_model/_sag.py:328: ConvergenceWarning: The max_iter was reached which means the coef_ did not converge\n",
      "  warnings.warn(\"The max_iter was reached which means \"\n",
      "/opt/conda/lib/python3.9/site-packages/sklearn/linear_model/_sag.py:328: ConvergenceWarning: The max_iter was reached which means the coef_ did not converge\n",
      "  warnings.warn(\"The max_iter was reached which means \"\n",
      "/opt/conda/lib/python3.9/site-packages/sklearn/linear_model/_sag.py:328: ConvergenceWarning: The max_iter was reached which means the coef_ did not converge\n",
      "  warnings.warn(\"The max_iter was reached which means \"\n",
      "/opt/conda/lib/python3.9/site-packages/sklearn/linear_model/_sag.py:328: ConvergenceWarning: The max_iter was reached which means the coef_ did not converge\n",
      "  warnings.warn(\"The max_iter was reached which means \"\n",
      "/opt/conda/lib/python3.9/site-packages/sklearn/linear_model/_sag.py:328: ConvergenceWarning: The max_iter was reached which means the coef_ did not converge\n",
      "  warnings.warn(\"The max_iter was reached which means \"\n",
      "/opt/conda/lib/python3.9/site-packages/sklearn/linear_model/_sag.py:328: ConvergenceWarning: The max_iter was reached which means the coef_ did not converge\n",
      "  warnings.warn(\"The max_iter was reached which means \"\n",
      "/opt/conda/lib/python3.9/site-packages/sklearn/linear_model/_sag.py:328: ConvergenceWarning: The max_iter was reached which means the coef_ did not converge\n",
      "  warnings.warn(\"The max_iter was reached which means \"\n",
      "/opt/conda/lib/python3.9/site-packages/sklearn/linear_model/_sag.py:328: ConvergenceWarning: The max_iter was reached which means the coef_ did not converge\n",
      "  warnings.warn(\"The max_iter was reached which means \"\n",
      "/opt/conda/lib/python3.9/site-packages/sklearn/linear_model/_sag.py:328: ConvergenceWarning: The max_iter was reached which means the coef_ did not converge\n",
      "  warnings.warn(\"The max_iter was reached which means \"\n",
      "/opt/conda/lib/python3.9/site-packages/sklearn/linear_model/_sag.py:328: ConvergenceWarning: The max_iter was reached which means the coef_ did not converge\n",
      "  warnings.warn(\"The max_iter was reached which means \"\n",
      "/opt/conda/lib/python3.9/site-packages/sklearn/linear_model/_sag.py:328: ConvergenceWarning: The max_iter was reached which means the coef_ did not converge\n",
      "  warnings.warn(\"The max_iter was reached which means \"\n",
      "/opt/conda/lib/python3.9/site-packages/sklearn/linear_model/_sag.py:328: ConvergenceWarning: The max_iter was reached which means the coef_ did not converge\n",
      "  warnings.warn(\"The max_iter was reached which means \"\n",
      "/opt/conda/lib/python3.9/site-packages/sklearn/linear_model/_sag.py:328: ConvergenceWarning: The max_iter was reached which means the coef_ did not converge\n",
      "  warnings.warn(\"The max_iter was reached which means \"\n",
      "/opt/conda/lib/python3.9/site-packages/sklearn/linear_model/_sag.py:328: ConvergenceWarning: The max_iter was reached which means the coef_ did not converge\n",
      "  warnings.warn(\"The max_iter was reached which means \"\n",
      "/opt/conda/lib/python3.9/site-packages/sklearn/linear_model/_sag.py:328: ConvergenceWarning: The max_iter was reached which means the coef_ did not converge\n",
      "  warnings.warn(\"The max_iter was reached which means \"\n",
      "/opt/conda/lib/python3.9/site-packages/sklearn/linear_model/_sag.py:328: ConvergenceWarning: The max_iter was reached which means the coef_ did not converge\n",
      "  warnings.warn(\"The max_iter was reached which means \"\n",
      "/opt/conda/lib/python3.9/site-packages/sklearn/linear_model/_sag.py:328: ConvergenceWarning: The max_iter was reached which means the coef_ did not converge\n",
      "  warnings.warn(\"The max_iter was reached which means \"\n",
      "/opt/conda/lib/python3.9/site-packages/sklearn/linear_model/_sag.py:328: ConvergenceWarning: The max_iter was reached which means the coef_ did not converge\n",
      "  warnings.warn(\"The max_iter was reached which means \"\n",
      "/opt/conda/lib/python3.9/site-packages/sklearn/linear_model/_sag.py:328: ConvergenceWarning: The max_iter was reached which means the coef_ did not converge\n",
      "  warnings.warn(\"The max_iter was reached which means \"\n",
      "/opt/conda/lib/python3.9/site-packages/sklearn/linear_model/_sag.py:328: ConvergenceWarning: The max_iter was reached which means the coef_ did not converge\n",
      "  warnings.warn(\"The max_iter was reached which means \"\n"
     ]
    },
    {
     "name": "stdout",
     "output_type": "stream",
     "text": [
      "[CV 3/3; 1/24] START model__C=1e-05, model__class_weight=None, model__solver=sag\n",
      "[CV 3/3; 1/24] END model__C=1e-05, model__class_weight=None, model__solver=sag;, score=0.000 total time=   0.0s\n",
      "[CV 3/3; 17/24] START model__C=0.1, model__class_weight=None, model__solver=sag.\n",
      "[CV 3/3; 17/24] END model__C=0.1, model__class_weight=None, model__solver=sag;, score=0.203 total time=   0.0s\n",
      "[CV 1/3; 18/24] START model__C=0.1, model__class_weight=None, model__solver=saga\n",
      "[CV 1/3; 18/24] END model__C=0.1, model__class_weight=None, model__solver=saga;, score=0.083 total time=   0.0s\n",
      "[CV 2/3; 22/24] START model__C=1, model__class_weight=None, model__solver=saga..\n",
      "[CV 2/3; 22/24] END model__C=1, model__class_weight=None, model__solver=saga;, score=0.136 total time=   0.0s\n",
      "[CV 3/3; 22/24] START model__C=1, model__class_weight=None, model__solver=saga..\n",
      "[CV 3/3; 22/24] END model__C=1, model__class_weight=None, model__solver=saga;, score=0.214 total time=   0.0s\n",
      "[CV 3/3; 23/24] START model__C=1, model__class_weight=balanced, model__solver=sag\n",
      "[CV 3/3; 23/24] END model__C=1, model__class_weight=balanced, model__solver=sag;, score=0.320 total time=   0.2s\n",
      "[CV 2/3; 3/24] START model__C=1e-05, model__class_weight=balanced, model__solver=sag\n",
      "[CV 2/3; 3/24] END model__C=1e-05, model__class_weight=balanced, model__solver=sag;, score=0.343 total time=   0.2s\n",
      "[CV 2/3; 4/24] START model__C=1e-05, model__class_weight=balanced, model__solver=saga\n",
      "[CV 2/3; 4/24] END model__C=1e-05, model__class_weight=balanced, model__solver=saga;, score=0.336 total time=   0.2s\n",
      "[CV 2/3; 6/24] START model__C=0.0001, model__class_weight=None, model__solver=saga\n",
      "[CV 2/3; 6/24] END model__C=0.0001, model__class_weight=None, model__solver=saga;, score=0.000 total time=   0.4s\n",
      "[CV 3/3; 10/24] START model__C=0.001, model__class_weight=None, model__solver=saga\n",
      "[CV 3/3; 10/24] END model__C=0.001, model__class_weight=None, model__solver=saga;, score=0.159 total time=   0.5s\n",
      "[CV 2/3; 14/24] START model__C=0.01, model__class_weight=None, model__solver=saga\n",
      "[CV 2/3; 14/24] END model__C=0.01, model__class_weight=None, model__solver=saga;, score=0.143 total time=   0.7s\n",
      "[CV 1/3; 18/24] START model__C=0.1, model__class_weight=None, model__solver=saga\n",
      "[CV 1/3; 18/24] END model__C=0.1, model__class_weight=None, model__solver=saga;, score=0.087 total time=   1.3s\n",
      "[CV 3/3; 21/24] START model__C=1, model__class_weight=None, model__solver=sag...\n",
      "[CV 3/3; 21/24] END model__C=1, model__class_weight=None, model__solver=sag;, score=0.179 total time=   1.2s\n",
      "[CV 2/3; 24/24] START model__C=1, model__class_weight=balanced, model__solver=saga\n",
      "[CV 2/3; 24/24] END model__C=1, model__class_weight=balanced, model__solver=saga;, score=0.292 total time=   1.3s\n",
      "[CV 1/3; 3/24] START model__C=1e-05, model__class_weight=balanced, model__solver=sag\n",
      "[CV 1/3; 3/24] END model__C=1e-05, model__class_weight=balanced, model__solver=sag;, score=0.326 total time=   2.6s\n",
      "[CV 1/3; 4/24] START model__C=1e-05, model__class_weight=balanced, model__solver=saga\n",
      "[CV 1/3; 4/24] END model__C=1e-05, model__class_weight=balanced, model__solver=saga;, score=0.319 total time=   2.5s\n",
      "[CV 3/3; 6/24] START model__C=0.0001, model__class_weight=None, model__solver=saga\n",
      "[CV 3/3; 6/24] END model__C=0.0001, model__class_weight=None, model__solver=saga;, score=0.310 total time=   4.6s\n",
      "[CV 2/3; 10/24] START model__C=0.001, model__class_weight=None, model__solver=saga\n",
      "[CV 2/3; 10/24] END model__C=0.001, model__class_weight=None, model__solver=saga;, score=0.284 total time=   8.6s\n",
      "[CV 3/3; 13/24] START model__C=0.01, model__class_weight=None, model__solver=sag\n",
      "[CV 3/3; 13/24] END model__C=0.01, model__class_weight=None, model__solver=sag;, score=0.227 total time=  10.2s\n",
      "[CV 1/3; 16/24] START model__C=0.01, model__class_weight=balanced, model__solver=saga\n",
      "[CV 1/3; 16/24] END model__C=0.01, model__class_weight=balanced, model__solver=saga;, score=0.277 total time=  14.2s\n",
      "[CV 3/3; 18/24] START model__C=0.1, model__class_weight=None, model__solver=saga\n",
      "[CV 3/3; 18/24] END model__C=0.1, model__class_weight=None, model__solver=saga;, score=0.234 total time=  13.1s\n",
      "[CV 2/3; 21/24] START model__C=1, model__class_weight=None, model__solver=sag...\n",
      "[CV 2/3; 21/24] END model__C=1, model__class_weight=None, model__solver=sag;, score=0.226 total time=  11.7s\n",
      "[CV 1/3; 24/24] START model__C=1, model__class_weight=balanced, model__solver=saga\n",
      "[CV 1/3; 24/24] END model__C=1, model__class_weight=balanced, model__solver=saga;, score=0.277 total time=  16.2s\n",
      "[CV 3/3; 2/24] START model__C=1e-05, model__class_weight=None, model__solver=saga\n",
      "[CV 3/3; 2/24] END model__C=1e-05, model__class_weight=None, model__solver=saga;, score=0.000 total time=   0.0s\n",
      "[CV 2/3; 5/24] START model__C=0.0001, model__class_weight=None, model__solver=sag\n",
      "[CV 2/3; 5/24] END model__C=0.0001, model__class_weight=None, model__solver=sag;, score=0.000 total time=   0.0s\n",
      "[CV 3/3; 9/24] START model__C=0.001, model__class_weight=None, model__solver=sag\n",
      "[CV 3/3; 9/24] END model__C=0.001, model__class_weight=None, model__solver=sag;, score=0.000 total time=   0.0s\n",
      "[CV 1/3; 10/24] START model__C=0.001, model__class_weight=None, model__solver=saga\n",
      "[CV 1/3; 10/24] END model__C=0.001, model__class_weight=None, model__solver=saga;, score=0.000 total time=   0.0s\n",
      "[CV 1/3; 13/24] START model__C=0.01, model__class_weight=None, model__solver=sag\n",
      "[CV 1/3; 13/24] END model__C=0.01, model__class_weight=None, model__solver=sag;, score=0.036 total time=   0.0s\n",
      "[CV 2/3; 13/24] START model__C=0.01, model__class_weight=None, model__solver=sag\n",
      "[CV 2/3; 13/24] END model__C=0.01, model__class_weight=None, model__solver=sag;, score=0.090 total time=   0.0s\n",
      "[CV 3/3; 17/24] START model__C=0.1, model__class_weight=None, model__solver=sag.\n",
      "[CV 3/3; 17/24] END model__C=0.1, model__class_weight=None, model__solver=sag;, score=0.203 total time=   0.0s\n",
      "[CV 2/3; 19/24] START model__C=0.1, model__class_weight=balanced, model__solver=sag\n",
      "[CV 2/3; 19/24] END model__C=0.1, model__class_weight=balanced, model__solver=sag;, score=0.343 total time=   0.2s\n",
      "[CV 2/3; 24/24] START model__C=1, model__class_weight=balanced, model__solver=saga\n",
      "[CV 2/3; 24/24] END model__C=1, model__class_weight=balanced, model__solver=saga;, score=0.350 total time=   0.2s\n",
      "[CV 1/3; 3/24] START model__C=1e-05, model__class_weight=balanced, model__solver=sag\n",
      "[CV 1/3; 3/24] END model__C=1e-05, model__class_weight=balanced, model__solver=sag;, score=0.323 total time=   0.3s\n",
      "[CV 3/3; 3/24] START model__C=1e-05, model__class_weight=balanced, model__solver=sag\n",
      "[CV 3/3; 3/24] END model__C=1e-05, model__class_weight=balanced, model__solver=sag;, score=0.336 total time=   0.3s\n",
      "[CV 2/3; 4/24] START model__C=1e-05, model__class_weight=balanced, model__solver=saga\n",
      "[CV 2/3; 4/24] END model__C=1e-05, model__class_weight=balanced, model__solver=saga;, score=0.342 total time=   1.0s\n",
      "[CV 3/3; 6/24] START model__C=0.0001, model__class_weight=None, model__solver=saga\n",
      "[CV 3/3; 6/24] END model__C=0.0001, model__class_weight=None, model__solver=saga;, score=0.000 total time=   2.5s\n",
      "[CV 2/3; 11/24] START model__C=0.001, model__class_weight=balanced, model__solver=sag\n",
      "[CV 2/3; 11/24] END model__C=0.001, model__class_weight=balanced, model__solver=sag;, score=0.335 total time=   0.7s\n",
      "[CV 1/3; 13/24] START model__C=0.01, model__class_weight=None, model__solver=sag\n",
      "[CV 1/3; 13/24] END model__C=0.01, model__class_weight=None, model__solver=sag;, score=0.047 total time=   2.3s\n",
      "[CV 3/3; 15/24] START model__C=0.01, model__class_weight=balanced, model__solver=sag\n",
      "[CV 3/3; 15/24] END model__C=0.01, model__class_weight=balanced, model__solver=sag;, score=0.259 total time=   1.9s\n",
      "[CV 2/3; 17/24] START model__C=0.1, model__class_weight=None, model__solver=sag.\n",
      "[CV 2/3; 17/24] END model__C=0.1, model__class_weight=None, model__solver=sag;, score=0.141 total time=   2.9s\n",
      "[CV 3/3; 19/24] START model__C=0.1, model__class_weight=balanced, model__solver=sag\n",
      "[CV 3/3; 19/24] END model__C=0.1, model__class_weight=balanced, model__solver=sag;, score=0.233 total time=   2.9s\n",
      "[CV 1/3; 22/24] START model__C=1, model__class_weight=None, model__solver=saga..\n"
     ]
    },
    {
     "name": "stderr",
     "output_type": "stream",
     "text": [
      "/opt/conda/lib/python3.9/site-packages/sklearn/linear_model/_sag.py:328: ConvergenceWarning: The max_iter was reached which means the coef_ did not converge\n",
      "  warnings.warn(\"The max_iter was reached which means \"\n",
      "/opt/conda/lib/python3.9/site-packages/sklearn/linear_model/_sag.py:328: ConvergenceWarning: The max_iter was reached which means the coef_ did not converge\n",
      "  warnings.warn(\"The max_iter was reached which means \"\n",
      "/opt/conda/lib/python3.9/site-packages/sklearn/linear_model/_sag.py:328: ConvergenceWarning: The max_iter was reached which means the coef_ did not converge\n",
      "  warnings.warn(\"The max_iter was reached which means \"\n",
      "/opt/conda/lib/python3.9/site-packages/sklearn/linear_model/_sag.py:328: ConvergenceWarning: The max_iter was reached which means the coef_ did not converge\n",
      "  warnings.warn(\"The max_iter was reached which means \"\n",
      "/opt/conda/lib/python3.9/site-packages/sklearn/linear_model/_sag.py:328: ConvergenceWarning: The max_iter was reached which means the coef_ did not converge\n",
      "  warnings.warn(\"The max_iter was reached which means \"\n",
      "/opt/conda/lib/python3.9/site-packages/sklearn/linear_model/_sag.py:328: ConvergenceWarning: The max_iter was reached which means the coef_ did not converge\n",
      "  warnings.warn(\"The max_iter was reached which means \"\n",
      "/opt/conda/lib/python3.9/site-packages/sklearn/linear_model/_sag.py:328: ConvergenceWarning: The max_iter was reached which means the coef_ did not converge\n",
      "  warnings.warn(\"The max_iter was reached which means \"\n",
      "/opt/conda/lib/python3.9/site-packages/sklearn/linear_model/_sag.py:328: ConvergenceWarning: The max_iter was reached which means the coef_ did not converge\n",
      "  warnings.warn(\"The max_iter was reached which means \"\n"
     ]
    },
    {
     "name": "stdout",
     "output_type": "stream",
     "text": [
      "Fitting 3 folds for each of 24 candidates, totalling 72 fits\n",
      "[CV 3/3; 2/24] START model__C=1e-05, model__class_weight=None, model__solver=saga\n",
      "[CV 3/3; 2/24] END model__C=1e-05, model__class_weight=None, model__solver=saga;, score=0.000 total time=   0.0s\n",
      "[CV 2/3; 18/24] START model__C=0.1, model__class_weight=None, model__solver=saga\n",
      "[CV 2/3; 18/24] END model__C=0.1, model__class_weight=None, model__solver=saga;, score=0.137 total time=   0.0s\n",
      "[CV 3/3; 18/24] START model__C=0.1, model__class_weight=None, model__solver=saga\n",
      "[CV 3/3; 18/24] END model__C=0.1, model__class_weight=None, model__solver=saga;, score=0.203 total time=   0.0s\n",
      "[CV 3/3; 21/24] START model__C=1, model__class_weight=None, model__solver=sag...\n",
      "[CV 3/3; 21/24] END model__C=1, model__class_weight=None, model__solver=sag;, score=0.214 total time=   0.0s\n",
      "[CV 1/3; 22/24] START model__C=1, model__class_weight=None, model__solver=saga..\n",
      "[CV 1/3; 22/24] END model__C=1, model__class_weight=None, model__solver=saga;, score=0.082 total time=   0.0s\n",
      "[CV 1/3; 23/24] START model__C=1, model__class_weight=balanced, model__solver=sag\n",
      "[CV 1/3; 23/24] END model__C=1, model__class_weight=balanced, model__solver=sag;, score=0.328 total time=   0.0s\n",
      "[CV 2/3; 1/24] START model__C=1e-05, model__class_weight=None, model__solver=sag\n",
      "[CV 2/3; 1/24] END model__C=1e-05, model__class_weight=None, model__solver=sag;, score=0.000 total time=   0.2s\n",
      "[CV 1/3; 5/24] START model__C=0.0001, model__class_weight=None, model__solver=sag\n",
      "[CV 1/3; 5/24] END model__C=0.0001, model__class_weight=None, model__solver=sag;, score=0.000 total time=   0.2s\n",
      "[CV 3/3; 6/24] START model__C=0.0001, model__class_weight=None, model__solver=saga\n",
      "[CV 3/3; 6/24] END model__C=0.0001, model__class_weight=None, model__solver=saga;, score=0.019 total time=   0.4s\n",
      "[CV 1/3; 10/24] START model__C=0.001, model__class_weight=None, model__solver=saga\n",
      "[CV 1/3; 10/24] END model__C=0.001, model__class_weight=None, model__solver=saga;, score=0.081 total time=   0.4s\n",
      "[CV 1/3; 13/24] START model__C=0.01, model__class_weight=None, model__solver=sag\n",
      "[CV 1/3; 13/24] END model__C=0.01, model__class_weight=None, model__solver=sag;, score=0.047 total time=   0.4s\n",
      "[CV 3/3; 15/24] START model__C=0.01, model__class_weight=balanced, model__solver=sag\n",
      "[CV 3/3; 15/24] END model__C=0.01, model__class_weight=balanced, model__solver=sag;, score=0.251 total time=   0.5s\n",
      "[CV 2/3; 18/24] START model__C=0.1, model__class_weight=None, model__solver=saga\n",
      "[CV 2/3; 18/24] END model__C=0.1, model__class_weight=None, model__solver=saga;, score=0.146 total time=   1.1s\n",
      "[CV 3/3; 20/24] START model__C=0.1, model__class_weight=balanced, model__solver=saga\n",
      "[CV 3/3; 20/24] END model__C=0.1, model__class_weight=balanced, model__solver=saga;, score=0.251 total time=   1.1s\n",
      "[CV 1/3; 23/24] START model__C=1, model__class_weight=balanced, model__solver=sag\n",
      "[CV 1/3; 23/24] END model__C=1, model__class_weight=balanced, model__solver=sag;, score=0.283 total time=   1.0s\n",
      "[CV 1/3; 1/24] START model__C=1e-05, model__class_weight=None, model__solver=sag\n",
      "[CV 1/3; 1/24] END model__C=1e-05, model__class_weight=None, model__solver=sag;, score=0.235 total time=   3.1s\n",
      "[CV 3/3; 5/24] START model__C=0.0001, model__class_weight=None, model__solver=sag\n",
      "[CV 3/3; 5/24] END model__C=0.0001, model__class_weight=None, model__solver=sag;, score=0.278 total time=   3.4s\n",
      "[CV 2/3; 8/24] START model__C=0.0001, model__class_weight=balanced, model__solver=saga\n",
      "[CV 2/3; 8/24] END model__C=0.0001, model__class_weight=balanced, model__solver=saga;, score=0.320 total time=   3.9s\n",
      "[CV 1/3; 11/24] START model__C=0.001, model__class_weight=balanced, model__solver=sag\n",
      "[CV 1/3; 11/24] END model__C=0.001, model__class_weight=balanced, model__solver=sag;, score=0.290 total time=   6.9s\n",
      "[CV 3/3; 12/24] START model__C=0.001, model__class_weight=balanced, model__solver=saga\n",
      "[CV 3/3; 12/24] END model__C=0.001, model__class_weight=balanced, model__solver=saga;, score=0.242 total time=   9.4s\n",
      "[CV 2/3; 15/24] START model__C=0.01, model__class_weight=balanced, model__solver=sag\n",
      "[CV 2/3; 15/24] END model__C=0.01, model__class_weight=balanced, model__solver=sag;, score=0.294 total time=  12.2s\n",
      "[CV 1/3; 18/24] START model__C=0.1, model__class_weight=None, model__solver=saga\n",
      "[CV 1/3; 18/24] END model__C=0.1, model__class_weight=None, model__solver=saga;, score=0.223 total time=  12.7s\n",
      "[CV 3/3; 20/24] START model__C=0.1, model__class_weight=balanced, model__solver=saga\n",
      "[CV 3/3; 20/24] END model__C=0.1, model__class_weight=balanced, model__solver=saga;, score=0.220 total time=  14.5s\n",
      "[CV 3/3; 23/24] START model__C=1, model__class_weight=balanced, model__solver=sag\n",
      "[CV 3/3; 23/24] END model__C=1, model__class_weight=balanced, model__solver=sag;, score=0.214 total time=  11.4s\n",
      "[CV 2/3; 2/24] START model__C=1e-05, model__class_weight=None, model__solver=saga\n",
      "[CV 2/3; 2/24] END model__C=1e-05, model__class_weight=None, model__solver=saga;, score=0.000 total time=   0.0s\n",
      "[CV 1/3; 6/24] START model__C=0.0001, model__class_weight=None, model__solver=saga\n",
      "[CV 1/3; 6/24] END model__C=0.0001, model__class_weight=None, model__solver=saga;, score=0.000 total time=   0.0s\n",
      "[CV 1/3; 11/24] START model__C=0.001, model__class_weight=balanced, model__solver=sag\n",
      "[CV 1/3; 11/24] END model__C=0.001, model__class_weight=balanced, model__solver=sag;, score=0.322 total time=   0.0s\n",
      "[CV 2/3; 11/24] START model__C=0.001, model__class_weight=balanced, model__solver=sag\n",
      "[CV 2/3; 11/24] END model__C=0.001, model__class_weight=balanced, model__solver=sag;, score=0.339 total time=   0.0s\n",
      "[CV 3/3; 15/24] START model__C=0.01, model__class_weight=balanced, model__solver=sag\n",
      "[CV 3/3; 15/24] END model__C=0.01, model__class_weight=balanced, model__solver=sag;, score=0.312 total time=   0.1s\n",
      "[CV 1/3; 16/24] START model__C=0.01, model__class_weight=balanced, model__solver=saga\n",
      "[CV 1/3; 16/24] END model__C=0.01, model__class_weight=balanced, model__solver=saga;, score=0.350 total time=   0.0s\n",
      "[CV 2/3; 21/24] START model__C=1, model__class_weight=None, model__solver=sag...\n",
      "[CV 2/3; 21/24] END model__C=1, model__class_weight=None, model__solver=sag;, score=0.134 total time=   0.0s\n",
      "[CV 1/3; 22/24] START model__C=1, model__class_weight=None, model__solver=saga..\n",
      "[CV 1/3; 22/24] END model__C=1, model__class_weight=None, model__solver=saga;, score=0.082 total time=   0.1s\n",
      "[CV 1/3; 24/24] START model__C=1, model__class_weight=balanced, model__solver=saga\n",
      "[CV 1/3; 24/24] END model__C=1, model__class_weight=balanced, model__solver=saga;, score=0.326 total time=   0.1s\n",
      "[CV 1/3; 2/24] START model__C=1e-05, model__class_weight=None, model__solver=saga\n",
      "[CV 1/3; 2/24] END model__C=1e-05, model__class_weight=None, model__solver=saga;, score=0.000 total time=   2.5s\n",
      "[CV 3/3; 8/24] START model__C=0.0001, model__class_weight=balanced, model__solver=saga\n",
      "[CV 3/3; 8/24] END model__C=0.0001, model__class_weight=balanced, model__solver=saga;, score=0.321 total time=   1.1s\n",
      "[CV 2/3; 10/24] START model__C=0.001, model__class_weight=None, model__solver=saga\n",
      "[CV 2/3; 10/24] END model__C=0.001, model__class_weight=None, model__solver=saga;, score=0.091 total time=   3.2s\n",
      "[CV 1/3; 15/24] START model__C=0.01, model__class_weight=balanced, model__solver=sag\n",
      "[CV 1/3; 15/24] END model__C=0.01, model__class_weight=balanced, model__solver=sag;, score=0.312 total time=   1.5s\n",
      "[CV 2/3; 16/24] START model__C=0.01, model__class_weight=balanced, model__solver=saga\n",
      "[CV 2/3; 16/24] END model__C=0.01, model__class_weight=balanced, model__solver=saga;, score=0.310 total time=   3.1s\n",
      "[CV 1/3; 19/24] START model__C=0.1, model__class_weight=balanced, model__solver=sag\n",
      "[CV 1/3; 19/24] END model__C=0.1, model__class_weight=balanced, model__solver=sag;, score=0.290 total time=   2.9s\n",
      "[CV 3/3; 21/24] START model__C=1, model__class_weight=None, model__solver=sag...\n",
      "[CV 3/3; 21/24] END model__C=1, model__class_weight=None, model__solver=sag;, score=0.179 total time=   2.8s\n",
      "[CV 2/3; 24/24] START model__C=1, model__class_weight=balanced, model__solver=saga\n",
      "[CV 2/3; 24/24] END model__C=1, model__class_weight=balanced, model__solver=saga;, score=0.285 total time=   2.9s\n",
      "[CV 1/3; 3/24] START model__C=1e-05, model__class_weight=balanced, model__solver=sag\n"
     ]
    },
    {
     "name": "stderr",
     "output_type": "stream",
     "text": [
      "/opt/conda/lib/python3.9/site-packages/sklearn/linear_model/_sag.py:328: ConvergenceWarning: The max_iter was reached which means the coef_ did not converge\n",
      "  warnings.warn(\"The max_iter was reached which means \"\n",
      "/opt/conda/lib/python3.9/site-packages/sklearn/linear_model/_sag.py:328: ConvergenceWarning: The max_iter was reached which means the coef_ did not converge\n",
      "  warnings.warn(\"The max_iter was reached which means \"\n",
      "/opt/conda/lib/python3.9/site-packages/sklearn/linear_model/_sag.py:328: ConvergenceWarning: The max_iter was reached which means the coef_ did not converge\n",
      "  warnings.warn(\"The max_iter was reached which means \"\n"
     ]
    },
    {
     "name": "stdout",
     "output_type": "stream",
     "text": [
      "[CV 2/3; 2/24] START model__C=1e-05, model__class_weight=None, model__solver=saga\n",
      "[CV 2/3; 2/24] END model__C=1e-05, model__class_weight=None, model__solver=saga;, score=0.000 total time=   0.0s\n",
      "[CV 1/3; 17/24] START model__C=0.1, model__class_weight=None, model__solver=sag.\n",
      "[CV 1/3; 17/24] END model__C=0.1, model__class_weight=None, model__solver=sag;, score=0.083 total time=   0.0s\n",
      "[CV 2/3; 17/24] START model__C=0.1, model__class_weight=None, model__solver=sag.\n",
      "[CV 2/3; 17/24] END model__C=0.1, model__class_weight=None, model__solver=sag;, score=0.137 total time=   0.0s\n",
      "[CV 1/3; 21/24] START model__C=1, model__class_weight=None, model__solver=sag...\n",
      "[CV 1/3; 21/24] END model__C=1, model__class_weight=None, model__solver=sag;, score=0.082 total time=   0.0s\n",
      "[CV 2/3; 21/24] START model__C=1, model__class_weight=None, model__solver=sag...\n",
      "[CV 2/3; 21/24] END model__C=1, model__class_weight=None, model__solver=sag;, score=0.134 total time=   0.0s\n",
      "[CV 2/3; 23/24] START model__C=1, model__class_weight=balanced, model__solver=sag\n",
      "[CV 2/3; 23/24] END model__C=1, model__class_weight=balanced, model__solver=sag;, score=0.349 total time=   0.2s\n",
      "[CV 1/3; 3/24] START model__C=1e-05, model__class_weight=balanced, model__solver=sag\n",
      "[CV 1/3; 3/24] END model__C=1e-05, model__class_weight=balanced, model__solver=sag;, score=0.323 total time=   0.2s\n",
      "[CV 3/3; 3/24] START model__C=1e-05, model__class_weight=balanced, model__solver=sag\n",
      "[CV 3/3; 3/24] END model__C=1e-05, model__class_weight=balanced, model__solver=sag;, score=0.333 total time=   0.2s\n",
      "[CV 2/3; 5/24] START model__C=0.0001, model__class_weight=None, model__solver=sag\n",
      "[CV 2/3; 5/24] END model__C=0.0001, model__class_weight=None, model__solver=sag;, score=0.000 total time=   0.3s\n",
      "[CV 2/3; 7/24] START model__C=0.0001, model__class_weight=balanced, model__solver=sag\n",
      "[CV 2/3; 7/24] END model__C=0.0001, model__class_weight=balanced, model__solver=sag;, score=0.344 total time=   0.2s\n",
      "[CV 2/3; 9/24] START model__C=0.001, model__class_weight=None, model__solver=sag\n",
      "[CV 2/3; 9/24] END model__C=0.001, model__class_weight=None, model__solver=sag;, score=0.089 total time=   0.3s\n",
      "[CV 2/3; 12/24] START model__C=0.001, model__class_weight=balanced, model__solver=saga\n",
      "[CV 2/3; 12/24] END model__C=0.001, model__class_weight=balanced, model__solver=saga;, score=0.349 total time=   0.3s\n",
      "[CV 2/3; 15/24] START model__C=0.01, model__class_weight=balanced, model__solver=sag\n",
      "[CV 2/3; 15/24] END model__C=0.01, model__class_weight=balanced, model__solver=sag;, score=0.319 total time=   0.5s\n",
      "[CV 2/3; 17/24] START model__C=0.1, model__class_weight=None, model__solver=sag.\n",
      "[CV 2/3; 17/24] END model__C=0.1, model__class_weight=None, model__solver=sag;, score=0.144 total time=   1.1s\n",
      "[CV 1/3; 20/24] START model__C=0.1, model__class_weight=balanced, model__solver=saga\n",
      "[CV 1/3; 20/24] END model__C=0.1, model__class_weight=balanced, model__solver=saga;, score=0.282 total time=   1.2s\n",
      "[CV 3/3; 22/24] START model__C=1, model__class_weight=None, model__solver=saga..\n",
      "[CV 3/3; 22/24] END model__C=1, model__class_weight=None, model__solver=saga;, score=0.179 total time=   1.4s\n",
      "[CV 3/3; 2/24] START model__C=1e-05, model__class_weight=None, model__solver=saga\n",
      "[CV 3/3; 2/24] END model__C=1e-05, model__class_weight=None, model__solver=saga;, score=0.338 total time=   3.4s\n",
      "[CV 1/3; 6/24] START model__C=0.0001, model__class_weight=None, model__solver=saga\n",
      "[CV 1/3; 6/24] END model__C=0.0001, model__class_weight=None, model__solver=saga;, score=0.300 total time=   3.7s\n",
      "[CV 3/3; 8/24] START model__C=0.0001, model__class_weight=balanced, model__solver=saga\n",
      "[CV 3/3; 8/24] END model__C=0.0001, model__class_weight=balanced, model__solver=saga;, score=0.276 total time=   3.7s\n",
      "[CV 2/3; 11/24] START model__C=0.001, model__class_weight=balanced, model__solver=sag\n",
      "[CV 2/3; 11/24] END model__C=0.001, model__class_weight=balanced, model__solver=sag;, score=0.313 total time=   7.8s\n",
      "[CV 1/3; 14/24] START model__C=0.01, model__class_weight=None, model__solver=saga\n",
      "[CV 1/3; 14/24] END model__C=0.01, model__class_weight=None, model__solver=saga;, score=0.221 total time=  12.9s\n",
      "[CV 3/3; 16/24] START model__C=0.01, model__class_weight=balanced, model__solver=saga\n",
      "[CV 3/3; 16/24] END model__C=0.01, model__class_weight=balanced, model__solver=saga;, score=0.220 total time=  14.2s\n",
      "[CV 3/3; 19/24] START model__C=0.1, model__class_weight=balanced, model__solver=sag\n",
      "[CV 3/3; 19/24] END model__C=0.1, model__class_weight=balanced, model__solver=sag;, score=0.213 total time=  12.7s\n",
      "[CV 2/3; 22/24] START model__C=1, model__class_weight=None, model__solver=saga..\n",
      "[CV 2/3; 22/24] END model__C=1, model__class_weight=None, model__solver=saga;, score=0.244 total time=  13.0s\n",
      "[CV 1/3; 1/24] START model__C=1e-05, model__class_weight=None, model__solver=sag\n",
      "[CV 1/3; 1/24] END model__C=1e-05, model__class_weight=None, model__solver=sag;, score=0.000 total time=   0.0s\n",
      "[CV 1/3; 4/24] START model__C=1e-05, model__class_weight=balanced, model__solver=saga\n",
      "[CV 1/3; 4/24] END model__C=1e-05, model__class_weight=balanced, model__solver=saga;, score=0.328 total time=   0.0s\n",
      "[CV 1/3; 7/24] START model__C=0.0001, model__class_weight=balanced, model__solver=sag\n",
      "[CV 1/3; 7/24] END model__C=0.0001, model__class_weight=balanced, model__solver=sag;, score=0.331 total time=   0.0s\n",
      "[CV 2/3; 7/24] START model__C=0.0001, model__class_weight=balanced, model__solver=sag\n",
      "[CV 2/3; 7/24] END model__C=0.0001, model__class_weight=balanced, model__solver=sag;, score=0.336 total time=   0.0s\n",
      "[CV 2/3; 12/24] START model__C=0.001, model__class_weight=balanced, model__solver=saga\n",
      "[CV 2/3; 12/24] END model__C=0.001, model__class_weight=balanced, model__solver=saga;, score=0.339 total time=   0.0s\n",
      "[CV 3/3; 12/24] START model__C=0.001, model__class_weight=balanced, model__solver=saga\n",
      "[CV 3/3; 12/24] END model__C=0.001, model__class_weight=balanced, model__solver=saga;, score=0.334 total time=   0.0s\n",
      "[CV 2/3; 17/24] START model__C=0.1, model__class_weight=None, model__solver=sag.\n",
      "[CV 2/3; 17/24] END model__C=0.1, model__class_weight=None, model__solver=sag;, score=0.136 total time=   0.0s\n",
      "[CV 3/3; 18/24] START model__C=0.1, model__class_weight=None, model__solver=saga\n",
      "[CV 3/3; 18/24] END model__C=0.1, model__class_weight=None, model__solver=saga;, score=0.203 total time=   0.0s\n",
      "[CV 3/3; 20/24] START model__C=0.1, model__class_weight=balanced, model__solver=saga\n",
      "[CV 3/3; 20/24] END model__C=0.1, model__class_weight=balanced, model__solver=saga;, score=0.311 total time=   0.2s\n",
      "[CV 3/3; 1/24] START model__C=1e-05, model__class_weight=None, model__solver=sag\n",
      "[CV 3/3; 1/24] END model__C=1e-05, model__class_weight=None, model__solver=sag;, score=0.000 total time=   0.7s\n",
      "[CV 1/3; 5/24] START model__C=0.0001, model__class_weight=None, model__solver=sag\n",
      "[CV 1/3; 5/24] END model__C=0.0001, model__class_weight=None, model__solver=sag;, score=0.000 total time=   0.8s\n",
      "[CV 1/3; 6/24] START model__C=0.0001, model__class_weight=None, model__solver=saga\n",
      "[CV 1/3; 6/24] END model__C=0.0001, model__class_weight=None, model__solver=saga;, score=0.000 total time=   2.3s\n",
      "[CV 3/3; 10/24] START model__C=0.001, model__class_weight=None, model__solver=saga\n",
      "[CV 3/3; 10/24] END model__C=0.001, model__class_weight=None, model__solver=saga;, score=0.102 total time=   3.2s\n",
      "[CV 2/3; 15/24] START model__C=0.01, model__class_weight=balanced, model__solver=sag\n",
      "[CV 2/3; 15/24] END model__C=0.01, model__class_weight=balanced, model__solver=sag;, score=0.306 total time=   1.8s\n",
      "[CV 1/3; 17/24] START model__C=0.1, model__class_weight=None, model__solver=sag.\n",
      "[CV 1/3; 17/24] END model__C=0.1, model__class_weight=None, model__solver=sag;, score=0.097 total time=   2.8s\n",
      "[CV 2/3; 19/24] START model__C=0.1, model__class_weight=balanced, model__solver=sag\n",
      "[CV 2/3; 19/24] END model__C=0.1, model__class_weight=balanced, model__solver=sag;, score=0.281 total time=   3.1s\n",
      "[CV 2/3; 22/24] START model__C=1, model__class_weight=None, model__solver=saga..\n",
      "[CV 2/3; 22/24] END model__C=1, model__class_weight=None, model__solver=saga;, score=0.167 total time=   3.4s\n",
      "[CV 1/3; 1/24] START model__C=1e-05, model__class_weight=None, model__solver=sag\n"
     ]
    },
    {
     "name": "stderr",
     "output_type": "stream",
     "text": [
      "/opt/conda/lib/python3.9/site-packages/sklearn/linear_model/_sag.py:328: ConvergenceWarning: The max_iter was reached which means the coef_ did not converge\n",
      "  warnings.warn(\"The max_iter was reached which means \"\n",
      "/opt/conda/lib/python3.9/site-packages/sklearn/linear_model/_sag.py:328: ConvergenceWarning: The max_iter was reached which means the coef_ did not converge\n",
      "  warnings.warn(\"The max_iter was reached which means \"\n",
      "/opt/conda/lib/python3.9/site-packages/sklearn/linear_model/_sag.py:328: ConvergenceWarning: The max_iter was reached which means the coef_ did not converge\n",
      "  warnings.warn(\"The max_iter was reached which means \"\n",
      "/opt/conda/lib/python3.9/site-packages/sklearn/linear_model/_sag.py:328: ConvergenceWarning: The max_iter was reached which means the coef_ did not converge\n",
      "  warnings.warn(\"The max_iter was reached which means \"\n",
      "/opt/conda/lib/python3.9/site-packages/sklearn/linear_model/_sag.py:328: ConvergenceWarning: The max_iter was reached which means the coef_ did not converge\n",
      "  warnings.warn(\"The max_iter was reached which means \"\n",
      "/opt/conda/lib/python3.9/site-packages/sklearn/linear_model/_sag.py:328: ConvergenceWarning: The max_iter was reached which means the coef_ did not converge\n",
      "  warnings.warn(\"The max_iter was reached which means \"\n",
      "/opt/conda/lib/python3.9/site-packages/sklearn/linear_model/_sag.py:328: ConvergenceWarning: The max_iter was reached which means the coef_ did not converge\n",
      "  warnings.warn(\"The max_iter was reached which means \"\n",
      "/opt/conda/lib/python3.9/site-packages/sklearn/linear_model/_sag.py:328: ConvergenceWarning: The max_iter was reached which means the coef_ did not converge\n",
      "  warnings.warn(\"The max_iter was reached which means \"\n",
      "/opt/conda/lib/python3.9/site-packages/sklearn/linear_model/_sag.py:328: ConvergenceWarning: The max_iter was reached which means the coef_ did not converge\n",
      "  warnings.warn(\"The max_iter was reached which means \"\n"
     ]
    },
    {
     "name": "stdout",
     "output_type": "stream",
     "text": [
      "[CV 2/3; 3/24] START model__C=1e-05, model__class_weight=balanced, model__solver=sag\n",
      "[CV 2/3; 3/24] END model__C=1e-05, model__class_weight=balanced, model__solver=sag;, score=0.318 total time=   0.0s\n",
      "[CV 3/3; 1/24] START model__C=1e-05, model__class_weight=None, model__solver=sag\n",
      "[CV 3/3; 1/24] END model__C=1e-05, model__class_weight=None, model__solver=sag;, score=0.000 total time=   0.2s\n",
      "[CV 3/3; 4/24] START model__C=1e-05, model__class_weight=balanced, model__solver=saga\n",
      "[CV 3/3; 4/24] END model__C=1e-05, model__class_weight=balanced, model__solver=saga;, score=0.324 total time=   0.2s\n",
      "[CV 1/3; 6/24] START model__C=0.0001, model__class_weight=None, model__solver=saga\n",
      "[CV 1/3; 6/24] END model__C=0.0001, model__class_weight=None, model__solver=saga;, score=0.000 total time=   0.4s\n",
      "[CV 1/3; 9/24] START model__C=0.001, model__class_weight=None, model__solver=sag\n",
      "[CV 1/3; 9/24] END model__C=0.001, model__class_weight=None, model__solver=sag;, score=0.053 total time=   0.3s\n",
      "[CV 3/3; 11/24] START model__C=0.001, model__class_weight=balanced, model__solver=sag\n",
      "[CV 3/3; 11/24] END model__C=0.001, model__class_weight=balanced, model__solver=sag;, score=0.306 total time=   0.2s\n",
      "[CV 3/3; 13/24] START model__C=0.01, model__class_weight=None, model__solver=sag\n",
      "[CV 3/3; 13/24] END model__C=0.01, model__class_weight=None, model__solver=sag;, score=0.161 total time=   0.5s\n",
      "[CV 3/3; 16/24] START model__C=0.01, model__class_weight=balanced, model__solver=saga\n",
      "[CV 3/3; 16/24] END model__C=0.01, model__class_weight=balanced, model__solver=saga;, score=0.258 total time=   0.7s\n",
      "[CV 2/3; 19/24] START model__C=0.1, model__class_weight=balanced, model__solver=sag\n",
      "[CV 2/3; 19/24] END model__C=0.1, model__class_weight=balanced, model__solver=sag;, score=0.290 total time=   0.8s\n",
      "[CV 2/3; 21/24] START model__C=1, model__class_weight=None, model__solver=sag...\n",
      "[CV 2/3; 21/24] END model__C=1, model__class_weight=None, model__solver=sag;, score=0.155 total time=   1.1s\n",
      "[CV 1/3; 24/24] START model__C=1, model__class_weight=balanced, model__solver=saga\n",
      "[CV 1/3; 24/24] END model__C=1, model__class_weight=balanced, model__solver=saga;, score=0.287 total time=   1.2s\n",
      "[CV 2/3; 2/24] START model__C=1e-05, model__class_weight=None, model__solver=saga\n",
      "[CV 2/3; 2/24] END model__C=1e-05, model__class_weight=None, model__solver=saga;, score=0.340 total time=   2.8s\n",
      "[CV 3/3; 4/24] START model__C=1e-05, model__class_weight=balanced, model__solver=saga\n",
      "[CV 3/3; 4/24] END model__C=1e-05, model__class_weight=balanced, model__solver=saga;, score=0.300 total time=   3.1s\n",
      "[CV 3/3; 7/24] START model__C=0.0001, model__class_weight=balanced, model__solver=sag\n",
      "[CV 3/3; 7/24] END model__C=0.0001, model__class_weight=balanced, model__solver=sag;, score=0.282 total time=   3.1s\n",
      "[CV 3/3; 9/24] START model__C=0.001, model__class_weight=None, model__solver=sag\n",
      "[CV 3/3; 9/24] END model__C=0.001, model__class_weight=None, model__solver=sag;, score=0.214 total time=   6.1s\n",
      "[CV 3/3; 11/24] START model__C=0.001, model__class_weight=balanced, model__solver=sag\n",
      "[CV 3/3; 11/24] END model__C=0.001, model__class_weight=balanced, model__solver=sag;, score=0.240 total time=   6.8s\n",
      "[CV 2/3; 14/24] START model__C=0.01, model__class_weight=None, model__solver=saga\n",
      "[CV 2/3; 14/24] END model__C=0.01, model__class_weight=None, model__solver=saga;, score=0.252 total time=  12.3s\n",
      "[CV 1/3; 17/24] START model__C=0.1, model__class_weight=None, model__solver=sag.\n",
      "[CV 1/3; 17/24] END model__C=0.1, model__class_weight=None, model__solver=sag;, score=0.162 total time=  11.3s\n",
      "[CV 2/3; 19/24] START model__C=0.1, model__class_weight=balanced, model__solver=sag\n",
      "[CV 2/3; 19/24] END model__C=0.1, model__class_weight=balanced, model__solver=sag;, score=0.292 total time=  12.9s\n",
      "[CV 1/3; 22/24] START model__C=1, model__class_weight=None, model__solver=saga..\n",
      "[CV 1/3; 22/24] END model__C=1, model__class_weight=None, model__solver=saga;, score=0.222 total time=  12.6s\n",
      "[CV 3/3; 24/24] START model__C=1, model__class_weight=balanced, model__solver=saga\n",
      "[CV 3/3; 24/24] END model__C=1, model__class_weight=balanced, model__solver=saga;, score=0.220 total time=  12.9s\n",
      "[CV 1/3; 3/24] START model__C=1e-05, model__class_weight=balanced, model__solver=sag\n",
      "[CV 1/3; 3/24] END model__C=1e-05, model__class_weight=balanced, model__solver=sag;, score=0.331 total time=   0.0s\n",
      "[CV 3/3; 5/24] START model__C=0.0001, model__class_weight=None, model__solver=sag\n",
      "[CV 3/3; 5/24] END model__C=0.0001, model__class_weight=None, model__solver=sag;, score=0.000 total time=   0.0s\n",
      "[CV 2/3; 10/24] START model__C=0.001, model__class_weight=None, model__solver=saga\n",
      "[CV 2/3; 10/24] END model__C=0.001, model__class_weight=None, model__solver=saga;, score=0.000 total time=   0.0s\n",
      "[CV 3/3; 10/24] START model__C=0.001, model__class_weight=None, model__solver=saga\n",
      "[CV 3/3; 10/24] END model__C=0.001, model__class_weight=None, model__solver=saga;, score=0.000 total time=   0.0s\n",
      "[CV 2/3; 14/24] START model__C=0.01, model__class_weight=None, model__solver=saga\n",
      "[CV 2/3; 14/24] END model__C=0.01, model__class_weight=None, model__solver=saga;, score=0.090 total time=   0.0s\n",
      "[CV 3/3; 14/24] START model__C=0.01, model__class_weight=None, model__solver=saga\n",
      "[CV 3/3; 14/24] END model__C=0.01, model__class_weight=None, model__solver=saga;, score=0.069 total time=   0.0s\n",
      "[CV 1/3; 19/24] START model__C=0.1, model__class_weight=balanced, model__solver=sag\n",
      "[CV 1/3; 19/24] END model__C=0.1, model__class_weight=balanced, model__solver=sag;, score=0.330 total time=   0.1s\n",
      "[CV 1/3; 23/24] START model__C=1, model__class_weight=balanced, model__solver=sag\n",
      "[CV 1/3; 23/24] END model__C=1, model__class_weight=balanced, model__solver=sag;, score=0.326 total time=   0.1s\n",
      "[CV 1/3; 1/24] START model__C=1e-05, model__class_weight=None, model__solver=sag\n",
      "[CV 1/3; 1/24] END model__C=1e-05, model__class_weight=None, model__solver=sag;, score=0.000 total time=   0.7s\n",
      "[CV 3/3; 4/24] START model__C=1e-05, model__class_weight=balanced, model__solver=saga\n",
      "[CV 3/3; 4/24] END model__C=1e-05, model__class_weight=balanced, model__solver=saga;, score=0.336 total time=   0.9s\n",
      "[CV 1/3; 7/24] START model__C=0.0001, model__class_weight=balanced, model__solver=sag\n",
      "[CV 1/3; 7/24] END model__C=0.0001, model__class_weight=balanced, model__solver=sag;, score=0.346 total time=   0.3s\n",
      "[CV 2/3; 7/24] START model__C=0.0001, model__class_weight=balanced, model__solver=sag\n",
      "[CV 2/3; 7/24] END model__C=0.0001, model__class_weight=balanced, model__solver=sag;, score=0.345 total time=   0.4s\n",
      "[CV 1/3; 8/24] START model__C=0.0001, model__class_weight=balanced, model__solver=saga\n",
      "[CV 1/3; 8/24] END model__C=0.0001, model__class_weight=balanced, model__solver=saga;, score=0.346 total time=   1.0s\n",
      "[CV 3/3; 9/24] START model__C=0.001, model__class_weight=None, model__solver=sag\n",
      "[CV 3/3; 9/24] END model__C=0.001, model__class_weight=None, model__solver=sag;, score=0.102 total time=   1.4s\n",
      "[CV 3/3; 12/24] START model__C=0.001, model__class_weight=balanced, model__solver=saga\n",
      "[CV 3/3; 12/24] END model__C=0.001, model__class_weight=balanced, model__solver=saga;, score=0.301 total time=   1.9s\n",
      "[CV 3/3; 14/24] START model__C=0.01, model__class_weight=None, model__solver=saga\n",
      "[CV 3/3; 14/24] END model__C=0.01, model__class_weight=None, model__solver=saga;, score=0.161 total time=   3.1s\n",
      "[CV 2/3; 18/24] START model__C=0.1, model__class_weight=None, model__solver=saga\n",
      "[CV 2/3; 18/24] END model__C=0.1, model__class_weight=None, model__solver=saga;, score=0.143 total time=   3.2s\n",
      "[CV 3/3; 20/24] START model__C=0.1, model__class_weight=balanced, model__solver=saga\n",
      "[CV 3/3; 20/24] END model__C=0.1, model__class_weight=balanced, model__solver=saga;, score=0.241 total time=   3.2s\n",
      "[CV 3/3; 23/24] START model__C=1, model__class_weight=balanced, model__solver=sag\n",
      "[CV 3/3; 23/24] END model__C=1, model__class_weight=balanced, model__solver=sag;, score=0.222 total time=   2.7s\n",
      "[CV 2/3; 2/24] START model__C=1e-05, model__class_weight=None, model__solver=saga\n",
      "[CV 2/3; 2/24] END model__C=1e-05, model__class_weight=None, model__solver=saga;, score=0.019 total time=  37.0s\n",
      "[CV 3/3; 5/24] START model__C=0.0001, model__class_weight=None, model__solver=sag\n"
     ]
    },
    {
     "name": "stderr",
     "output_type": "stream",
     "text": [
      "/opt/conda/lib/python3.9/site-packages/sklearn/linear_model/_sag.py:328: ConvergenceWarning: The max_iter was reached which means the coef_ did not converge\n",
      "  warnings.warn(\"The max_iter was reached which means \"\n",
      "/opt/conda/lib/python3.9/site-packages/sklearn/linear_model/_sag.py:328: ConvergenceWarning: The max_iter was reached which means the coef_ did not converge\n",
      "  warnings.warn(\"The max_iter was reached which means \"\n",
      "/opt/conda/lib/python3.9/site-packages/sklearn/linear_model/_sag.py:328: ConvergenceWarning: The max_iter was reached which means the coef_ did not converge\n",
      "  warnings.warn(\"The max_iter was reached which means \"\n",
      "/opt/conda/lib/python3.9/site-packages/sklearn/linear_model/_sag.py:328: ConvergenceWarning: The max_iter was reached which means the coef_ did not converge\n",
      "  warnings.warn(\"The max_iter was reached which means \"\n",
      "/opt/conda/lib/python3.9/site-packages/sklearn/linear_model/_sag.py:328: ConvergenceWarning: The max_iter was reached which means the coef_ did not converge\n",
      "  warnings.warn(\"The max_iter was reached which means \"\n",
      "/opt/conda/lib/python3.9/site-packages/sklearn/linear_model/_sag.py:328: ConvergenceWarning: The max_iter was reached which means the coef_ did not converge\n",
      "  warnings.warn(\"The max_iter was reached which means \"\n",
      "/opt/conda/lib/python3.9/site-packages/sklearn/linear_model/_sag.py:328: ConvergenceWarning: The max_iter was reached which means the coef_ did not converge\n",
      "  warnings.warn(\"The max_iter was reached which means \"\n",
      "/opt/conda/lib/python3.9/site-packages/sklearn/linear_model/_sag.py:328: ConvergenceWarning: The max_iter was reached which means the coef_ did not converge\n",
      "  warnings.warn(\"The max_iter was reached which means \"\n",
      "/opt/conda/lib/python3.9/site-packages/sklearn/linear_model/_sag.py:328: ConvergenceWarning: The max_iter was reached which means the coef_ did not converge\n",
      "  warnings.warn(\"The max_iter was reached which means \"\n",
      "/opt/conda/lib/python3.9/site-packages/sklearn/linear_model/_sag.py:328: ConvergenceWarning: The max_iter was reached which means the coef_ did not converge\n",
      "  warnings.warn(\"The max_iter was reached which means \"\n",
      "/opt/conda/lib/python3.9/site-packages/sklearn/linear_model/_sag.py:328: ConvergenceWarning: The max_iter was reached which means the coef_ did not converge\n",
      "  warnings.warn(\"The max_iter was reached which means \"\n",
      "/opt/conda/lib/python3.9/site-packages/sklearn/linear_model/_sag.py:328: ConvergenceWarning: The max_iter was reached which means the coef_ did not converge\n",
      "  warnings.warn(\"The max_iter was reached which means \"\n",
      "/opt/conda/lib/python3.9/site-packages/sklearn/linear_model/_sag.py:328: ConvergenceWarning: The max_iter was reached which means the coef_ did not converge\n",
      "  warnings.warn(\"The max_iter was reached which means \"\n",
      "/opt/conda/lib/python3.9/site-packages/sklearn/linear_model/_sag.py:328: ConvergenceWarning: The max_iter was reached which means the coef_ did not converge\n",
      "  warnings.warn(\"The max_iter was reached which means \"\n",
      "/opt/conda/lib/python3.9/site-packages/sklearn/linear_model/_sag.py:328: ConvergenceWarning: The max_iter was reached which means the coef_ did not converge\n",
      "  warnings.warn(\"The max_iter was reached which means \"\n",
      "/opt/conda/lib/python3.9/site-packages/sklearn/linear_model/_sag.py:328: ConvergenceWarning: The max_iter was reached which means the coef_ did not converge\n",
      "  warnings.warn(\"The max_iter was reached which means \"\n",
      "/opt/conda/lib/python3.9/site-packages/sklearn/linear_model/_sag.py:328: ConvergenceWarning: The max_iter was reached which means the coef_ did not converge\n",
      "  warnings.warn(\"The max_iter was reached which means \"\n",
      "/opt/conda/lib/python3.9/site-packages/sklearn/linear_model/_sag.py:328: ConvergenceWarning: The max_iter was reached which means the coef_ did not converge\n",
      "  warnings.warn(\"The max_iter was reached which means \"\n",
      "/opt/conda/lib/python3.9/site-packages/sklearn/linear_model/_sag.py:328: ConvergenceWarning: The max_iter was reached which means the coef_ did not converge\n",
      "  warnings.warn(\"The max_iter was reached which means \"\n",
      "/opt/conda/lib/python3.9/site-packages/sklearn/linear_model/_sag.py:328: ConvergenceWarning: The max_iter was reached which means the coef_ did not converge\n",
      "  warnings.warn(\"The max_iter was reached which means \"\n",
      "/opt/conda/lib/python3.9/site-packages/sklearn/linear_model/_sag.py:328: ConvergenceWarning: The max_iter was reached which means the coef_ did not converge\n",
      "  warnings.warn(\"The max_iter was reached which means \"\n",
      "/opt/conda/lib/python3.9/site-packages/sklearn/linear_model/_sag.py:328: ConvergenceWarning: The max_iter was reached which means the coef_ did not converge\n",
      "  warnings.warn(\"The max_iter was reached which means \"\n",
      "/opt/conda/lib/python3.9/site-packages/sklearn/linear_model/_sag.py:328: ConvergenceWarning: The max_iter was reached which means the coef_ did not converge\n",
      "  warnings.warn(\"The max_iter was reached which means \"\n",
      "/opt/conda/lib/python3.9/site-packages/sklearn/linear_model/_sag.py:328: ConvergenceWarning: The max_iter was reached which means the coef_ did not converge\n",
      "  warnings.warn(\"The max_iter was reached which means \"\n",
      "/opt/conda/lib/python3.9/site-packages/sklearn/linear_model/_sag.py:328: ConvergenceWarning: The max_iter was reached which means the coef_ did not converge\n",
      "  warnings.warn(\"The max_iter was reached which means \"\n",
      "/opt/conda/lib/python3.9/site-packages/sklearn/linear_model/_sag.py:328: ConvergenceWarning: The max_iter was reached which means the coef_ did not converge\n",
      "  warnings.warn(\"The max_iter was reached which means \"\n",
      "/opt/conda/lib/python3.9/site-packages/sklearn/linear_model/_sag.py:328: ConvergenceWarning: The max_iter was reached which means the coef_ did not converge\n",
      "  warnings.warn(\"The max_iter was reached which means \"\n",
      "/opt/conda/lib/python3.9/site-packages/sklearn/linear_model/_sag.py:328: ConvergenceWarning: The max_iter was reached which means the coef_ did not converge\n",
      "  warnings.warn(\"The max_iter was reached which means \"\n",
      "/opt/conda/lib/python3.9/site-packages/sklearn/linear_model/_sag.py:328: ConvergenceWarning: The max_iter was reached which means the coef_ did not converge\n",
      "  warnings.warn(\"The max_iter was reached which means \"\n",
      "/opt/conda/lib/python3.9/site-packages/sklearn/linear_model/_sag.py:328: ConvergenceWarning: The max_iter was reached which means the coef_ did not converge\n",
      "  warnings.warn(\"The max_iter was reached which means \"\n",
      "/opt/conda/lib/python3.9/site-packages/sklearn/linear_model/_sag.py:328: ConvergenceWarning: The max_iter was reached which means the coef_ did not converge\n",
      "  warnings.warn(\"The max_iter was reached which means \"\n",
      "/opt/conda/lib/python3.9/site-packages/sklearn/linear_model/_sag.py:328: ConvergenceWarning: The max_iter was reached which means the coef_ did not converge\n",
      "  warnings.warn(\"The max_iter was reached which means \"\n",
      "/opt/conda/lib/python3.9/site-packages/sklearn/linear_model/_sag.py:328: ConvergenceWarning: The max_iter was reached which means the coef_ did not converge\n",
      "  warnings.warn(\"The max_iter was reached which means \"\n",
      "/opt/conda/lib/python3.9/site-packages/sklearn/linear_model/_sag.py:328: ConvergenceWarning: The max_iter was reached which means the coef_ did not converge\n",
      "  warnings.warn(\"The max_iter was reached which means \"\n",
      "/opt/conda/lib/python3.9/site-packages/sklearn/linear_model/_sag.py:328: ConvergenceWarning: The max_iter was reached which means the coef_ did not converge\n",
      "  warnings.warn(\"The max_iter was reached which means \"\n",
      "/opt/conda/lib/python3.9/site-packages/sklearn/linear_model/_sag.py:328: ConvergenceWarning: The max_iter was reached which means the coef_ did not converge\n",
      "  warnings.warn(\"The max_iter was reached which means \"\n",
      "/opt/conda/lib/python3.9/site-packages/sklearn/linear_model/_sag.py:328: ConvergenceWarning: The max_iter was reached which means the coef_ did not converge\n",
      "  warnings.warn(\"The max_iter was reached which means \"\n",
      "/opt/conda/lib/python3.9/site-packages/sklearn/linear_model/_sag.py:328: ConvergenceWarning: The max_iter was reached which means the coef_ did not converge\n",
      "  warnings.warn(\"The max_iter was reached which means \"\n",
      "/opt/conda/lib/python3.9/site-packages/sklearn/linear_model/_sag.py:328: ConvergenceWarning: The max_iter was reached which means the coef_ did not converge\n",
      "  warnings.warn(\"The max_iter was reached which means \"\n",
      "/opt/conda/lib/python3.9/site-packages/sklearn/linear_model/_sag.py:328: ConvergenceWarning: The max_iter was reached which means the coef_ did not converge\n",
      "  warnings.warn(\"The max_iter was reached which means \"\n",
      "/opt/conda/lib/python3.9/site-packages/sklearn/linear_model/_sag.py:328: ConvergenceWarning: The max_iter was reached which means the coef_ did not converge\n",
      "  warnings.warn(\"The max_iter was reached which means \"\n",
      "/opt/conda/lib/python3.9/site-packages/sklearn/linear_model/_sag.py:328: ConvergenceWarning: The max_iter was reached which means the coef_ did not converge\n",
      "  warnings.warn(\"The max_iter was reached which means \"\n",
      "/opt/conda/lib/python3.9/site-packages/sklearn/linear_model/_sag.py:328: ConvergenceWarning: The max_iter was reached which means the coef_ did not converge\n",
      "  warnings.warn(\"The max_iter was reached which means \"\n",
      "/opt/conda/lib/python3.9/site-packages/sklearn/linear_model/_sag.py:328: ConvergenceWarning: The max_iter was reached which means the coef_ did not converge\n",
      "  warnings.warn(\"The max_iter was reached which means \"\n",
      "/opt/conda/lib/python3.9/site-packages/sklearn/linear_model/_sag.py:328: ConvergenceWarning: The max_iter was reached which means the coef_ did not converge\n",
      "  warnings.warn(\"The max_iter was reached which means \"\n",
      "/opt/conda/lib/python3.9/site-packages/sklearn/linear_model/_sag.py:328: ConvergenceWarning: The max_iter was reached which means the coef_ did not converge\n",
      "  warnings.warn(\"The max_iter was reached which means \"\n",
      "/opt/conda/lib/python3.9/site-packages/sklearn/linear_model/_sag.py:328: ConvergenceWarning: The max_iter was reached which means the coef_ did not converge\n",
      "  warnings.warn(\"The max_iter was reached which means \"\n",
      "/opt/conda/lib/python3.9/site-packages/sklearn/linear_model/_sag.py:328: ConvergenceWarning: The max_iter was reached which means the coef_ did not converge\n",
      "  warnings.warn(\"The max_iter was reached which means \"\n",
      "/opt/conda/lib/python3.9/site-packages/sklearn/linear_model/_sag.py:328: ConvergenceWarning: The max_iter was reached which means the coef_ did not converge\n",
      "  warnings.warn(\"The max_iter was reached which means \"\n"
     ]
    },
    {
     "name": "stdout",
     "output_type": "stream",
     "text": [
      "[CV 1/3; 3/24] START model__C=1e-05, model__class_weight=balanced, model__solver=sag\n",
      "[CV 1/3; 3/24] END model__C=1e-05, model__class_weight=balanced, model__solver=sag;, score=0.314 total time=   0.0s\n",
      "[CV 2/3; 24/24] START model__C=1, model__class_weight=balanced, model__solver=saga\n",
      "[CV 2/3; 24/24] END model__C=1, model__class_weight=balanced, model__solver=saga;, score=0.361 total time=   0.1s\n",
      "[CV 3/3; 2/24] START model__C=1e-05, model__class_weight=None, model__solver=saga\n",
      "[CV 3/3; 2/24] END model__C=1e-05, model__class_weight=None, model__solver=saga;, score=0.000 total time=   0.6s\n",
      "[CV 3/3; 7/24] START model__C=0.0001, model__class_weight=balanced, model__solver=sag\n",
      "[CV 3/3; 7/24] END model__C=0.0001, model__class_weight=balanced, model__solver=sag;, score=0.318 total time=   0.2s\n",
      "[CV 2/3; 10/24] START model__C=0.001, model__class_weight=None, model__solver=saga\n",
      "[CV 2/3; 10/24] END model__C=0.001, model__class_weight=None, model__solver=saga;, score=0.103 total time=   0.5s\n",
      "[CV 1/3; 14/24] START model__C=0.01, model__class_weight=None, model__solver=saga\n",
      "[CV 1/3; 14/24] END model__C=0.01, model__class_weight=None, model__solver=saga;, score=0.046 total time=   0.5s\n",
      "[CV 1/3; 17/24] START model__C=0.1, model__class_weight=None, model__solver=sag.\n",
      "[CV 1/3; 17/24] END model__C=0.1, model__class_weight=None, model__solver=sag;, score=0.085 total time=   1.1s\n",
      "[CV 3/3; 19/24] START model__C=0.1, model__class_weight=balanced, model__solver=sag\n",
      "[CV 3/3; 19/24] END model__C=0.1, model__class_weight=balanced, model__solver=sag;, score=0.244 total time=   1.0s\n",
      "[CV 2/3; 22/24] START model__C=1, model__class_weight=None, model__solver=saga..\n",
      "[CV 2/3; 22/24] END model__C=1, model__class_weight=None, model__solver=saga;, score=0.157 total time=   1.5s\n",
      "[CV 2/3; 1/24] START model__C=1e-05, model__class_weight=None, model__solver=sag\n",
      "[CV 2/3; 1/24] END model__C=1e-05, model__class_weight=None, model__solver=sag;, score=0.354 total time=   2.8s\n",
      "[CV 2/3; 4/24] START model__C=1e-05, model__class_weight=balanced, model__solver=saga\n",
      "[CV 2/3; 4/24] END model__C=1e-05, model__class_weight=balanced, model__solver=saga;, score=0.316 total time=   2.6s\n",
      "[CV 1/3; 7/24] START model__C=0.0001, model__class_weight=balanced, model__solver=sag\n",
      "[CV 1/3; 7/24] END model__C=0.0001, model__class_weight=balanced, model__solver=sag;, score=0.294 total time=   3.5s\n",
      "[CV 2/3; 9/24] START model__C=0.001, model__class_weight=None, model__solver=sag\n",
      "[CV 2/3; 9/24] END model__C=0.001, model__class_weight=None, model__solver=sag;, score=0.264 total time=   6.5s\n",
      "[CV 1/3; 12/24] START model__C=0.001, model__class_weight=balanced, model__solver=saga\n",
      "[CV 1/3; 12/24] END model__C=0.001, model__class_weight=balanced, model__solver=saga;, score=0.279 total time=  10.1s\n",
      "[CV 1/3; 15/24] START model__C=0.01, model__class_weight=balanced, model__solver=sag\n",
      "[CV 1/3; 15/24] END model__C=0.01, model__class_weight=balanced, model__solver=sag;, score=0.269 total time=  12.5s\n",
      "[CV 3/3; 17/24] START model__C=0.1, model__class_weight=None, model__solver=sag.\n",
      "[CV 3/3; 17/24] END model__C=0.1, model__class_weight=None, model__solver=sag;, score=0.229 total time=  10.6s\n",
      "[CV 1/3; 20/24] START model__C=0.1, model__class_weight=balanced, model__solver=saga\n",
      "[CV 1/3; 20/24] END model__C=0.1, model__class_weight=balanced, model__solver=saga;, score=0.278 total time=  14.6s\n",
      "[CV 3/3; 22/24] START model__C=1, model__class_weight=None, model__solver=saga..\n",
      "[CV 3/3; 22/24] END model__C=1, model__class_weight=None, model__solver=saga;, score=0.234 total time=  13.9s\n",
      "[CV 1/3; 2/24] START model__C=1e-05, model__class_weight=None, model__solver=saga\n",
      "[CV 1/3; 2/24] END model__C=1e-05, model__class_weight=None, model__solver=saga;, score=0.000 total time=   0.0s\n",
      "[CV 3/3; 4/24] START model__C=1e-05, model__class_weight=balanced, model__solver=saga\n",
      "[CV 3/3; 4/24] END model__C=1e-05, model__class_weight=balanced, model__solver=saga;, score=0.343 total time=   0.0s\n",
      "[CV 1/3; 9/24] START model__C=0.001, model__class_weight=None, model__solver=sag\n",
      "[CV 1/3; 9/24] END model__C=0.001, model__class_weight=None, model__solver=sag;, score=0.000 total time=   0.0s\n",
      "[CV 2/3; 9/24] START model__C=0.001, model__class_weight=None, model__solver=sag\n",
      "[CV 2/3; 9/24] END model__C=0.001, model__class_weight=None, model__solver=sag;, score=0.000 total time=   0.0s\n",
      "[CV 1/3; 15/24] START model__C=0.01, model__class_weight=balanced, model__solver=sag\n",
      "[CV 1/3; 15/24] END model__C=0.01, model__class_weight=balanced, model__solver=sag;, score=0.350 total time=   0.0s\n",
      "[CV 2/3; 15/24] START model__C=0.01, model__class_weight=balanced, model__solver=sag\n",
      "[CV 2/3; 15/24] END model__C=0.01, model__class_weight=balanced, model__solver=sag;, score=0.351 total time=   0.0s\n",
      "[CV 2/3; 20/24] START model__C=0.1, model__class_weight=balanced, model__solver=saga\n",
      "[CV 2/3; 20/24] END model__C=0.1, model__class_weight=balanced, model__solver=saga;, score=0.358 total time=   0.2s\n",
      "[CV 2/3; 1/24] START model__C=1e-05, model__class_weight=None, model__solver=sag\n",
      "[CV 2/3; 1/24] END model__C=1e-05, model__class_weight=None, model__solver=sag;, score=0.000 total time=   0.7s\n",
      "[CV 2/3; 5/24] START model__C=0.0001, model__class_weight=None, model__solver=sag\n",
      "[CV 2/3; 5/24] END model__C=0.0001, model__class_weight=None, model__solver=sag;, score=0.000 total time=   0.8s\n",
      "[CV 2/3; 6/24] START model__C=0.0001, model__class_weight=None, model__solver=saga\n",
      "[CV 2/3; 6/24] END model__C=0.0001, model__class_weight=None, model__solver=saga;, score=0.000 total time=   2.6s\n",
      "[CV 3/3; 11/24] START model__C=0.001, model__class_weight=balanced, model__solver=sag\n",
      "[CV 3/3; 11/24] END model__C=0.001, model__class_weight=balanced, model__solver=sag;, score=0.301 total time=   0.7s\n",
      "[CV 2/3; 13/24] START model__C=0.01, model__class_weight=None, model__solver=sag\n",
      "[CV 2/3; 13/24] END model__C=0.01, model__class_weight=None, model__solver=sag;, score=0.157 total time=   2.6s\n",
      "[CV 1/3; 16/24] START model__C=0.01, model__class_weight=balanced, model__solver=saga\n",
      "[CV 1/3; 16/24] END model__C=0.01, model__class_weight=balanced, model__solver=saga;, score=0.312 total time=   3.1s\n",
      "[CV 3/3; 18/24] START model__C=0.1, model__class_weight=None, model__solver=saga\n",
      "[CV 3/3; 18/24] END model__C=0.1, model__class_weight=None, model__solver=saga;, score=0.193 total time=   3.2s\n",
      "[CV 2/3; 21/24] START model__C=1, model__class_weight=None, model__solver=sag...\n",
      "[CV 2/3; 21/24] END model__C=1, model__class_weight=None, model__solver=sag;, score=0.146 total time=   2.9s\n",
      "[CV 1/3; 24/24] START model__C=1, model__class_weight=balanced, model__solver=saga\n",
      "[CV 1/3; 24/24] END model__C=1, model__class_weight=balanced, model__solver=saga;, score=0.278 total time=   3.1s\n",
      "[CV 3/3; 2/24] START model__C=1e-05, model__class_weight=None, model__solver=saga\n",
      "[CV 3/3; 2/24] END model__C=1e-05, model__class_weight=None, model__solver=saga;, score=0.055 total time=  37.0s\n",
      "[CV 1/3; 6/24] START model__C=0.0001, model__class_weight=None, model__solver=saga\n",
      "[CV 1/3; 6/24] END model__C=0.0001, model__class_weight=None, model__solver=saga;, score=0.072 total time=  38.3s\n",
      "[CV 3/3; 8/24] START model__C=0.0001, model__class_weight=balanced, model__solver=saga\n",
      "[CV 3/3; 8/24] END model__C=0.0001, model__class_weight=balanced, model__solver=saga;, score=0.294 total time=  38.5s\n",
      "[CV 2/3; 11/24] START model__C=0.001, model__class_weight=balanced, model__solver=sag\n",
      "[CV 2/3; 11/24] END model__C=0.001, model__class_weight=balanced, model__solver=sag;, score=0.296 total time=  34.8s\n",
      "[CV 1/3; 14/24] START model__C=0.01, model__class_weight=None, model__solver=saga\n",
      "[CV 1/3; 14/24] END model__C=0.01, model__class_weight=None, model__solver=saga;, score=0.128 total time=  37.9s\n",
      "[CV 3/3; 16/24] START model__C=0.01, model__class_weight=balanced, model__solver=saga\n",
      "[CV 3/3; 16/24] END model__C=0.01, model__class_weight=balanced, model__solver=saga;, score=0.225 total time=  36.5s\n",
      "[CV 2/3; 19/24] START model__C=0.1, model__class_weight=balanced, model__solver=sag\n",
      "[CV 2/3; 19/24] END model__C=0.1, model__class_weight=balanced, model__solver=sag;, score=0.260 total time=  33.3s\n",
      "[CV 1/3; 22/24] START model__C=1, model__class_weight=None, model__solver=saga..\n"
     ]
    },
    {
     "name": "stderr",
     "output_type": "stream",
     "text": [
      "/opt/conda/lib/python3.9/site-packages/sklearn/linear_model/_sag.py:328: ConvergenceWarning: The max_iter was reached which means the coef_ did not converge\n",
      "  warnings.warn(\"The max_iter was reached which means \"\n",
      "/opt/conda/lib/python3.9/site-packages/sklearn/linear_model/_sag.py:328: ConvergenceWarning: The max_iter was reached which means the coef_ did not converge\n",
      "  warnings.warn(\"The max_iter was reached which means \"\n",
      "/opt/conda/lib/python3.9/site-packages/sklearn/linear_model/_sag.py:328: ConvergenceWarning: The max_iter was reached which means the coef_ did not converge\n",
      "  warnings.warn(\"The max_iter was reached which means \"\n",
      "/opt/conda/lib/python3.9/site-packages/sklearn/linear_model/_sag.py:328: ConvergenceWarning: The max_iter was reached which means the coef_ did not converge\n",
      "  warnings.warn(\"The max_iter was reached which means \"\n",
      "/opt/conda/lib/python3.9/site-packages/sklearn/linear_model/_sag.py:328: ConvergenceWarning: The max_iter was reached which means the coef_ did not converge\n",
      "  warnings.warn(\"The max_iter was reached which means \"\n",
      "/opt/conda/lib/python3.9/site-packages/sklearn/linear_model/_sag.py:328: ConvergenceWarning: The max_iter was reached which means the coef_ did not converge\n",
      "  warnings.warn(\"The max_iter was reached which means \"\n",
      "/opt/conda/lib/python3.9/site-packages/sklearn/linear_model/_sag.py:328: ConvergenceWarning: The max_iter was reached which means the coef_ did not converge\n",
      "  warnings.warn(\"The max_iter was reached which means \"\n",
      "/opt/conda/lib/python3.9/site-packages/sklearn/linear_model/_sag.py:328: ConvergenceWarning: The max_iter was reached which means the coef_ did not converge\n",
      "  warnings.warn(\"The max_iter was reached which means \"\n",
      "/opt/conda/lib/python3.9/site-packages/sklearn/linear_model/_sag.py:328: ConvergenceWarning: The max_iter was reached which means the coef_ did not converge\n",
      "  warnings.warn(\"The max_iter was reached which means \"\n",
      "/opt/conda/lib/python3.9/site-packages/sklearn/linear_model/_sag.py:328: ConvergenceWarning: The max_iter was reached which means the coef_ did not converge\n",
      "  warnings.warn(\"The max_iter was reached which means \"\n"
     ]
    }
   ],
   "source": [
    "lr_model = LogisticRegression(max_iter=200, random_state=42, tol=1e-4)\n",
    "for i in range(3):\n",
    "    bm, gs = train_model(lr_model, lr_params, poly_train_X[i], train_sub_y)\n",
    "    filename = 'models/tol_1e-4/PF' + str(i+1)\n",
    "    with open(filename, 'wb') as f:\n",
    "        pickle.dump(bm, f)\n",
    "    filename = 'models/tol_1e-4/PF' + str(i+1) + '_gs'\n",
    "    with open(filename, 'wb') as f:\n",
    "        pickle.dump(gs, f)"
   ]
  },
  {
   "cell_type": "markdown",
   "metadata": {},
   "source": [
    "#### Polynomial Features, Degree = 1-3, tol = 1e-4, Best Model"
   ]
  },
  {
   "cell_type": "code",
   "execution_count": 13,
   "metadata": {},
   "outputs": [
    {
     "name": "stdout",
     "output_type": "stream",
     "text": [
      "\n",
      "\n"
     ]
    },
    {
     "data": {
      "image/png": "[encoded data removed]",
      "text/plain": [
       "<Figure size 432x288 with 1 Axes>"
      ]
     },
     "metadata": {
      "needs_background": "light"
     },
     "output_type": "display_data"
    },
    {
     "data": {
      "image/png": "[encoded data removed]",
      "text/plain": [
       "<Figure size 432x288 with 1 Axes>"
      ]
     },
     "metadata": {
      "needs_background": "light"
     },
     "output_type": "display_data"
    },
    {
     "data": {
      "image/png": "[encoded data removed]",
      "text/plain": [
       "<Figure size 432x288 with 1 Axes>"
      ]
     },
     "metadata": {
      "needs_background": "light"
     },
     "output_type": "display_data"
    },
    {
     "name": "stdout",
     "output_type": "stream",
     "text": [
      "The best parameters were:\n",
      "C: 1e-05\n",
      "class_weight: balanced\n",
      "solver: sag\n",
      "\n",
      "\n",
      "Logistic Regression W/ Pf D=1 Prediction Metrics:\n",
      "Train Precision: 0.23809523809523808\n",
      "Train Recall:    0.5910543130990416\n",
      "Train F1 Score:  0.33944954128440363\n",
      "Test Precision:  0.22857142857142856\n",
      "Test Recall:     0.5641025641025641\n",
      "Test F1 Score:   0.3253234750462107\n",
      "\n",
      "\n"
     ]
    },
    {
     "data": {
      "image/png": "[encoded data removed]",
      "text/plain": [
       "<Figure size 432x288 with 1 Axes>"
      ]
     },
     "metadata": {
      "needs_background": "light"
     },
     "output_type": "display_data"
    },
    {
     "data": {
      "image/png": "[encoded data removed]",
      "text/plain": [
       "<Figure size 432x288 with 1 Axes>"
      ]
     },
     "metadata": {
      "needs_background": "light"
     },
     "output_type": "display_data"
    },
    {
     "data": {
      "image/png": "[encoded data removed]",
      "text/plain": [
       "<Figure size 432x288 with 1 Axes>"
      ]
     },
     "metadata": {
      "needs_background": "light"
     },
     "output_type": "display_data"
    },
    {
     "name": "stdout",
     "output_type": "stream",
     "text": [
      "The best parameters were:\n",
      "C: 0.0001\n",
      "class_weight: balanced\n",
      "solver: sag\n",
      "\n",
      "\n",
      "Logistic Regression W/ Pf D=2 Prediction Metrics:\n",
      "Train Precision: 0.23917748917748918\n",
      "Train Recall:    0.7060702875399361\n",
      "Train F1 Score:  0.35731608730800324\n",
      "Test Precision:  0.22975929978118162\n",
      "Test Recall:     0.6730769230769231\n",
      "Test F1 Score:   0.3425774877650898\n",
      "\n",
      "\n"
     ]
    },
    {
     "data": {
      "image/png": "[encoded data removed]",
      "text/plain": [
       "<Figure size 432x288 with 1 Axes>"
      ]
     },
     "metadata": {
      "needs_background": "light"
     },
     "output_type": "display_data"
    },
    {
     "data": {
      "image/png": "[encoded data removed]",
      "text/plain": [
       "<Figure size 432x288 with 1 Axes>"
      ]
     },
     "metadata": {
      "needs_background": "light"
     },
     "output_type": "display_data"
    },
    {
     "data": {
      "image/png": "[encoded data removed]",
      "text/plain": [
       "<Figure size 432x288 with 1 Axes>"
      ]
     },
     "metadata": {
      "needs_background": "light"
     },
     "output_type": "display_data"
    },
    {
     "name": "stdout",
     "output_type": "stream",
     "text": [
      "The best parameters were:\n",
      "C: 1e-05\n",
      "class_weight: balanced\n",
      "solver: saga\n",
      "\n",
      "\n",
      "Logistic Regression W/ Pf D=3 Prediction Metrics:\n",
      "Train Precision: 0.2316950852557673\n",
      "Train Recall:    0.7380191693290735\n",
      "Train F1 Score:  0.3526717557251908\n",
      "Test Precision:  0.21414141414141413\n",
      "Test Recall:     0.6794871794871795\n",
      "Test F1 Score:   0.325652841781874\n"
     ]
    }
   ],
   "source": [
    "for i in range(3):\n",
    "    filename = 'models/tol_1e-4/PF' + str(i+1)\n",
    "    with open(filename, 'rb') as f:\n",
    "        bm = pickle.load(f)\n",
    "    filename = 'models/tol_1e-4/PF' + str(i+1) + '_gs'\n",
    "    with open(filename, 'rb') as f:\n",
    "        gs = pickle.load(f)\n",
    "    display_results(\"Logistic Regression w/ PF D=\" + str(i+1), bm, gs, poly_train_X[i], train_sub_y, poly_test_X[i], test_sub_y)"
   ]
  },
  {
   "cell_type": "markdown",
   "metadata": {},
   "source": [
    "Tuning various hyperparameters clearly improves all of the models significantly, all of the best models using 'saga' as the solver and 'balanced' for the class_weights. Both higher degrees performed better than just the linear model, with the polynomial of degree 2 performing the best using C of 1e-4. Its interesting to note they perform best with slightly differing C values but all much lower than the default 1. There was still a fair amount of issues with some models not converging, so trying a higher tol value might help."
   ]
  },
  {
   "cell_type": "code",
   "execution_count": 15,
   "metadata": {
    "collapsed": true
   },
   "outputs": [
    {
     "name": "stdout",
     "output_type": "stream",
     "text": [
      "Fitting 3 folds for each of 24 candidates, totalling 72 fits\n",
      "[CV 1/3; 2/24] START model__C=1e-05, model__class_weight=None, model__solver=saga\n",
      "[CV 1/3; 2/24] END model__C=1e-05, model__class_weight=None, model__solver=saga;, score=0.318 total time=   2.8s\n",
      "[CV 1/3; 5/24] START model__C=0.0001, model__class_weight=None, model__solver=sag\n",
      "[CV 1/3; 5/24] END model__C=0.0001, model__class_weight=None, model__solver=sag;, score=0.260 total time=   3.0s\n",
      "[CV 2/3; 7/24] START model__C=0.0001, model__class_weight=balanced, model__solver=sag\n",
      "[CV 2/3; 7/24] END model__C=0.0001, model__class_weight=balanced, model__solver=sag;, score=0.330 total time=   3.6s\n",
      "[CV 1/3; 10/24] START model__C=0.001, model__class_weight=None, model__solver=saga\n",
      "[CV 1/3; 10/24] END model__C=0.001, model__class_weight=None, model__solver=saga;, score=0.238 total time=   8.4s\n",
      "[CV 1/3; 13/24] START model__C=0.01, model__class_weight=None, model__solver=sag\n",
      "[CV 1/3; 13/24] END model__C=0.01, model__class_weight=None, model__solver=sag;, score=0.153 total time=  11.7s\n",
      "[CV 2/3; 16/24] START model__C=0.01, model__class_weight=balanced, model__solver=saga\n",
      "[CV 2/3; 16/24] END model__C=0.01, model__class_weight=balanced, model__solver=saga;, score=0.292 total time=  15.1s\n",
      "[CV 1/3; 19/24] START model__C=0.1, model__class_weight=balanced, model__solver=sag\n",
      "[CV 1/3; 19/24] END model__C=0.1, model__class_weight=balanced, model__solver=sag;, score=0.266 total time=  12.9s\n",
      "[CV 3/3; 21/24] START model__C=1, model__class_weight=None, model__solver=sag...\n",
      "[CV 3/3; 21/24] END model__C=1, model__class_weight=None, model__solver=sag;, score=0.229 total time=  10.6s\n",
      "[CV 2/3; 24/24] START model__C=1, model__class_weight=balanced, model__solver=saga\n",
      "[CV 2/3; 24/24] END model__C=1, model__class_weight=balanced, model__solver=saga;, score=0.286 total time=  16.7s\n",
      "[CV 2/3; 3/24] START model__C=1e-05, model__class_weight=balanced, model__solver=sag\n",
      "[CV 2/3; 3/24] END model__C=1e-05, model__class_weight=balanced, model__solver=sag;, score=0.343 total time=   0.0s\n",
      "[CV 2/3; 6/24] START model__C=0.0001, model__class_weight=None, model__solver=saga\n",
      "[CV 2/3; 6/24] END model__C=0.0001, model__class_weight=None, model__solver=saga;, score=0.000 total time=   0.0s\n",
      "[CV 3/3; 6/24] START model__C=0.0001, model__class_weight=None, model__solver=saga\n",
      "[CV 3/3; 6/24] END model__C=0.0001, model__class_weight=None, model__solver=saga;, score=0.000 total time=   0.0s\n",
      "[CV 3/3; 11/24] START model__C=0.001, model__class_weight=balanced, model__solver=sag\n",
      "[CV 3/3; 11/24] END model__C=0.001, model__class_weight=balanced, model__solver=sag;, score=0.334 total time=   0.0s\n",
      "[CV 1/3; 12/24] START model__C=0.001, model__class_weight=balanced, model__solver=saga\n",
      "[CV 1/3; 12/24] END model__C=0.001, model__class_weight=balanced, model__solver=saga;, score=0.323 total time=   0.0s\n",
      "[CV 1/3; 17/24] START model__C=0.1, model__class_weight=None, model__solver=sag.\n",
      "[CV 1/3; 17/24] END model__C=0.1, model__class_weight=None, model__solver=sag;, score=0.083 total time=   0.0s\n",
      "[CV 2/3; 18/24] START model__C=0.1, model__class_weight=None, model__solver=saga\n",
      "[CV 2/3; 18/24] END model__C=0.1, model__class_weight=None, model__solver=saga;, score=0.136 total time=   0.0s\n",
      "[CV 3/3; 19/24] START model__C=0.1, model__class_weight=balanced, model__solver=sag\n",
      "[CV 3/3; 19/24] END model__C=0.1, model__class_weight=balanced, model__solver=sag;, score=0.316 total time=   0.2s\n",
      "[CV 3/3; 24/24] START model__C=1, model__class_weight=balanced, model__solver=saga\n",
      "[CV 3/3; 24/24] END model__C=1, model__class_weight=balanced, model__solver=saga;, score=0.316 total time=   0.2s\n",
      "[CV 2/3; 3/24] START model__C=1e-05, model__class_weight=balanced, model__solver=sag\n",
      "[CV 2/3; 3/24] END model__C=1e-05, model__class_weight=balanced, model__solver=sag;, score=0.342 total time=   0.3s\n",
      "[CV 1/3; 4/24] START model__C=1e-05, model__class_weight=balanced, model__solver=saga\n",
      "[CV 1/3; 4/24] END model__C=1e-05, model__class_weight=balanced, model__solver=saga;, score=0.323 total time=   0.8s\n",
      "[CV 3/3; 5/24] START model__C=0.0001, model__class_weight=None, model__solver=sag\n",
      "[CV 3/3; 5/24] END model__C=0.0001, model__class_weight=None, model__solver=sag;, score=0.000 total time=   0.9s\n",
      "[CV 3/3; 7/24] START model__C=0.0001, model__class_weight=balanced, model__solver=sag\n",
      "[CV 3/3; 7/24] END model__C=0.0001, model__class_weight=balanced, model__solver=sag;, score=0.322 total time=   0.3s\n",
      "[CV 2/3; 8/24] START model__C=0.0001, model__class_weight=balanced, model__solver=saga\n",
      "[CV 2/3; 8/24] END model__C=0.0001, model__class_weight=balanced, model__solver=saga;, score=0.344 total time=   1.2s\n",
      "[CV 1/3; 10/24] START model__C=0.001, model__class_weight=None, model__solver=saga\n",
      "[CV 1/3; 10/24] END model__C=0.001, model__class_weight=None, model__solver=saga;, score=0.053 total time=   3.0s\n",
      "[CV 2/3; 14/24] START model__C=0.01, model__class_weight=None, model__solver=saga\n",
      "[CV 2/3; 14/24] END model__C=0.01, model__class_weight=None, model__solver=saga;, score=0.157 total time=   3.2s\n",
      "[CV 1/3; 18/24] START model__C=0.1, model__class_weight=None, model__solver=saga\n",
      "[CV 1/3; 18/24] END model__C=0.1, model__class_weight=None, model__solver=saga;, score=0.085 total time=   3.2s\n",
      "[CV 1/3; 21/24] START model__C=1, model__class_weight=None, model__solver=sag...\n",
      "[CV 1/3; 21/24] END model__C=1, model__class_weight=None, model__solver=sag;, score=0.092 total time=   2.9s\n",
      "[CV 2/3; 23/24] START model__C=1, model__class_weight=balanced, model__solver=sag\n",
      "[CV 2/3; 23/24] END model__C=1, model__class_weight=balanced, model__solver=sag;, score=0.281 total time=   2.8s\n",
      "[CV 1/3; 2/24] START model__C=1e-05, model__class_weight=None, model__solver=saga\n",
      "[CV 1/3; 2/24] END model__C=1e-05, model__class_weight=None, model__solver=saga;, score=0.018 total time=  36.8s\n",
      "[CV 2/3; 5/24] START model__C=0.0001, model__class_weight=None, model__solver=sag\n",
      "[CV 2/3; 5/24] END model__C=0.0001, model__class_weight=None, model__solver=sag;, score=0.089 total time=  34.6s\n",
      "[CV 3/3; 7/24] START model__C=0.0001, model__class_weight=balanced, model__solver=sag\n",
      "[CV 3/3; 7/24] END model__C=0.0001, model__class_weight=balanced, model__solver=sag;, score=0.278 total time=  34.5s\n",
      "[CV 1/3; 10/24] START model__C=0.001, model__class_weight=None, model__solver=saga\n",
      "[CV 1/3; 10/24] END model__C=0.001, model__class_weight=None, model__solver=saga;, score=0.067 total time=  38.2s\n",
      "[CV 3/3; 12/24] START model__C=0.001, model__class_weight=balanced, model__solver=saga\n",
      "[CV 3/3; 12/24] END model__C=0.001, model__class_weight=balanced, model__solver=saga;, score=0.227 total time=  37.6s\n",
      "[CV 1/3; 16/24] START model__C=0.01, model__class_weight=balanced, model__solver=saga\n",
      "[CV 1/3; 16/24] END model__C=0.01, model__class_weight=balanced, model__solver=saga;, score=0.263 total time=  36.9s\n",
      "[CV 3/3; 18/24] START model__C=0.1, model__class_weight=None, model__solver=saga\n",
      "[CV 3/3; 18/24] END model__C=0.1, model__class_weight=None, model__solver=saga;, score=0.232 total time=  36.3s\n",
      "[CV 3/3; 21/24] START model__C=1, model__class_weight=None, model__solver=sag...\n",
      "[CV 3/3; 21/24] END model__C=1, model__class_weight=None, model__solver=sag;, score=0.212 total time=  32.5s\n",
      "[CV 2/3; 24/24] START model__C=1, model__class_weight=balanced, model__solver=saga\n",
      "[CV 2/3; 24/24] END model__C=1, model__class_weight=balanced, model__solver=saga;, score=0.291 total time=  36.2s\n",
      "[CV 1/3; 3/24] START model__C=1e-05, model__class_weight=balanced, model__solver=sag\n",
      "[CV 1/3; 3/24] END model__C=1e-05, model__class_weight=balanced, model__solver=sag;, score=0.336 total time=   0.0s\n",
      "[CV 2/3; 6/24] START model__C=0.0001, model__class_weight=None, model__solver=saga\n",
      "[CV 2/3; 6/24] END model__C=0.0001, model__class_weight=None, model__solver=saga;, score=0.000 total time=   0.0s\n",
      "[CV 3/3; 6/24] START model__C=0.0001, model__class_weight=None, model__solver=saga\n",
      "[CV 3/3; 6/24] END model__C=0.0001, model__class_weight=None, model__solver=saga;, score=0.000 total time=   0.0s\n",
      "[CV 3/3; 11/24] START model__C=0.001, model__class_weight=balanced, model__solver=sag\n",
      "[CV 3/3; 11/24] END model__C=0.001, model__class_weight=balanced, model__solver=sag;, score=0.330 total time=   0.0s\n"
     ]
    },
    {
     "name": "stderr",
     "output_type": "stream",
     "text": [
      "/opt/conda/lib/python3.9/site-packages/sklearn/linear_model/_sag.py:328: ConvergenceWarning: The max_iter was reached which means the coef_ did not converge\n",
      "  warnings.warn(\"The max_iter was reached which means \"\n",
      "/opt/conda/lib/python3.9/site-packages/sklearn/linear_model/_sag.py:328: ConvergenceWarning: The max_iter was reached which means the coef_ did not converge\n",
      "  warnings.warn(\"The max_iter was reached which means \"\n",
      "/opt/conda/lib/python3.9/site-packages/sklearn/linear_model/_sag.py:328: ConvergenceWarning: The max_iter was reached which means the coef_ did not converge\n",
      "  warnings.warn(\"The max_iter was reached which means \"\n",
      "/opt/conda/lib/python3.9/site-packages/sklearn/linear_model/_sag.py:328: ConvergenceWarning: The max_iter was reached which means the coef_ did not converge\n",
      "  warnings.warn(\"The max_iter was reached which means \"\n",
      "/opt/conda/lib/python3.9/site-packages/sklearn/linear_model/_sag.py:328: ConvergenceWarning: The max_iter was reached which means the coef_ did not converge\n",
      "  warnings.warn(\"The max_iter was reached which means \"\n",
      "/opt/conda/lib/python3.9/site-packages/sklearn/linear_model/_sag.py:328: ConvergenceWarning: The max_iter was reached which means the coef_ did not converge\n",
      "  warnings.warn(\"The max_iter was reached which means \"\n",
      "/opt/conda/lib/python3.9/site-packages/sklearn/linear_model/_sag.py:328: ConvergenceWarning: The max_iter was reached which means the coef_ did not converge\n",
      "  warnings.warn(\"The max_iter was reached which means \"\n"
     ]
    },
    {
     "name": "stdout",
     "output_type": "stream",
     "text": [
      "Fitting 3 folds for each of 24 candidates, totalling 72 fits\n"
     ]
    },
    {
     "name": "stderr",
     "output_type": "stream",
     "text": [
      "/opt/conda/lib/python3.9/site-packages/sklearn/linear_model/_sag.py:328: ConvergenceWarning: The max_iter was reached which means the coef_ did not converge\n",
      "  warnings.warn(\"The max_iter was reached which means \"\n",
      "/opt/conda/lib/python3.9/site-packages/sklearn/linear_model/_sag.py:328: ConvergenceWarning: The max_iter was reached which means the coef_ did not converge\n",
      "  warnings.warn(\"The max_iter was reached which means \"\n",
      "/opt/conda/lib/python3.9/site-packages/sklearn/linear_model/_sag.py:328: ConvergenceWarning: The max_iter was reached which means the coef_ did not converge\n",
      "  warnings.warn(\"The max_iter was reached which means \"\n",
      "/opt/conda/lib/python3.9/site-packages/sklearn/linear_model/_sag.py:328: ConvergenceWarning: The max_iter was reached which means the coef_ did not converge\n",
      "  warnings.warn(\"The max_iter was reached which means \"\n",
      "/opt/conda/lib/python3.9/site-packages/sklearn/linear_model/_sag.py:328: ConvergenceWarning: The max_iter was reached which means the coef_ did not converge\n",
      "  warnings.warn(\"The max_iter was reached which means \"\n",
      "/opt/conda/lib/python3.9/site-packages/sklearn/linear_model/_sag.py:328: ConvergenceWarning: The max_iter was reached which means the coef_ did not converge\n",
      "  warnings.warn(\"The max_iter was reached which means \"\n",
      "/opt/conda/lib/python3.9/site-packages/sklearn/linear_model/_sag.py:328: ConvergenceWarning: The max_iter was reached which means the coef_ did not converge\n",
      "  warnings.warn(\"The max_iter was reached which means \"\n",
      "/opt/conda/lib/python3.9/site-packages/sklearn/linear_model/_sag.py:328: ConvergenceWarning: The max_iter was reached which means the coef_ did not converge\n",
      "  warnings.warn(\"The max_iter was reached which means \"\n",
      "/opt/conda/lib/python3.9/site-packages/sklearn/linear_model/_sag.py:328: ConvergenceWarning: The max_iter was reached which means the coef_ did not converge\n",
      "  warnings.warn(\"The max_iter was reached which means \"\n",
      "/opt/conda/lib/python3.9/site-packages/sklearn/linear_model/_sag.py:328: ConvergenceWarning: The max_iter was reached which means the coef_ did not converge\n",
      "  warnings.warn(\"The max_iter was reached which means \"\n",
      "/opt/conda/lib/python3.9/site-packages/sklearn/linear_model/_sag.py:328: ConvergenceWarning: The max_iter was reached which means the coef_ did not converge\n",
      "  warnings.warn(\"The max_iter was reached which means \"\n",
      "/opt/conda/lib/python3.9/site-packages/sklearn/linear_model/_sag.py:328: ConvergenceWarning: The max_iter was reached which means the coef_ did not converge\n",
      "  warnings.warn(\"The max_iter was reached which means \"\n",
      "/opt/conda/lib/python3.9/site-packages/sklearn/linear_model/_sag.py:328: ConvergenceWarning: The max_iter was reached which means the coef_ did not converge\n",
      "  warnings.warn(\"The max_iter was reached which means \"\n",
      "/opt/conda/lib/python3.9/site-packages/sklearn/linear_model/_sag.py:328: ConvergenceWarning: The max_iter was reached which means the coef_ did not converge\n",
      "  warnings.warn(\"The max_iter was reached which means \"\n",
      "/opt/conda/lib/python3.9/site-packages/sklearn/linear_model/_sag.py:328: ConvergenceWarning: The max_iter was reached which means the coef_ did not converge\n",
      "  warnings.warn(\"The max_iter was reached which means \"\n",
      "/opt/conda/lib/python3.9/site-packages/sklearn/linear_model/_sag.py:328: ConvergenceWarning: The max_iter was reached which means the coef_ did not converge\n",
      "  warnings.warn(\"The max_iter was reached which means \"\n",
      "/opt/conda/lib/python3.9/site-packages/sklearn/linear_model/_sag.py:328: ConvergenceWarning: The max_iter was reached which means the coef_ did not converge\n",
      "  warnings.warn(\"The max_iter was reached which means \"\n",
      "/opt/conda/lib/python3.9/site-packages/sklearn/linear_model/_sag.py:328: ConvergenceWarning: The max_iter was reached which means the coef_ did not converge\n",
      "  warnings.warn(\"The max_iter was reached which means \"\n",
      "/opt/conda/lib/python3.9/site-packages/sklearn/linear_model/_sag.py:328: ConvergenceWarning: The max_iter was reached which means the coef_ did not converge\n",
      "  warnings.warn(\"The max_iter was reached which means \"\n",
      "/opt/conda/lib/python3.9/site-packages/sklearn/linear_model/_sag.py:328: ConvergenceWarning: The max_iter was reached which means the coef_ did not converge\n",
      "  warnings.warn(\"The max_iter was reached which means \"\n",
      "/opt/conda/lib/python3.9/site-packages/sklearn/linear_model/_sag.py:328: ConvergenceWarning: The max_iter was reached which means the coef_ did not converge\n",
      "  warnings.warn(\"The max_iter was reached which means \"\n",
      "/opt/conda/lib/python3.9/site-packages/sklearn/linear_model/_sag.py:328: ConvergenceWarning: The max_iter was reached which means the coef_ did not converge\n",
      "  warnings.warn(\"The max_iter was reached which means \"\n",
      "/opt/conda/lib/python3.9/site-packages/sklearn/linear_model/_sag.py:328: ConvergenceWarning: The max_iter was reached which means the coef_ did not converge\n",
      "  warnings.warn(\"The max_iter was reached which means \"\n",
      "/opt/conda/lib/python3.9/site-packages/sklearn/linear_model/_sag.py:328: ConvergenceWarning: The max_iter was reached which means the coef_ did not converge\n",
      "  warnings.warn(\"The max_iter was reached which means \"\n"
     ]
    },
    {
     "name": "stdout",
     "output_type": "stream",
     "text": [
      "Fitting 3 folds for each of 24 candidates, totalling 72 fits\n"
     ]
    },
    {
     "name": "stderr",
     "output_type": "stream",
     "text": [
      "/opt/conda/lib/python3.9/site-packages/sklearn/linear_model/_sag.py:328: ConvergenceWarning: The max_iter was reached which means the coef_ did not converge\n",
      "  warnings.warn(\"The max_iter was reached which means \"\n",
      "/opt/conda/lib/python3.9/site-packages/sklearn/linear_model/_sag.py:328: ConvergenceWarning: The max_iter was reached which means the coef_ did not converge\n",
      "  warnings.warn(\"The max_iter was reached which means \"\n",
      "/opt/conda/lib/python3.9/site-packages/sklearn/linear_model/_sag.py:328: ConvergenceWarning: The max_iter was reached which means the coef_ did not converge\n",
      "  warnings.warn(\"The max_iter was reached which means \"\n",
      "/opt/conda/lib/python3.9/site-packages/sklearn/linear_model/_sag.py:328: ConvergenceWarning: The max_iter was reached which means the coef_ did not converge\n",
      "  warnings.warn(\"The max_iter was reached which means \"\n",
      "/opt/conda/lib/python3.9/site-packages/sklearn/linear_model/_sag.py:328: ConvergenceWarning: The max_iter was reached which means the coef_ did not converge\n",
      "  warnings.warn(\"The max_iter was reached which means \"\n",
      "/opt/conda/lib/python3.9/site-packages/sklearn/linear_model/_sag.py:328: ConvergenceWarning: The max_iter was reached which means the coef_ did not converge\n",
      "  warnings.warn(\"The max_iter was reached which means \"\n",
      "/opt/conda/lib/python3.9/site-packages/sklearn/linear_model/_sag.py:328: ConvergenceWarning: The max_iter was reached which means the coef_ did not converge\n",
      "  warnings.warn(\"The max_iter was reached which means \"\n",
      "/opt/conda/lib/python3.9/site-packages/sklearn/linear_model/_sag.py:328: ConvergenceWarning: The max_iter was reached which means the coef_ did not converge\n",
      "  warnings.warn(\"The max_iter was reached which means \"\n",
      "/opt/conda/lib/python3.9/site-packages/sklearn/linear_model/_sag.py:328: ConvergenceWarning: The max_iter was reached which means the coef_ did not converge\n",
      "  warnings.warn(\"The max_iter was reached which means \"\n",
      "/opt/conda/lib/python3.9/site-packages/sklearn/linear_model/_sag.py:328: ConvergenceWarning: The max_iter was reached which means the coef_ did not converge\n",
      "  warnings.warn(\"The max_iter was reached which means \"\n",
      "/opt/conda/lib/python3.9/site-packages/sklearn/linear_model/_sag.py:328: ConvergenceWarning: The max_iter was reached which means the coef_ did not converge\n",
      "  warnings.warn(\"The max_iter was reached which means \"\n",
      "/opt/conda/lib/python3.9/site-packages/sklearn/linear_model/_sag.py:328: ConvergenceWarning: The max_iter was reached which means the coef_ did not converge\n",
      "  warnings.warn(\"The max_iter was reached which means \"\n",
      "/opt/conda/lib/python3.9/site-packages/sklearn/linear_model/_sag.py:328: ConvergenceWarning: The max_iter was reached which means the coef_ did not converge\n",
      "  warnings.warn(\"The max_iter was reached which means \"\n",
      "/opt/conda/lib/python3.9/site-packages/sklearn/linear_model/_sag.py:328: ConvergenceWarning: The max_iter was reached which means the coef_ did not converge\n",
      "  warnings.warn(\"The max_iter was reached which means \"\n",
      "/opt/conda/lib/python3.9/site-packages/sklearn/linear_model/_sag.py:328: ConvergenceWarning: The max_iter was reached which means the coef_ did not converge\n",
      "  warnings.warn(\"The max_iter was reached which means \"\n",
      "/opt/conda/lib/python3.9/site-packages/sklearn/linear_model/_sag.py:328: ConvergenceWarning: The max_iter was reached which means the coef_ did not converge\n",
      "  warnings.warn(\"The max_iter was reached which means \"\n",
      "/opt/conda/lib/python3.9/site-packages/sklearn/linear_model/_sag.py:328: ConvergenceWarning: The max_iter was reached which means the coef_ did not converge\n",
      "  warnings.warn(\"The max_iter was reached which means \"\n",
      "/opt/conda/lib/python3.9/site-packages/sklearn/linear_model/_sag.py:328: ConvergenceWarning: The max_iter was reached which means the coef_ did not converge\n",
      "  warnings.warn(\"The max_iter was reached which means \"\n",
      "/opt/conda/lib/python3.9/site-packages/sklearn/linear_model/_sag.py:328: ConvergenceWarning: The max_iter was reached which means the coef_ did not converge\n",
      "  warnings.warn(\"The max_iter was reached which means \"\n"
     ]
    },
    {
     "name": "stdout",
     "output_type": "stream",
     "text": [
      "[CV 1/3; 11/24] START model__C=0.001, model__class_weight=balanced, model__solver=sag\n",
      "[CV 1/3; 11/24] END model__C=0.001, model__class_weight=balanced, model__solver=sag;, score=0.336 total time=   0.5s\n",
      "[CV 2/3; 12/24] START model__C=0.001, model__class_weight=balanced, model__solver=saga\n",
      "[CV 2/3; 12/24] END model__C=0.001, model__class_weight=balanced, model__solver=saga;, score=0.335 total time=   1.8s\n",
      "[CV 1/3; 14/24] START model__C=0.01, model__class_weight=None, model__solver=saga\n",
      "[CV 1/3; 14/24] END model__C=0.01, model__class_weight=None, model__solver=saga;, score=0.047 total time=   3.1s\n",
      "[CV 3/3; 17/24] START model__C=0.1, model__class_weight=None, model__solver=sag.\n",
      "[CV 3/3; 17/24] END model__C=0.1, model__class_weight=None, model__solver=sag;, score=0.194 total time=   2.9s\n",
      "[CV 2/3; 20/24] START model__C=0.1, model__class_weight=balanced, model__solver=saga\n",
      "[CV 2/3; 20/24] END model__C=0.1, model__class_weight=balanced, model__solver=saga;, score=0.289 total time=   3.2s\n",
      "[CV 1/3; 23/24] START model__C=1, model__class_weight=balanced, model__solver=sag\n",
      "[CV 1/3; 23/24] END model__C=1, model__class_weight=balanced, model__solver=sag;, score=0.269 total time=   2.8s\n",
      "[CV 2/3; 1/24] START model__C=1e-05, model__class_weight=None, model__solver=sag\n",
      "[CV 2/3; 1/24] END model__C=1e-05, model__class_weight=None, model__solver=sag;, score=0.000 total time=  33.2s\n",
      "[CV 3/3; 4/24] START model__C=1e-05, model__class_weight=balanced, model__solver=saga\n",
      "[CV 3/3; 4/24] END model__C=1e-05, model__class_weight=balanced, model__solver=saga;, score=0.326 total time=  38.4s\n",
      "[CV 1/3; 8/24] START model__C=0.0001, model__class_weight=balanced, model__solver=saga\n",
      "[CV 1/3; 8/24] END model__C=0.0001, model__class_weight=balanced, model__solver=saga;, score=0.325 total time=  38.5s\n",
      "[CV 1/3; 11/24] START model__C=0.001, model__class_weight=balanced, model__solver=sag\n",
      "[CV 1/3; 11/24] END model__C=0.001, model__class_weight=balanced, model__solver=sag;, score=0.290 total time=  34.6s\n",
      "[CV 1/3; 13/24] START model__C=0.01, model__class_weight=None, model__solver=sag\n",
      "[CV 1/3; 13/24] END model__C=0.01, model__class_weight=None, model__solver=sag;, score=0.135 total time=  34.2s\n",
      "[CV 2/3; 15/24] START model__C=0.01, model__class_weight=balanced, model__solver=sag\n",
      "[CV 2/3; 15/24] END model__C=0.01, model__class_weight=balanced, model__solver=sag;, score=0.267 total time=  33.4s\n",
      "[CV 3/3; 17/24] START model__C=0.1, model__class_weight=None, model__solver=sag.\n",
      "[CV 3/3; 17/24] END model__C=0.1, model__class_weight=None, model__solver=sag;, score=0.213 total time=  33.3s\n",
      "[CV 2/3; 20/24] START model__C=0.1, model__class_weight=balanced, model__solver=saga\n",
      "[CV 2/3; 20/24] END model__C=0.1, model__class_weight=balanced, model__solver=saga;, score=0.291 total time=  36.5s\n",
      "[CV 1/3; 23/24] START model__C=1, model__class_weight=balanced, model__solver=sag\n",
      "[CV 1/3; 23/24] END model__C=1, model__class_weight=balanced, model__solver=sag;, score=0.239 total time=  33.4s\n",
      "[CV 3/3; 1/24] START model__C=1e-05, model__class_weight=None, model__solver=sag\n",
      "[CV 3/3; 1/24] END model__C=1e-05, model__class_weight=None, model__solver=sag;, score=0.000 total time=   0.0s\n",
      "[CV 2/3; 4/24] START model__C=1e-05, model__class_weight=balanced, model__solver=saga\n",
      "[CV 2/3; 4/24] END model__C=1e-05, model__class_weight=balanced, model__solver=saga;, score=0.340 total time=   0.0s\n",
      "[CV 3/3; 7/24] START model__C=0.0001, model__class_weight=balanced, model__solver=sag\n",
      "[CV 3/3; 7/24] END model__C=0.0001, model__class_weight=balanced, model__solver=sag;, score=0.339 total time=   0.0s\n",
      "[CV 1/3; 8/24] START model__C=0.0001, model__class_weight=balanced, model__solver=saga\n",
      "[CV 1/3; 8/24] END model__C=0.0001, model__class_weight=balanced, model__solver=saga;, score=0.331 total time=   0.0s\n",
      "[CV 1/3; 13/24] START model__C=0.01, model__class_weight=None, model__solver=sag\n",
      "[CV 1/3; 13/24] END model__C=0.01, model__class_weight=None, model__solver=sag;, score=0.036 total time=   0.0s\n",
      "[CV 2/3; 13/24] START model__C=0.01, model__class_weight=None, model__solver=sag\n",
      "[CV 2/3; 13/24] END model__C=0.01, model__class_weight=None, model__solver=sag;, score=0.090 total time=   0.0s\n",
      "[CV 3/3; 17/24] START model__C=0.1, model__class_weight=None, model__solver=sag.\n",
      "[CV 3/3; 17/24] END model__C=0.1, model__class_weight=None, model__solver=sag;, score=0.203 total time=   0.0s\n",
      "[CV 1/3; 19/24] START model__C=0.1, model__class_weight=balanced, model__solver=sag\n",
      "[CV 1/3; 19/24] END model__C=0.1, model__class_weight=balanced, model__solver=sag;, score=0.330 total time=   0.1s\n",
      "[CV 1/3; 23/24] START model__C=1, model__class_weight=balanced, model__solver=sag\n",
      "[CV 1/3; 23/24] END model__C=1, model__class_weight=balanced, model__solver=sag;, score=0.326 total time=   0.1s\n",
      "[CV 1/3; 1/24] START model__C=1e-05, model__class_weight=None, model__solver=sag\n",
      "[CV 1/3; 1/24] END model__C=1e-05, model__class_weight=None, model__solver=sag;, score=0.000 total time=   0.5s\n",
      "[CV 3/3; 4/24] START model__C=1e-05, model__class_weight=balanced, model__solver=saga\n",
      "[CV 3/3; 4/24] END model__C=1e-05, model__class_weight=balanced, model__solver=saga;, score=0.331 total time=   0.3s\n",
      "[CV 1/3; 6/24] START model__C=0.0001, model__class_weight=None, model__solver=saga\n",
      "[CV 1/3; 6/24] END model__C=0.0001, model__class_weight=None, model__solver=saga;, score=0.000 total time=   1.3s\n",
      "[CV 2/3; 10/24] START model__C=0.001, model__class_weight=None, model__solver=saga\n",
      "[CV 2/3; 10/24] END model__C=0.001, model__class_weight=None, model__solver=saga;, score=0.090 total time=   1.9s\n",
      "[CV 1/3; 15/24] START model__C=0.01, model__class_weight=balanced, model__solver=sag\n",
      "[CV 1/3; 15/24] END model__C=0.01, model__class_weight=balanced, model__solver=sag;, score=0.312 total time=   1.0s\n",
      "[CV 3/3; 16/24] START model__C=0.01, model__class_weight=balanced, model__solver=saga\n",
      "[CV 3/3; 16/24] END model__C=0.01, model__class_weight=balanced, model__solver=saga;, score=0.254 total time=   2.2s\n",
      "[CV 1/3; 19/24] START model__C=0.1, model__class_weight=balanced, model__solver=sag\n",
      "[CV 1/3; 19/24] END model__C=0.1, model__class_weight=balanced, model__solver=sag;, score=0.290 total time=   2.9s\n",
      "[CV 3/3; 21/24] START model__C=1, model__class_weight=None, model__solver=sag...\n",
      "[CV 3/3; 21/24] END model__C=1, model__class_weight=None, model__solver=sag;, score=0.179 total time=   2.8s\n",
      "[CV 2/3; 24/24] START model__C=1, model__class_weight=balanced, model__solver=saga\n",
      "[CV 2/3; 24/24] END model__C=1, model__class_weight=balanced, model__solver=saga;, score=0.285 total time=   3.0s\n",
      "[CV 1/3; 3/24] START model__C=1e-05, model__class_weight=balanced, model__solver=sag\n",
      "[CV 1/3; 3/24] END model__C=1e-05, model__class_weight=balanced, model__solver=sag;, score=0.344 total time=   5.2s\n",
      "[CV 1/3; 4/24] START model__C=1e-05, model__class_weight=balanced, model__solver=saga\n",
      "[CV 1/3; 4/24] END model__C=1e-05, model__class_weight=balanced, model__solver=saga;, score=0.324 total time=   4.0s\n",
      "[CV 2/3; 4/24] START model__C=1e-05, model__class_weight=balanced, model__solver=saga\n",
      "[CV 2/3; 4/24] END model__C=1e-05, model__class_weight=balanced, model__solver=saga;, score=0.321 total time=   4.1s\n",
      "[CV 1/3; 5/24] START model__C=0.0001, model__class_weight=None, model__solver=sag\n",
      "[CV 1/3; 5/24] END model__C=0.0001, model__class_weight=None, model__solver=sag;, score=0.050 total time=  34.5s\n",
      "[CV 3/3; 7/24] START model__C=0.0001, model__class_weight=balanced, model__solver=sag\n",
      "[CV 3/3; 7/24] END model__C=0.0001, model__class_weight=balanced, model__solver=sag;, score=0.288 total time=  19.1s\n",
      "[CV 2/3; 11/24] START model__C=0.001, model__class_weight=balanced, model__solver=sag\n",
      "[CV 2/3; 11/24] END model__C=0.001, model__class_weight=balanced, model__solver=sag;, score=0.297 total time=  26.0s\n",
      "[CV 1/3; 13/24] START model__C=0.01, model__class_weight=None, model__solver=sag\n",
      "[CV 1/3; 13/24] END model__C=0.01, model__class_weight=None, model__solver=sag;, score=0.135 total time=  34.6s\n",
      "[CV 2/3; 15/24] START model__C=0.01, model__class_weight=balanced, model__solver=sag\n",
      "[CV 2/3; 15/24] END model__C=0.01, model__class_weight=balanced, model__solver=sag;, score=0.267 total time=  33.3s\n"
     ]
    },
    {
     "name": "stderr",
     "output_type": "stream",
     "text": [
      "/opt/conda/lib/python3.9/site-packages/sklearn/linear_model/_sag.py:328: ConvergenceWarning: The max_iter was reached which means the coef_ did not converge\n",
      "  warnings.warn(\"The max_iter was reached which means \"\n",
      "/opt/conda/lib/python3.9/site-packages/sklearn/linear_model/_sag.py:328: ConvergenceWarning: The max_iter was reached which means the coef_ did not converge\n",
      "  warnings.warn(\"The max_iter was reached which means \"\n",
      "/opt/conda/lib/python3.9/site-packages/sklearn/linear_model/_sag.py:328: ConvergenceWarning: The max_iter was reached which means the coef_ did not converge\n",
      "  warnings.warn(\"The max_iter was reached which means \"\n",
      "/opt/conda/lib/python3.9/site-packages/sklearn/linear_model/_sag.py:328: ConvergenceWarning: The max_iter was reached which means the coef_ did not converge\n",
      "  warnings.warn(\"The max_iter was reached which means \"\n",
      "/opt/conda/lib/python3.9/site-packages/sklearn/linear_model/_sag.py:328: ConvergenceWarning: The max_iter was reached which means the coef_ did not converge\n",
      "  warnings.warn(\"The max_iter was reached which means \"\n",
      "/opt/conda/lib/python3.9/site-packages/sklearn/linear_model/_sag.py:328: ConvergenceWarning: The max_iter was reached which means the coef_ did not converge\n",
      "  warnings.warn(\"The max_iter was reached which means \"\n",
      "/opt/conda/lib/python3.9/site-packages/sklearn/linear_model/_sag.py:328: ConvergenceWarning: The max_iter was reached which means the coef_ did not converge\n",
      "  warnings.warn(\"The max_iter was reached which means \"\n",
      "/opt/conda/lib/python3.9/site-packages/sklearn/linear_model/_sag.py:328: ConvergenceWarning: The max_iter was reached which means the coef_ did not converge\n",
      "  warnings.warn(\"The max_iter was reached which means \"\n",
      "/opt/conda/lib/python3.9/site-packages/sklearn/linear_model/_sag.py:328: ConvergenceWarning: The max_iter was reached which means the coef_ did not converge\n",
      "  warnings.warn(\"The max_iter was reached which means \"\n",
      "/opt/conda/lib/python3.9/site-packages/sklearn/linear_model/_sag.py:328: ConvergenceWarning: The max_iter was reached which means the coef_ did not converge\n",
      "  warnings.warn(\"The max_iter was reached which means \"\n",
      "/opt/conda/lib/python3.9/site-packages/sklearn/linear_model/_sag.py:328: ConvergenceWarning: The max_iter was reached which means the coef_ did not converge\n",
      "  warnings.warn(\"The max_iter was reached which means \"\n",
      "/opt/conda/lib/python3.9/site-packages/sklearn/linear_model/_sag.py:328: ConvergenceWarning: The max_iter was reached which means the coef_ did not converge\n",
      "  warnings.warn(\"The max_iter was reached which means \"\n",
      "/opt/conda/lib/python3.9/site-packages/sklearn/linear_model/_sag.py:328: ConvergenceWarning: The max_iter was reached which means the coef_ did not converge\n",
      "  warnings.warn(\"The max_iter was reached which means \"\n",
      "/opt/conda/lib/python3.9/site-packages/sklearn/linear_model/_sag.py:328: ConvergenceWarning: The max_iter was reached which means the coef_ did not converge\n",
      "  warnings.warn(\"The max_iter was reached which means \"\n",
      "/opt/conda/lib/python3.9/site-packages/sklearn/linear_model/_sag.py:328: ConvergenceWarning: The max_iter was reached which means the coef_ did not converge\n",
      "  warnings.warn(\"The max_iter was reached which means \"\n",
      "/opt/conda/lib/python3.9/site-packages/sklearn/linear_model/_sag.py:328: ConvergenceWarning: The max_iter was reached which means the coef_ did not converge\n",
      "  warnings.warn(\"The max_iter was reached which means \"\n",
      "/opt/conda/lib/python3.9/site-packages/sklearn/linear_model/_sag.py:328: ConvergenceWarning: The max_iter was reached which means the coef_ did not converge\n",
      "  warnings.warn(\"The max_iter was reached which means \"\n",
      "/opt/conda/lib/python3.9/site-packages/sklearn/linear_model/_sag.py:328: ConvergenceWarning: The max_iter was reached which means the coef_ did not converge\n",
      "  warnings.warn(\"The max_iter was reached which means \"\n",
      "/opt/conda/lib/python3.9/site-packages/sklearn/linear_model/_sag.py:328: ConvergenceWarning: The max_iter was reached which means the coef_ did not converge\n",
      "  warnings.warn(\"The max_iter was reached which means \"\n",
      "/opt/conda/lib/python3.9/site-packages/sklearn/linear_model/_sag.py:328: ConvergenceWarning: The max_iter was reached which means the coef_ did not converge\n",
      "  warnings.warn(\"The max_iter was reached which means \"\n",
      "/opt/conda/lib/python3.9/site-packages/sklearn/linear_model/_sag.py:328: ConvergenceWarning: The max_iter was reached which means the coef_ did not converge\n",
      "  warnings.warn(\"The max_iter was reached which means \"\n",
      "/opt/conda/lib/python3.9/site-packages/sklearn/linear_model/_sag.py:328: ConvergenceWarning: The max_iter was reached which means the coef_ did not converge\n",
      "  warnings.warn(\"The max_iter was reached which means \"\n",
      "/opt/conda/lib/python3.9/site-packages/sklearn/linear_model/_sag.py:328: ConvergenceWarning: The max_iter was reached which means the coef_ did not converge\n",
      "  warnings.warn(\"The max_iter was reached which means \"\n",
      "/opt/conda/lib/python3.9/site-packages/sklearn/linear_model/_sag.py:328: ConvergenceWarning: The max_iter was reached which means the coef_ did not converge\n",
      "  warnings.warn(\"The max_iter was reached which means \"\n",
      "/opt/conda/lib/python3.9/site-packages/sklearn/linear_model/_sag.py:328: ConvergenceWarning: The max_iter was reached which means the coef_ did not converge\n",
      "  warnings.warn(\"The max_iter was reached which means \"\n",
      "/opt/conda/lib/python3.9/site-packages/sklearn/linear_model/_sag.py:328: ConvergenceWarning: The max_iter was reached which means the coef_ did not converge\n",
      "  warnings.warn(\"The max_iter was reached which means \"\n",
      "/opt/conda/lib/python3.9/site-packages/sklearn/linear_model/_sag.py:328: ConvergenceWarning: The max_iter was reached which means the coef_ did not converge\n",
      "  warnings.warn(\"The max_iter was reached which means \"\n",
      "/opt/conda/lib/python3.9/site-packages/sklearn/linear_model/_sag.py:328: ConvergenceWarning: The max_iter was reached which means the coef_ did not converge\n",
      "  warnings.warn(\"The max_iter was reached which means \"\n",
      "/opt/conda/lib/python3.9/site-packages/sklearn/linear_model/_sag.py:328: ConvergenceWarning: The max_iter was reached which means the coef_ did not converge\n",
      "  warnings.warn(\"The max_iter was reached which means \"\n"
     ]
    }
   ],
   "source": [
    "lr_model = LogisticRegression(max_iter=200, random_state=42, tol=1e-3)\n",
    "for i in range(3):\n",
    "    bm, gs = train_model(lr_model, lr_params, poly_train_X[i], train_sub_y)\n",
    "    filename = 'models/tol_1e-3/PF' + str(i+1)\n",
    "    with open(filename, 'wb') as f:\n",
    "        pickle.dump(bm, f)\n",
    "    filename = 'models/tol_1e-3/PF' + str(i+1) + '_gs'\n",
    "    with open(filename, 'wb') as f:\n",
    "        pickle.dump(gs, f)"
   ]
  },
  {
   "cell_type": "markdown",
   "metadata": {},
   "source": [
    "#### Polynomial Features, Degree = 1-3, tol = 1e-3, Best Model"
   ]
  },
  {
   "cell_type": "code",
   "execution_count": 67,
   "metadata": {
    "scrolled": false
   },
   "outputs": [
    {
     "name": "stdout",
     "output_type": "stream",
     "text": [
      "\n",
      "\n"
     ]
    },
    {
     "data": {
      "image/png": "[encoded data removed]",
      "text/plain": [
       "<Figure size 432x288 with 1 Axes>"
      ]
     },
     "metadata": {
      "needs_background": "light"
     },
     "output_type": "display_data"
    },
    {
     "data": {
      "image/png": "[encoded data removed]",
      "text/plain": [
       "<Figure size 432x288 with 1 Axes>"
      ]
     },
     "metadata": {
      "needs_background": "light"
     },
     "output_type": "display_data"
    },
    {
     "data": {
      "image/png": "[encoded data removed]",
      "text/plain": [
       "<Figure size 432x288 with 1 Axes>"
      ]
     },
     "metadata": {
      "needs_background": "light"
     },
     "output_type": "display_data"
    },
    {
     "name": "stdout",
     "output_type": "stream",
     "text": [
      "The best parameters were:\n",
      "C: 0.01\n",
      "class_weight: balanced\n",
      "solver: sag\n",
      "\n",
      "\n",
      "Logistic Regression W/ Pf D=1 Prediction Metrics:\n",
      "Train Precision: 0.22535211267605634\n",
      "Train Recall:    0.7667731629392971\n",
      "Train F1 Score:  0.3483309143686502\n",
      "Test Precision:  0.20985401459854014\n",
      "Test Recall:     0.7371794871794872\n",
      "Test F1 Score:   0.32670454545454547\n",
      "\n",
      "\n"
     ]
    },
    {
     "data": {
      "image/png": "[encoded data removed]",
      "text/plain": [
       "<Figure size 432x288 with 1 Axes>"
      ]
     },
     "metadata": {
      "needs_background": "light"
     },
     "output_type": "display_data"
    },
    {
     "data": {
      "image/png": "[encoded data removed]",
      "text/plain": [
       "<Figure size 432x288 with 1 Axes>"
      ]
     },
     "metadata": {
      "needs_background": "light"
     },
     "output_type": "display_data"
    },
    {
     "data": {
      "image/png": "[encoded data removed]",
      "text/plain": [
       "<Figure size 432x288 with 1 Axes>"
      ]
     },
     "metadata": {
      "needs_background": "light"
     },
     "output_type": "display_data"
    },
    {
     "name": "stdout",
     "output_type": "stream",
     "text": [
      "The best parameters were:\n",
      "C: 0.0001\n",
      "class_weight: balanced\n",
      "solver: sag\n",
      "\n",
      "\n",
      "Logistic Regression W/ Pf D=2 Prediction Metrics:\n",
      "Train Precision: 0.23917748917748918\n",
      "Train Recall:    0.7060702875399361\n",
      "Train F1 Score:  0.35731608730800324\n",
      "Test Precision:  0.2314410480349345\n",
      "Test Recall:     0.6794871794871795\n",
      "Test F1 Score:   0.3452768729641694\n",
      "\n",
      "\n"
     ]
    },
    {
     "data": {
      "image/png": "[encoded data removed]",
      "text/plain": [
       "<Figure size 432x288 with 1 Axes>"
      ]
     },
     "metadata": {
      "needs_background": "light"
     },
     "output_type": "display_data"
    },
    {
     "data": {
      "image/png": "[encoded data removed]",
      "text/plain": [
       "<Figure size 432x288 with 1 Axes>"
      ]
     },
     "metadata": {
      "needs_background": "light"
     },
     "output_type": "display_data"
    },
    {
     "data": {
      "image/png": "[encoded data removed]",
      "text/plain": [
       "<Figure size 432x288 with 1 Axes>"
      ]
     },
     "metadata": {
      "needs_background": "light"
     },
     "output_type": "display_data"
    },
    {
     "name": "stdout",
     "output_type": "stream",
     "text": [
      "The best parameters were:\n",
      "C: 1e-05\n",
      "class_weight: balanced\n",
      "solver: sag\n",
      "\n",
      "\n",
      "Logistic Regression W/ Pf D=3 Prediction Metrics:\n",
      "Train Precision: 0.22602089268755934\n",
      "Train Recall:    0.7603833865814696\n",
      "Train F1 Score:  0.3484626647144949\n",
      "Test Precision:  0.2169811320754717\n",
      "Test Recall:     0.7371794871794872\n",
      "Test F1 Score:   0.33527696793002915\n"
     ]
    }
   ],
   "source": [
    "for i in range(3):\n",
    "    filename = 'models/tol_1e-3/PF' + str(i+1)\n",
    "    with open(filename, 'rb') as f:\n",
    "        bm = pickle.load(f)\n",
    "    filename = 'models/tol_1e-3/PF' + str(i+1) + '_gs'\n",
    "    with open(filename, 'rb') as f:\n",
    "        gs = pickle.load(f)\n",
    "    display_results(\"Logistic Regression w/ PF D=\" + str(i+1), bm, gs, poly_train_X[i], train_sub_y, poly_test_X[i], test_sub_y)"
   ]
  },
  {
   "cell_type": "markdown",
   "metadata": {},
   "source": [
    "Increasing the 'tol' value seemed to improve results for all 3 degrees. The linear model's recall improved by a lot, the 2nd degree poly only increasing slightly for both values, and the 3rd degree increased a fair amount where it's now the best model overall for recall. Degree 2 is still the best for overall accuracy based on it's f1 score for both tol values. As the accuracy is increasing, it might be worthwhile to try one more degree higher of tol value."
   ]
  },
  {
   "cell_type": "code",
   "execution_count": 80,
   "metadata": {
    "collapsed": true
   },
   "outputs": [
    {
     "name": "stdout",
     "output_type": "stream",
     "text": [
      "Fitting 3 folds for each of 24 candidates, totalling 72 fits\n"
     ]
    },
    {
     "name": "stderr",
     "output_type": "stream",
     "text": [
      "/opt/conda/lib/python3.9/site-packages/sklearn/linear_model/_sag.py:328: ConvergenceWarning: The max_iter was reached which means the coef_ did not converge\n",
      "  warnings.warn(\"The max_iter was reached which means \"\n",
      "/opt/conda/lib/python3.9/site-packages/sklearn/linear_model/_sag.py:328: ConvergenceWarning: The max_iter was reached which means the coef_ did not converge\n",
      "  warnings.warn(\"The max_iter was reached which means \"\n",
      "/opt/conda/lib/python3.9/site-packages/sklearn/linear_model/_sag.py:328: ConvergenceWarning: The max_iter was reached which means the coef_ did not converge\n",
      "  warnings.warn(\"The max_iter was reached which means \"\n"
     ]
    },
    {
     "name": "stdout",
     "output_type": "stream",
     "text": [
      "Fitting 3 folds for each of 24 candidates, totalling 72 fits\n",
      "Fitting 3 folds for each of 24 candidates, totalling 72 fits\n",
      "[CV 1/3; 1/24] START model__C=1e-05, model__class_weight=None, model__solver=sag\n",
      "[CV 1/3; 1/24] END model__C=1e-05, model__class_weight=None, model__solver=sag;, score=0.000 total time=   0.0s\n",
      "[CV 2/3; 3/24] START model__C=1e-05, model__class_weight=balanced, model__solver=sag\n",
      "[CV 2/3; 3/24] END model__C=1e-05, model__class_weight=balanced, model__solver=sag;, score=0.318 total time=   0.0s\n",
      "[CV 3/3; 3/24] START model__C=1e-05, model__class_weight=balanced, model__solver=sag\n",
      "[CV 3/3; 3/24] END model__C=1e-05, model__class_weight=balanced, model__solver=sag;, score=0.315 total time=   0.0s\n",
      "[CV 1/3; 4/24] START model__C=1e-05, model__class_weight=balanced, model__solver=saga\n",
      "[CV 1/3; 4/24] END model__C=1e-05, model__class_weight=balanced, model__solver=saga;, score=0.340 total time=   0.0s\n",
      "[CV 2/3; 4/24] START model__C=1e-05, model__class_weight=balanced, model__solver=saga\n",
      "[CV 2/3; 4/24] END model__C=1e-05, model__class_weight=balanced, model__solver=saga;, score=0.336 total time=   0.0s\n",
      "[CV 1/3; 5/24] START model__C=0.0001, model__class_weight=None, model__solver=sag\n",
      "[CV 1/3; 5/24] END model__C=0.0001, model__class_weight=None, model__solver=sag;, score=0.000 total time=   0.0s\n",
      "[CV 2/3; 5/24] START model__C=0.0001, model__class_weight=None, model__solver=sag\n",
      "[CV 2/3; 5/24] END model__C=0.0001, model__class_weight=None, model__solver=sag;, score=0.000 total time=   0.0s\n",
      "[CV 3/3; 5/24] START model__C=0.0001, model__class_weight=None, model__solver=sag\n",
      "[CV 3/3; 5/24] END model__C=0.0001, model__class_weight=None, model__solver=sag;, score=0.000 total time=   0.0s\n",
      "[CV 1/3; 6/24] START model__C=0.0001, model__class_weight=None, model__solver=saga\n",
      "[CV 1/3; 6/24] END model__C=0.0001, model__class_weight=None, model__solver=saga;, score=0.000 total time=   0.0s\n",
      "[CV 2/3; 6/24] START model__C=0.0001, model__class_weight=None, model__solver=saga\n",
      "[CV 2/3; 6/24] END model__C=0.0001, model__class_weight=None, model__solver=saga;, score=0.000 total time=   0.0s\n",
      "[CV 3/3; 6/24] START model__C=0.0001, model__class_weight=None, model__solver=saga\n",
      "[CV 3/3; 6/24] END model__C=0.0001, model__class_weight=None, model__solver=saga;, score=0.000 total time=   0.0s\n",
      "[CV 1/3; 7/24] START model__C=0.0001, model__class_weight=balanced, model__solver=sag\n",
      "[CV 1/3; 7/24] END model__C=0.0001, model__class_weight=balanced, model__solver=sag;, score=0.335 total time=   0.0s\n",
      "[CV 2/3; 7/24] START model__C=0.0001, model__class_weight=balanced, model__solver=sag\n",
      "[CV 2/3; 7/24] END model__C=0.0001, model__class_weight=balanced, model__solver=sag;, score=0.337 total time=   0.0s\n",
      "[CV 3/3; 7/24] START model__C=0.0001, model__class_weight=balanced, model__solver=sag\n",
      "[CV 3/3; 7/24] END model__C=0.0001, model__class_weight=balanced, model__solver=sag;, score=0.345 total time=   0.0s\n",
      "[CV 1/3; 8/24] START model__C=0.0001, model__class_weight=balanced, model__solver=saga\n",
      "[CV 1/3; 8/24] END model__C=0.0001, model__class_weight=balanced, model__solver=saga;, score=0.332 total time=   0.0s\n",
      "[CV 2/3; 8/24] START model__C=0.0001, model__class_weight=balanced, model__solver=saga\n",
      "[CV 2/3; 8/24] END model__C=0.0001, model__class_weight=balanced, model__solver=saga;, score=0.336 total time=   0.0s\n",
      "[CV 3/3; 8/24] START model__C=0.0001, model__class_weight=balanced, model__solver=saga\n",
      "[CV 3/3; 8/24] END model__C=0.0001, model__class_weight=balanced, model__solver=saga;, score=0.342 total time=   0.0s\n",
      "[CV 1/3; 9/24] START model__C=0.001, model__class_weight=None, model__solver=sag\n",
      "[CV 1/3; 9/24] END model__C=0.001, model__class_weight=None, model__solver=sag;, score=0.000 total time=   0.0s\n",
      "[CV 2/3; 9/24] START model__C=0.001, model__class_weight=None, model__solver=sag\n",
      "[CV 2/3; 9/24] END model__C=0.001, model__class_weight=None, model__solver=sag;, score=0.000 total time=   0.0s\n",
      "[CV 3/3; 9/24] START model__C=0.001, model__class_weight=None, model__solver=sag\n",
      "[CV 3/3; 9/24] END model__C=0.001, model__class_weight=None, model__solver=sag;, score=0.000 total time=   0.0s\n",
      "[CV 1/3; 10/24] START model__C=0.001, model__class_weight=None, model__solver=saga\n",
      "[CV 1/3; 10/24] END model__C=0.001, model__class_weight=None, model__solver=saga;, score=0.000 total time=   0.0s\n",
      "[CV 2/3; 10/24] START model__C=0.001, model__class_weight=None, model__solver=saga\n",
      "[CV 2/3; 10/24] END model__C=0.001, model__class_weight=None, model__solver=saga;, score=0.000 total time=   0.0s\n",
      "[CV 3/3; 10/24] START model__C=0.001, model__class_weight=None, model__solver=saga\n",
      "[CV 3/3; 10/24] END model__C=0.001, model__class_weight=None, model__solver=saga;, score=0.000 total time=   0.0s\n",
      "[CV 1/3; 11/24] START model__C=0.001, model__class_weight=balanced, model__solver=sag\n",
      "[CV 1/3; 11/24] END model__C=0.001, model__class_weight=balanced, model__solver=sag;, score=0.324 total time=   0.0s\n",
      "[CV 2/3; 11/24] START model__C=0.001, model__class_weight=balanced, model__solver=sag\n",
      "[CV 2/3; 11/24] END model__C=0.001, model__class_weight=balanced, model__solver=sag;, score=0.343 total time=   0.0s\n",
      "[CV 3/3; 11/24] START model__C=0.001, model__class_weight=balanced, model__solver=sag\n",
      "[CV 3/3; 11/24] END model__C=0.001, model__class_weight=balanced, model__solver=sag;, score=0.333 total time=   0.0s\n",
      "[CV 1/3; 12/24] START model__C=0.001, model__class_weight=balanced, model__solver=saga\n",
      "[CV 1/3; 12/24] END model__C=0.001, model__class_weight=balanced, model__solver=saga;, score=0.324 total time=   0.0s\n",
      "[CV 3/3; 13/24] START model__C=0.01, model__class_weight=None, model__solver=sag\n",
      "[CV 3/3; 13/24] END model__C=0.01, model__class_weight=None, model__solver=sag;, score=0.069 total time=   0.0s\n",
      "[CV 1/3; 14/24] START model__C=0.01, model__class_weight=None, model__solver=saga\n",
      "[CV 1/3; 14/24] END model__C=0.01, model__class_weight=None, model__solver=saga;, score=0.036 total time=   0.0s\n",
      "[CV 2/3; 16/24] START model__C=0.01, model__class_weight=balanced, model__solver=saga\n",
      "[CV 2/3; 16/24] END model__C=0.01, model__class_weight=balanced, model__solver=saga;, score=0.352 total time=   0.0s\n",
      "[CV 3/3; 16/24] START model__C=0.01, model__class_weight=balanced, model__solver=saga\n",
      "[CV 3/3; 16/24] END model__C=0.01, model__class_weight=balanced, model__solver=saga;, score=0.309 total time=   0.0s\n",
      "[CV 3/3; 19/24] START model__C=0.1, model__class_weight=balanced, model__solver=sag\n",
      "[CV 3/3; 19/24] END model__C=0.1, model__class_weight=balanced, model__solver=sag;, score=0.307 total time=   0.1s\n",
      "[CV 1/3; 20/24] START model__C=0.1, model__class_weight=balanced, model__solver=saga\n",
      "[CV 1/3; 20/24] END model__C=0.1, model__class_weight=balanced, model__solver=saga;, score=0.331 total time=   0.0s\n",
      "[CV 2/3; 1/24] START model__C=1e-05, model__class_weight=None, model__solver=sag\n",
      "[CV 2/3; 1/24] END model__C=1e-05, model__class_weight=None, model__solver=sag;, score=0.000 total time=   0.2s\n",
      "[CV 1/3; 5/24] START model__C=0.0001, model__class_weight=None, model__solver=sag\n",
      "[CV 1/3; 5/24] END model__C=0.0001, model__class_weight=None, model__solver=sag;, score=0.000 total time=   0.2s\n",
      "[CV 3/3; 6/24] START model__C=0.0001, model__class_weight=None, model__solver=saga\n",
      "[CV 3/3; 6/24] END model__C=0.0001, model__class_weight=None, model__solver=saga;, score=0.019 total time=   0.4s\n",
      "[CV 3/3; 10/24] START model__C=0.001, model__class_weight=None, model__solver=saga\n",
      "[CV 3/3; 10/24] END model__C=0.001, model__class_weight=None, model__solver=saga;, score=0.159 total time=   0.5s\n",
      "[CV 3/3; 14/24] START model__C=0.01, model__class_weight=None, model__solver=saga\n",
      "[CV 3/3; 14/24] END model__C=0.01, model__class_weight=None, model__solver=saga;, score=0.145 total time=   0.7s\n",
      "[CV 3/3; 17/24] START model__C=0.1, model__class_weight=None, model__solver=sag.\n",
      "[CV 3/3; 17/24] END model__C=0.1, model__class_weight=None, model__solver=sag;, score=0.192 total time=   1.0s\n",
      "[CV 2/3; 20/24] START model__C=0.1, model__class_weight=balanced, model__solver=saga\n",
      "[CV 2/3; 20/24] END model__C=0.1, model__class_weight=balanced, model__solver=saga;, score=0.288 total time=   1.1s\n",
      "[CV 1/3; 23/24] START model__C=1, model__class_weight=balanced, model__solver=sag\n",
      "[CV 1/3; 23/24] END model__C=1, model__class_weight=balanced, model__solver=sag;, score=0.283 total time=   1.0s\n"
     ]
    }
   ],
   "source": [
    "lr_model = LogisticRegression(max_iter=200, random_state=42, tol=1e-2)\n",
    "for i in range(3):\n",
    "    bm, gs = train_model(lr_model, lr_params, poly_train_X[i], train_sub_y)\n",
    "    filename = 'models/tol_1e-2/PF' + str(i+1)\n",
    "    with open(filename, 'wb') as f:\n",
    "        pickle.dump(bm, f)\n",
    "    filename = 'models/tol_1e-2/PF' + str(i+1) + '_gs'\n",
    "    with open(filename, 'wb') as f:\n",
    "        pickle.dump(gs, f)"
   ]
  },
  {
   "cell_type": "markdown",
   "metadata": {},
   "source": [
    "#### Polynomial Features, Degree = 1-3, tol = 1e-2, Best Model"
   ]
  },
  {
   "cell_type": "code",
   "execution_count": 65,
   "metadata": {},
   "outputs": [
    {
     "name": "stdout",
     "output_type": "stream",
     "text": [
      "\n",
      "\n"
     ]
    },
    {
     "data": {
      "image/png": "[encoded data removed]",
      "text/plain": [
       "<Figure size 432x288 with 1 Axes>"
      ]
     },
     "metadata": {
      "needs_background": "light"
     },
     "output_type": "display_data"
    },
    {
     "data": {
      "image/png": "[encoded data removed]",
      "text/plain": [
       "<Figure size 432x288 with 1 Axes>"
      ]
     },
     "metadata": {
      "needs_background": "light"
     },
     "output_type": "display_data"
    },
    {
     "data": {
      "image/png": "[encoded data removed]",
      "text/plain": [
       "<Figure size 432x288 with 1 Axes>"
      ]
     },
     "metadata": {
      "needs_background": "light"
     },
     "output_type": "display_data"
    },
    {
     "name": "stdout",
     "output_type": "stream",
     "text": [
      "The best parameters were:\n",
      "C: 0.0001\n",
      "class_weight: balanced\n",
      "solver: sag\n",
      "\n",
      "\n",
      "Logistic Regression W/ Pf D=1 Prediction Metrics:\n",
      "Train Precision: 0.22904368358913813\n",
      "Train Recall:    0.6198083067092651\n",
      "Train F1 Score:  0.3344827586206896\n",
      "Test Precision:  0.2289156626506024\n",
      "Test Recall:     0.6089743589743589\n",
      "Test F1 Score:   0.3327495621716287\n",
      "\n",
      "\n"
     ]
    },
    {
     "data": {
      "image/png": "[encoded data removed]",
      "text/plain": [
       "<Figure size 432x288 with 1 Axes>"
      ]
     },
     "metadata": {
      "needs_background": "light"
     },
     "output_type": "display_data"
    },
    {
     "data": {
      "image/png": "[encoded data removed]",
      "text/plain": [
       "<Figure size 432x288 with 1 Axes>"
      ]
     },
     "metadata": {
      "needs_background": "light"
     },
     "output_type": "display_data"
    },
    {
     "data": {
      "image/png": "[encoded data removed]",
      "text/plain": [
       "<Figure size 432x288 with 1 Axes>"
      ]
     },
     "metadata": {
      "needs_background": "light"
     },
     "output_type": "display_data"
    },
    {
     "name": "stdout",
     "output_type": "stream",
     "text": [
      "The best parameters were:\n",
      "C: 0.0001\n",
      "class_weight: balanced\n",
      "solver: sag\n",
      "\n",
      "\n",
      "Logistic Regression W/ Pf D=2 Prediction Metrics:\n",
      "Train Precision: 0.2374331550802139\n",
      "Train Recall:    0.7092651757188498\n",
      "Train F1 Score:  0.3557692307692307\n",
      "Test Precision:  0.22943722943722944\n",
      "Test Recall:     0.6794871794871795\n",
      "Test F1 Score:   0.343042071197411\n",
      "\n",
      "\n"
     ]
    },
    {
     "data": {
      "image/png": "[encoded data removed]",
      "text/plain": [
       "<Figure size 432x288 with 1 Axes>"
      ]
     },
     "metadata": {
      "needs_background": "light"
     },
     "output_type": "display_data"
    },
    {
     "data": {
      "image/png": "[encoded data removed]",
      "text/plain": [
       "<Figure size 432x288 with 1 Axes>"
      ]
     },
     "metadata": {
      "needs_background": "light"
     },
     "output_type": "display_data"
    },
    {
     "data": {
      "image/png": "[encoded data removed]",
      "text/plain": [
       "<Figure size 432x288 with 1 Axes>"
      ]
     },
     "metadata": {
      "needs_background": "light"
     },
     "output_type": "display_data"
    },
    {
     "name": "stdout",
     "output_type": "stream",
     "text": [
      "The best parameters were:\n",
      "C: 1e-05\n",
      "class_weight: None\n",
      "solver: saga\n",
      "\n",
      "\n",
      "Logistic Regression W/ Pf D=3 Prediction Metrics:\n",
      "Train Precision: 0.2519582245430809\n",
      "Train Recall:    0.6166134185303515\n",
      "Train F1 Score:  0.3577386468952734\n",
      "Test Precision:  0.22955145118733508\n",
      "Test Recall:     0.5576923076923077\n",
      "Test F1 Score:   0.3252336448598131\n"
     ]
    }
   ],
   "source": [
    "for i in range(3):\n",
    "    filename = 'models/tol_1e-2/PF' + str(i+1)\n",
    "    with open(filename, 'rb') as f:\n",
    "        bm = pickle.load(f)\n",
    "    filename = 'models/tol_1e-2/PF' + str(i+1) + '_gs'\n",
    "    with open(filename, 'rb') as f:\n",
    "        gs = pickle.load(f)\n",
    "    display_results(\"Logistic Regression w/ PF D=\" + str(i+1), bm, gs, poly_train_X[i], train_sub_y, poly_test_X[i], test_sub_y)"
   ]
  },
  {
   "cell_type": "markdown",
   "metadata": {},
   "source": [
    "The performances of both degree 1 and 3 models dropped significantly, though in testing and training, degree 2 performance remains about the same regardless. "
   ]
  },
  {
   "cell_type": "markdown",
   "metadata": {},
   "source": [
    "Lastly, I tested the peformance of a degree 4 poly model with 3 different values of C, on seperate runs because it crashes using gridsearch. I had to use tol value 1e-2 to prevent crashing as well."
   ]
  },
  {
   "cell_type": "code",
   "execution_count": 76,
   "metadata": {},
   "outputs": [
    {
     "name": "stdout",
     "output_type": "stream",
     "text": [
      "Fitting 3 folds for each of 1 candidates, totalling 3 fits\n"
     ]
    }
   ],
   "source": [
    "lr_model = LogisticRegression(max_iter=100, solver='sag', class_weight='balanced', random_state=42, tol=1e-2, C=1e-5)\n",
    "bm, gs = train_model(lr_model, no_params, poly_train_X[3], train_sub_y)\n",
    "with open('models/PF4_C1e-5', 'wb') as f:\n",
    "    pickle.dump(bm, f)\n",
    "with open('models/PF4_C1e-5_gs', 'wb') as f:\n",
    "    pickle.dump(gs, f)"
   ]
  },
  {
   "cell_type": "markdown",
   "metadata": {},
   "source": [
    "#### Polynomial Features, Degree = 4, C = [1,1e-3,1e-5], tol=1e-2"
   ]
  },
  {
   "cell_type": "code",
   "execution_count": 82,
   "metadata": {},
   "outputs": [
    {
     "name": "stdout",
     "output_type": "stream",
     "text": [
      "\n",
      "\n",
      "The best parameters were:\n",
      "\n",
      "\n",
      "Logistic Regression W/ Pf D=4 Prediction Metrics:\n",
      "Train Precision: 0.2389937106918239\n",
      "Train Recall:    0.9712460063897763\n",
      "Train F1 Score:  0.38359621451104103\n",
      "Test Precision:  0.16714697406340057\n",
      "Test Recall:     0.7435897435897436\n",
      "Test F1 Score:   0.2729411764705882\n",
      "\n",
      "\n",
      "The best parameters were:\n",
      "\n",
      "\n",
      "Logistic Regression W/ Pf D=4 Prediction Metrics:\n",
      "Train Precision: 0.23515805705474171\n",
      "Train Recall:    0.9744408945686901\n",
      "Train F1 Score:  0.3788819875776398\n",
      "Test Precision:  0.16595744680851063\n",
      "Test Recall:     0.75\n",
      "Test F1 Score:   0.27177700348432055\n",
      "\n",
      "\n",
      "The best parameters were:\n",
      "\n",
      "\n",
      "Logistic Regression W/ Pf D=4 Prediction Metrics:\n",
      "Train Precision: 0.19821673525377229\n",
      "Train Recall:    0.9233226837060703\n",
      "Train F1 Score:  0.326369282891022\n",
      "Test Precision:  0.17733333333333334\n",
      "Test Recall:     0.8525641025641025\n",
      "Test F1 Score:   0.293598233995585\n"
     ]
    }
   ],
   "source": [
    "with open('models/PF4_C1', 'rb') as f:\n",
    "    bm = pickle.load(f)\n",
    "with open('models/PF4_C1_gs', 'rb') as f:\n",
    "    gs = pickle.load(f)\n",
    "display_results(\"Logistic Regression w/ PF D=4\", bm, gs, poly_train_X[3], train_sub_y, poly_test_X[3], test_sub_y)\n",
    "\n",
    "with open('models/PF4_C1e-3', 'rb') as f:\n",
    "    bm = pickle.load(f)\n",
    "with open('models/PF4_C1e-3_gs', 'rb') as f:\n",
    "    gs = pickle.load(f)\n",
    "display_results(\"Logistic Regression w/ PF D=4\", bm, gs, poly_train_X[3], train_sub_y, poly_test_X[3], test_sub_y)\n",
    "\n",
    "with open('models/PF4_C1e-5', 'rb') as f:\n",
    "    bm = pickle.load(f)\n",
    "with open('models/PF4_C1e-5_gs', 'rb') as f:\n",
    "    gs = pickle.load(f)\n",
    "display_results(\"Logistic Regression w/ PF D=4\", bm, gs, poly_train_X[3], train_sub_y, poly_test_X[3], test_sub_y)"
   ]
  }
 ],
 "metadata": {
  "kernelspec": {
   "display_name": "Python 3 (clean)",
   "language": "python",
   "name": "python3_clean"
  },
  "language_info": {
   "codemirror_mode": {
    "name": "ipython",
    "version": 3
   },
   "file_extension": ".py",
   "mimetype": "text/x-python",
   "name": "python",
   "nbconvert_exporter": "python",
   "pygments_lexer": "ipython3",
   "version": "3.9.5"
  }
 },
 "nbformat": 4,
 "nbformat_minor": 1
}
