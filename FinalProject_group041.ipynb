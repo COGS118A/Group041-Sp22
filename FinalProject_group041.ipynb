{
 "cells": [
  {
   "cell_type": "markdown",
   "metadata": {},
   "source": [
    "# COGS 118A - Final Project"
   ]
  },
  {
   "cell_type": "markdown",
   "metadata": {},
   "source": [
    "# Insert title here\n",
    "\n",
    "## Group members\n",
    "\n",
    "- Will Sumerfield\n",
    "- Miguel Monares\n",
    "- Abdalla Atalla\n",
    "- Ritik Raina\n",
    "- Matilda Michel"
   ]
  },
  {
   "cell_type": "markdown",
   "source": [
    "### Important Files\n",
    "\n",
    "- common/model_training\n",
    "*The template code we used to train each of our models individually*\n",
    "- common/test_model_training\n",
    "*A data playground we used to test and learn about our models*"
   ],
   "metadata": {
    "collapsed": false,
    "pycharm": {
     "name": "#%% md\n"
    }
   }
  },
  {
   "cell_type": "markdown",
   "metadata": {},
   "source": [
    "# Abstract \n"
   ]
  },
  {
   "cell_type": "markdown",
   "metadata": {},
   "source": [
    "# Background\n"
   ]
  },
  {
   "cell_type": "markdown",
   "metadata": {},
   "source": [
    "# Problem Statement\n"
   ]
  },
  {
   "cell_type": "markdown",
   "source": [
    "# Data\n",
    "\n",
    "[Dataset Link](https://www.kaggle.com/datasets/kamilpytlak/personal-key-indicators-of-heart-disease)"
   ],
   "metadata": {
    "collapsed": false,
    "pycharm": {
     "name": "#%% md\n"
    }
   }
  },
  {
   "cell_type": "markdown",
   "metadata": {},
   "source": [
    "### Imports"
   ]
  },
  {
   "cell_type": "code",
   "execution_count": 9,
   "outputs": [],
   "source": [
    "import seaborn as sns\n",
    "import matplotlib.pyplot as plt\n",
    "import pandas as pd\n",
    "import warnings\n",
    "from sklearn.preprocessing import OneHotEncoder\n",
    "from matplotlib.patches import Patch\n",
    "import re\n",
    "pd.options.display.max_columns = 999\n",
    "warnings.filterwarnings('ignore')"
   ],
   "metadata": {
    "collapsed": false,
    "pycharm": {
     "name": "#%%\n"
    }
   }
  },
  {
   "cell_type": "markdown",
   "source": [
    "### Data General Knowledge\n",
    "\n",
    "As we can see below, our dataset is a collection of information related to heart health. The first column is a *True*\n",
    "or *False* value which tells us whether that row's person has some form of heart disease. This is the variable we will\n",
    "be trying to predict with our models, based on the information the other features provide.\n",
    "\n",
    "We can see below that we have 17 different features with which to predict heart disease, and over 300,000 data points!"
   ],
   "metadata": {
    "collapsed": false
   }
  },
  {
   "cell_type": "code",
   "execution_count": 10,
   "outputs": [
    {
     "name": "stdout",
     "output_type": "stream",
     "text": [
      "Number of Raw Features: 35\n",
      "\n",
      "Number of Datapoints: 319795\n",
      "\n"
     ]
    },
    {
     "data": {
      "text/plain": "   HeartDisease    BMI  PhysicalHealth  MentalHealth  AgeCategory  GenHealth  \\\n0             0  16.60             3.0          30.0            7          4   \n1             0  20.34             0.0           0.0           12          4   \n2             0  26.58            20.0          30.0            9          1   \n3             0  24.21             0.0           0.0           11          2   \n4             0  23.71            28.0           0.0            4          4   \n\n   SleepTime  Smoking_Yes  Smoking_No  AlcoholDrinking_No  \\\n0        5.0          0.0         1.0                 1.0   \n1        7.0          1.0         0.0                 1.0   \n2        8.0          0.0         1.0                 1.0   \n3        6.0          1.0         0.0                 1.0   \n4        8.0          1.0         0.0                 1.0   \n\n   AlcoholDrinking_Yes  Stroke_No  Stroke_Yes  DiffWalking_No  \\\n0                  0.0        1.0         0.0             1.0   \n1                  0.0        0.0         1.0             1.0   \n2                  0.0        1.0         0.0             1.0   \n3                  0.0        1.0         0.0             1.0   \n4                  0.0        1.0         0.0             0.0   \n\n   DiffWalking_Yes  Sex_Female  Sex_Male  Race_White  Race_Black  Race_Asian  \\\n0              0.0         1.0       0.0         0.0         0.0         0.0   \n1              0.0         1.0       0.0         0.0         0.0         0.0   \n2              0.0         0.0       1.0         0.0         0.0         0.0   \n3              0.0         1.0       0.0         0.0         0.0         0.0   \n4              1.0         1.0       0.0         0.0         0.0         0.0   \n\n   Race_American Indian/Alaskan Native  Race_Other  Race_Hispanic  \\\n0                                  0.0         0.0            1.0   \n1                                  0.0         0.0            1.0   \n2                                  0.0         0.0            1.0   \n3                                  0.0         0.0            1.0   \n4                                  0.0         0.0            1.0   \n\n   Diabetic_Yes  Diabetic_No  Diabetic_No, borderline diabetes  \\\n0           0.0          0.0                               1.0   \n1           1.0          0.0                               0.0   \n2           0.0          0.0                               1.0   \n3           1.0          0.0                               0.0   \n4           1.0          0.0                               0.0   \n\n   Diabetic_Yes (during pregnancy)  PhysicalActivity_Yes  PhysicalActivity_No  \\\n0                              0.0                   0.0                  1.0   \n1                              0.0                   0.0                  1.0   \n2                              0.0                   0.0                  1.0   \n3                              0.0                   1.0                  0.0   \n4                              0.0                   0.0                  1.0   \n\n   Asthma_Yes  Asthma_No  KidneyDisease_No  KidneyDisease_Yes  SkinCancer_Yes  \\\n0         0.0        1.0               1.0                0.0             0.0   \n1         1.0        0.0               1.0                0.0             1.0   \n2         0.0        1.0               1.0                0.0             1.0   \n3         1.0        0.0               1.0                0.0             0.0   \n4         1.0        0.0               1.0                0.0             1.0   \n\n   SkinCancer_No  \n0            1.0  \n1            0.0  \n2            0.0  \n3            1.0  \n4            0.0  ",
      "text/html": "<div>\n<style scoped>\n    .dataframe tbody tr th:only-of-type {\n        vertical-align: middle;\n    }\n\n    .dataframe tbody tr th {\n        vertical-align: top;\n    }\n\n    .dataframe thead th {\n        text-align: right;\n    }\n</style>\n<table border=\"1\" class=\"dataframe\">\n  <thead>\n    <tr style=\"text-align: right;\">\n      <th></th>\n      <th>HeartDisease</th>\n      <th>BMI</th>\n      <th>PhysicalHealth</th>\n      <th>MentalHealth</th>\n      <th>AgeCategory</th>\n      <th>GenHealth</th>\n      <th>SleepTime</th>\n      <th>Smoking_Yes</th>\n      <th>Smoking_No</th>\n      <th>AlcoholDrinking_No</th>\n      <th>AlcoholDrinking_Yes</th>\n      <th>Stroke_No</th>\n      <th>Stroke_Yes</th>\n      <th>DiffWalking_No</th>\n      <th>DiffWalking_Yes</th>\n      <th>Sex_Female</th>\n      <th>Sex_Male</th>\n      <th>Race_White</th>\n      <th>Race_Black</th>\n      <th>Race_Asian</th>\n      <th>Race_American Indian/Alaskan Native</th>\n      <th>Race_Other</th>\n      <th>Race_Hispanic</th>\n      <th>Diabetic_Yes</th>\n      <th>Diabetic_No</th>\n      <th>Diabetic_No, borderline diabetes</th>\n      <th>Diabetic_Yes (during pregnancy)</th>\n      <th>PhysicalActivity_Yes</th>\n      <th>PhysicalActivity_No</th>\n      <th>Asthma_Yes</th>\n      <th>Asthma_No</th>\n      <th>KidneyDisease_No</th>\n      <th>KidneyDisease_Yes</th>\n      <th>SkinCancer_Yes</th>\n      <th>SkinCancer_No</th>\n    </tr>\n  </thead>\n  <tbody>\n    <tr>\n      <th>0</th>\n      <td>0</td>\n      <td>16.60</td>\n      <td>3.0</td>\n      <td>30.0</td>\n      <td>7</td>\n      <td>4</td>\n      <td>5.0</td>\n      <td>0.0</td>\n      <td>1.0</td>\n      <td>1.0</td>\n      <td>0.0</td>\n      <td>1.0</td>\n      <td>0.0</td>\n      <td>1.0</td>\n      <td>0.0</td>\n      <td>1.0</td>\n      <td>0.0</td>\n      <td>0.0</td>\n      <td>0.0</td>\n      <td>0.0</td>\n      <td>0.0</td>\n      <td>0.0</td>\n      <td>1.0</td>\n      <td>0.0</td>\n      <td>0.0</td>\n      <td>1.0</td>\n      <td>0.0</td>\n      <td>0.0</td>\n      <td>1.0</td>\n      <td>0.0</td>\n      <td>1.0</td>\n      <td>1.0</td>\n      <td>0.0</td>\n      <td>0.0</td>\n      <td>1.0</td>\n    </tr>\n    <tr>\n      <th>1</th>\n      <td>0</td>\n      <td>20.34</td>\n      <td>0.0</td>\n      <td>0.0</td>\n      <td>12</td>\n      <td>4</td>\n      <td>7.0</td>\n      <td>1.0</td>\n      <td>0.0</td>\n      <td>1.0</td>\n      <td>0.0</td>\n      <td>0.0</td>\n      <td>1.0</td>\n      <td>1.0</td>\n      <td>0.0</td>\n      <td>1.0</td>\n      <td>0.0</td>\n      <td>0.0</td>\n      <td>0.0</td>\n      <td>0.0</td>\n      <td>0.0</td>\n      <td>0.0</td>\n      <td>1.0</td>\n      <td>1.0</td>\n      <td>0.0</td>\n      <td>0.0</td>\n      <td>0.0</td>\n      <td>0.0</td>\n      <td>1.0</td>\n      <td>1.0</td>\n      <td>0.0</td>\n      <td>1.0</td>\n      <td>0.0</td>\n      <td>1.0</td>\n      <td>0.0</td>\n    </tr>\n    <tr>\n      <th>2</th>\n      <td>0</td>\n      <td>26.58</td>\n      <td>20.0</td>\n      <td>30.0</td>\n      <td>9</td>\n      <td>1</td>\n      <td>8.0</td>\n      <td>0.0</td>\n      <td>1.0</td>\n      <td>1.0</td>\n      <td>0.0</td>\n      <td>1.0</td>\n      <td>0.0</td>\n      <td>1.0</td>\n      <td>0.0</td>\n      <td>0.0</td>\n      <td>1.0</td>\n      <td>0.0</td>\n      <td>0.0</td>\n      <td>0.0</td>\n      <td>0.0</td>\n      <td>0.0</td>\n      <td>1.0</td>\n      <td>0.0</td>\n      <td>0.0</td>\n      <td>1.0</td>\n      <td>0.0</td>\n      <td>0.0</td>\n      <td>1.0</td>\n      <td>0.0</td>\n      <td>1.0</td>\n      <td>1.0</td>\n      <td>0.0</td>\n      <td>1.0</td>\n      <td>0.0</td>\n    </tr>\n    <tr>\n      <th>3</th>\n      <td>0</td>\n      <td>24.21</td>\n      <td>0.0</td>\n      <td>0.0</td>\n      <td>11</td>\n      <td>2</td>\n      <td>6.0</td>\n      <td>1.0</td>\n      <td>0.0</td>\n      <td>1.0</td>\n      <td>0.0</td>\n      <td>1.0</td>\n      <td>0.0</td>\n      <td>1.0</td>\n      <td>0.0</td>\n      <td>1.0</td>\n      <td>0.0</td>\n      <td>0.0</td>\n      <td>0.0</td>\n      <td>0.0</td>\n      <td>0.0</td>\n      <td>0.0</td>\n      <td>1.0</td>\n      <td>1.0</td>\n      <td>0.0</td>\n      <td>0.0</td>\n      <td>0.0</td>\n      <td>1.0</td>\n      <td>0.0</td>\n      <td>1.0</td>\n      <td>0.0</td>\n      <td>1.0</td>\n      <td>0.0</td>\n      <td>0.0</td>\n      <td>1.0</td>\n    </tr>\n    <tr>\n      <th>4</th>\n      <td>0</td>\n      <td>23.71</td>\n      <td>28.0</td>\n      <td>0.0</td>\n      <td>4</td>\n      <td>4</td>\n      <td>8.0</td>\n      <td>1.0</td>\n      <td>0.0</td>\n      <td>1.0</td>\n      <td>0.0</td>\n      <td>1.0</td>\n      <td>0.0</td>\n      <td>0.0</td>\n      <td>1.0</td>\n      <td>1.0</td>\n      <td>0.0</td>\n      <td>0.0</td>\n      <td>0.0</td>\n      <td>0.0</td>\n      <td>0.0</td>\n      <td>0.0</td>\n      <td>1.0</td>\n      <td>1.0</td>\n      <td>0.0</td>\n      <td>0.0</td>\n      <td>0.0</td>\n      <td>0.0</td>\n      <td>1.0</td>\n      <td>1.0</td>\n      <td>0.0</td>\n      <td>1.0</td>\n      <td>0.0</td>\n      <td>1.0</td>\n      <td>0.0</td>\n    </tr>\n  </tbody>\n</table>\n</div>"
     },
     "execution_count": 10,
     "metadata": {},
     "output_type": "execute_result"
    }
   ],
   "source": [
    "# Import the data as a dataframe\n",
    "data = pd.read_csv(\"data/raw_data.csv\")\n",
    "\n",
    "# Create a lists of each type of feature\n",
    "nominal_features = ['Smoking', 'AlcoholDrinking', 'Stroke', 'DiffWalking', 'Sex', 'Race', 'Diabetic',\n",
    "                  'PhysicalActivity', 'Asthma', 'KidneyDisease', 'SkinCancer']\n",
    "ordinal_features = ['AgeCategory', 'GenHealth']\n",
    "continuous_features = ['BMI', 'PhysicalHealth', 'MentalHealth', 'SleepTime']\n",
    "\n",
    "\n",
    "# region Convert the nominal features into one-hot encodings\n",
    "\n",
    "# Create a One-Hot Encoder\n",
    "encoder = OneHotEncoder()\n",
    "\n",
    "# For each nominal feature...\n",
    "for feature in nominal_features:\n",
    "\n",
    "    # Get an encoded version\n",
    "    encoded_feature = pd.DataFrame(encoder.fit_transform(data[[feature]]).toarray(),\n",
    "                                   columns=[f'{feature}_{f_class}' for f_class in data[feature].unique()])\n",
    "\n",
    "    # Remove the old feature from the data\n",
    "    data = data.drop(feature, axis=1)\n",
    "\n",
    "    # Add the encoded feature to the data\n",
    "    data = data.join(encoded_feature)\n",
    "\n",
    "# endregion Convert the nominal features into one-hot encodings\n",
    "\n",
    "# region Convert the ordinal features into labels\n",
    "\n",
    "# For each nominal feature...\n",
    "for feature in ordinal_features:\n",
    "\n",
    "    # Replace the old feature with an encoded feature\n",
    "    data[feature] = data[feature].astype('category').cat.codes\n",
    "\n",
    "# endregion Convert the ordinal features into labels\n",
    "\n",
    "# Convert the output column to be numerical\n",
    "data['HeartDisease'] = data['HeartDisease'].astype('category').cat.codes\n",
    "\n",
    "# Display the number of columns in the dataframe\n",
    "print(f\"Number of Raw Features: {len(data.columns)}\")\n",
    "print()\n",
    "print(f\"Number of Datapoints: {data.shape[0]}\")\n",
    "print()\n",
    "\n",
    "# Display the head of the dataframe\n",
    "data.head()"
   ],
   "metadata": {
    "collapsed": false,
    "pycharm": {
     "name": "#%%\n"
    }
   }
  },
  {
   "cell_type": "markdown",
   "source": [
    "### Data Preprocessing\n",
    "\n",
    "To make the dataset trainable, we also used one-hot encoding on each of the nominal features. Additionally, we also\n",
    "changed each ordinal feature to be represented by ordered numbers."
   ],
   "metadata": {
    "collapsed": false
   }
  },
  {
   "cell_type": "markdown",
   "source": [
    "### Heart Disease\n",
    "\n",
    "We are trying to predict Heart Disease with our dataset. However, the number of cases of heart disease are not equal to\n",
    "the number of cases without heart disease. Instead, only around 10% of people in the dataset have a heart disease.\n",
    "Therefore, we should expect a 10% accuracy if we guessed randomly."
   ],
   "metadata": {
    "collapsed": false
   }
  },
  {
   "cell_type": "markdown",
   "metadata": {},
   "source": [
    "# Proposed Solution\n",
    "\n",
    "In this section, clearly describe a solution to the problem. The solution should be applicable to the project domain and appropriate for the dataset(s) or input(s) given. Provide enough detail (e.g., algorithmic description and/or theoretical properties) to convince us that your solution is applicable. Make sure to describe how the solution will be tested.  \n",
    "\n",
    "If you know details already, describe how (e.g., library used, function calls) you plan to implement the solution in a way that is reproducible.\n",
    "\n",
    "If it is appropriate to the problem statement, describe a benchmark model<a name=\"sota\"></a>[<sup>[3]</sup>](#sotanote) against which your solution will be compared. "
   ]
  },
  {
   "cell_type": "markdown",
   "metadata": {},
   "source": [
    "# Evaluation Metrics\n",
    "\n",
    "Propose at least one evaluation metric that can be used to quantify the performance of both the benchmark model and the solution model. The evaluation metric(s) you propose should be appropriate given the context of the data, the problem statement, and the intended solution. Describe how the evaluation metric(s) are derived and provide an example of their mathematical representations (if applicable). Complex evaluation metrics should be clearly defined and quantifiable (can be expressed in mathematical or logical terms)."
   ]
  },
  {
   "cell_type": "markdown",
   "source": [
    "# Model Testing\n",
    "\n",
    "In order to experiment with our models and in the hopes of understanding how to use them before applying them to our\n",
    "real dataset, we created a model playground. With it, each of us trained our model on each of the different datasets,\n",
    "and learned a lot about what our model worked well at, and what it struggled to do.\n",
    "\n",
    "![GPC Example](assets/GPC_testing.png)"
   ],
   "metadata": {
    "collapsed": false
   }
  },
  {
   "cell_type": "markdown",
   "source": [
    "# Hypotheses\n",
    "\n",
    "Hypothesis header\n",
    "\n",
    "### Gaussian Process Classifier\n",
    "\n",
    "\n",
    "### Support Vector Classifier\n",
    "\n",
    "\n",
    "### Decision Tree Classifier\n",
    "\n",
    "\n",
    "### Random Forest Classification\n",
    "\n",
    "\n",
    "### Neural Networks\n",
    "\n",
    "\n",
    "### Logistic Regression\n",
    "\n",
    "\n",
    "\n",
    "Hypothesis Footer"
   ],
   "metadata": {
    "collapsed": false,
    "pycharm": {
     "name": "#%% md\n"
    }
   }
  },
  {
   "cell_type": "markdown",
   "metadata": {},
   "source": [
    "# Results\n",
    "\n",
    "Results Header\n",
    "\n",
    "### Gaussian Process Classifier\n",
    "\n",
    "\n",
    "### Support Vector Classifier\n",
    "\n",
    "\n",
    "### Decision Tree Classifier\n",
    "\n",
    "\n",
    "### Random Forest Classification\n",
    "\n",
    "\n",
    "### Neural Networks\n",
    "\n",
    "\n",
    "### Logistic Regression\n",
    "\n",
    "\n",
    "\n",
    "Results Footer\n",
    "\n"
   ]
  },
  {
   "cell_type": "markdown",
   "metadata": {},
   "source": [
    "# Analysis\n",
    "\n",
    "Analysis Header\n",
    "\n",
    "### Gaussian Process Classifier\n",
    "\n",
    "\n",
    "### Support Vector Classifier\n",
    "\n",
    "\n",
    "### Decision Tree Classifier\n",
    "\n",
    "\n",
    "### Random Forest Classification\n",
    "\n",
    "\n",
    "### Neural Networks\n",
    "\n",
    "\n",
    "### Logistic Regression\n",
    "\n",
    "\n",
    "## Conclusion"
   ]
  },
  {
   "cell_type": "markdown",
   "metadata": {},
   "source": [
    "# Footnotes\n",
    "<a name=\"lorenznote\"></a>1.[^](#lorenz): Lorenz, T. (9 Dec 2021) Birds Aren’t Real, or Are They? Inside a Gen Z Conspiracy Theory. *The New York Times*. https://www.nytimes.com/2021/12/09/technology/birds-arent-real-gen-z-misinformation.html<br> \n",
    "<a name=\"admonishnote\"></a>2.[^](#admonish): Also refs should be important to the background, not some randomly chosen vaguely related stuff. Include a web link if possible in refs as above.<br>\n",
    "<a name=\"sotanote\"></a>3.[^](#sota): Perhaps the current state of the art solution such as you see on [Papers with code](https://paperswithcode.com/sota). Or maybe not SOTA, but rather a standard textbook/Kaggle solution to this kind of problem\n"
   ]
  },
  {
   "cell_type": "code",
   "execution_count": null,
   "metadata": {},
   "outputs": [],
   "source": []
  }
 ],
 "metadata": {
  "kernelspec": {
   "display_name": "Python 3",
   "language": "python",
   "name": "python3"
  },
  "language_info": {
   "codemirror_mode": {
    "name": "ipython",
    "version": 3
   },
   "file_extension": ".py",
   "mimetype": "text/x-python",
   "name": "python",
   "nbconvert_exporter": "python",
   "pygments_lexer": "ipython3",
   "version": "3.8.8"
  }
 },
 "nbformat": 4,
 "nbformat_minor": 2
}