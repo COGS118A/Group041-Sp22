{
<<<<<<< HEAD
  "cells": [
    {
      "cell_type": "markdown",
      "source": [
        "# Model Training and Testing\n",
        "\n",
        "In this file, we train each of our models on the exact same training dataset, and test them\n",
        "on the same testing dataset. This allows us to judge their performance, strengths, and\n",
        "weaknesses using a comparable measure. We hope that this will, in conjunction with our\n",
        "hypotheses, help us understand the merits of each model, and be more informed in future\n",
        "instances of model selection."
      ],
      "metadata": {
        "collapsed": false,
        "pycharm": {
          "name": "#%% md\n"
        },
        "id": "BWJp2EFu9SnY"
      }
    },
    {
      "cell_type": "code",
      "execution_count": null,
      "outputs": [
        {
          "name": "stdout",
          "output_type": "stream",
          "text": [
            "HI\n"
          ]
        }
      ],
      "source": [
        "print(\"HI\")"
      ],
      "metadata": {
        "pycharm": {
          "name": "#%%\n"
        },
        "id": "Xu4Fphtj9Snb",
        "outputId": "5aef5568-5389-4d1c-a0e2-bf0021524573"
      }
    },
    {
      "cell_type": "markdown",
      "source": [
        "## Imports"
      ],
      "metadata": {
        "collapsed": false,
        "pycharm": {
          "name": "#%% md\n"
        },
        "id": "D-1gSeLY9Snd"
      }
    },
    {
      "cell_type": "code",
      "execution_count": null,
      "outputs": [],
      "source": [
        "import pandas as pd\n",
        "import numpy as np\n",
        "import sklearn as sk\n",
        "from sklearn.model_selection import train_test_split\n",
        "from sklearn.linear_model import LogisticRegression\n",
        "from sklearn.preprocessing import StandardScaler\n",
        "from sklearn.pipeline import Pipeline\n",
        "from sklearn.preprocessing import OneHotEncoder\n",
        "from sklearn.metrics import precision_recall_fscore_support as class_metrics\n",
        "from sklearn.gaussian_process import GaussianProcessClassifier\n",
        "from sklearn.model_selection import GridSearchCV\n",
        "from sklearn.gaussian_process.kernels import RBF, WhiteKernel\n",
        "import matplotlib.pyplot as plt\n",
        "import seaborn as sns\n",
        "import regex as re\n",
        "import pickle"
      ],
      "metadata": {
        "pycharm": {
          "name": "#%%\n"
        },
        "id": "myn3xC0z9Sne"
      }
    },
    {
      "cell_type": "markdown",
      "source": [
        "## Create the Dataset\n",
        "\n",
        "First, we separate out the testing and training dataset for each of our models to train on.\n",
        "In this case, we decided against k-cross validation due to the sheer size of our dataset.\n",
        "The accuracy of our models should be representative of their performance on future data as\n",
        "well, since there is such a large quantity of training data.\n",
        "\n",
        "Our dataset does have a few issues: several of the variables have classes which occur very infrequently.\n",
        "This may bias our results, since we don't know much about how that variable affects heart disease relative to the other\n",
        "classes. Therefore, we may need to stratify our data to get more accurate results.\n",
        "Additionally, the columns **GenHealth** and **Stroke** have the potential to bias our results.\n",
        "These factors are much more likely to occur due to heart disease, but may not be a good predictor\n",
        "of its future fruition. Therefore, to deal with each of these issues, we will make separate versions of our dataset for\n",
        "each of these cases: **Normal**, **Stratified**, and **No Health Indicators**."
      ],
      "metadata": {
        "collapsed": false,
        "pycharm": {
          "name": "#%% md\n"
        },
        "id": "pKZhveqS9Sne"
      }
    },
    {
      "cell_type": "code",
      "execution_count": null,
      "outputs": [
        {
          "name": "stdout",
          "output_type": "stream",
          "text": [
            "Rows:     319795\n",
            "Columns:  35\n"
          ]
        }
      ],
      "source": [
        "# Import the dataset\n",
        "data = pd.read_csv('../data/raw_data.csv')\n",
        "\n",
        "# Create a lists of each type of feature\n",
        "nominal_features = ['Smoking', 'AlcoholDrinking', 'Stroke', 'DiffWalking', 'Sex', 'Race', 'Diabetic',\n",
        "                  'PhysicalActivity', 'Asthma', 'KidneyDisease', 'SkinCancer']\n",
        "ordinal_features = ['AgeCategory', 'GenHealth']\n",
        "continuous_features = ['BMI', 'PhysicalHealth', 'MentalHealth', 'SleepTime']\n",
        "\n",
        "# region Convert the nominal features into one-hot encodings\n",
        "\n",
        "# Create a One-Hot Encoder\n",
        "encoder = OneHotEncoder()\n",
        "\n",
        "# For each nominal feature...\n",
        "for feature in nominal_features:\n",
        "\n",
        "    # Get an encoded version\n",
        "    encoded_feature = pd.DataFrame(encoder.fit_transform(data[[feature]]).toarray(),\n",
        "                                   columns=[f'{feature}_{f_class}' for f_class in data[feature].unique()])\n",
        "\n",
        "    # Remove the old feature from the data\n",
        "    data = data.drop(feature, axis=1)\n",
        "\n",
        "    # Add the encoded feature to the data\n",
        "    data = data.join(encoded_feature)\n",
        "\n",
        "# endregion Convert the nominal features into one-hot encodings\n",
        "\n",
        "# region Convert the ordinal features into labels\n",
        "\n",
        "# For each nominal feature...\n",
        "for feature in ordinal_features:\n",
        "\n",
        "    # Replace the old feature with an encoded feature\n",
        "    data[feature] = data[feature].astype('category').cat.codes\n",
        "\n",
        "# endregion Convert the ordinal features into labels\n",
        "\n",
        "# Convert the output column to be numerical\n",
        "data['HeartDisease'] = data['HeartDisease'].astype('category').cat.codes\n",
        "\n",
        "# Get the X and y of the dataset\n",
        "data_X = data.iloc[:,1:]\n",
        "data_y = data.loc[:,'HeartDisease']\n",
        "\n",
        "# Display the head of the data\n",
        "data.head()\n",
        "print(\"Rows:    \", data.shape[0])\n",
        "print(\"Columns: \", data.shape[1])"
      ],
      "metadata": {
        "pycharm": {
          "name": "#%%\n"
        },
        "id": "aRF_6QJ09Snf",
        "outputId": "f8c48a2c-1a42-4129-e0e3-41f966489b02"
      }
    },
    {
      "cell_type": "code",
      "execution_count": null,
      "outputs": [],
      "source": [
        "# Get the Normal test-train split\n",
        "normal_train_X, normal_test_X, normal_train_y, normal_test_y = train_test_split(data_X, data_y, train_size=2/3,\n",
        "                                                                                random_state=42)\n",
        "\n",
        "# Get the Stratified test-train split\n",
        "stratified_train_X, stratified_test_X, stratified_train_y, stratified_test_y = train_test_split(data_X, data_y,\n",
        "                                                                                                train_size=2/3,\n",
        "                                                                                                stratify=data_y,\n",
        "                                                                                                random_state=42)\n",
        "# Get the No Health test-train split\n",
        "dropped_features = [feature for feature in data.columns if ('GenHealth' in feature or 'Stroke' in feature) and feature in data_X.columns]\n",
        "nohealth_train_X, nohealth_test_X, nohealth_train_y, nohealth_test_y = train_test_split(data_X.drop(dropped_features,\n",
        "                                                                                                    axis=1),\n",
        "                                                                                        data_y, train_size=2/3,\n",
        "                                                                                        random_state=42)"
      ],
      "metadata": {
        "pycharm": {
          "name": "#%%\n"
        },
        "id": "_7Dms4gF9Sng"
      }
    },
    {
      "cell_type": "markdown",
      "source": [
        "## Dataset Tuning\n",
        "\n",
        "Now that we know have our datasets, we need to find which we want to use. To do that, we can introduce a simple model\n",
        "which we will use as a measure. By comparing the results of the model trained on each of the different datasets, we\n",
        "can get a sense of how the changes impact performance, and potentially help us intuit whether any bias is introduced by\n",
        "our data. In specific, we are looking to see if the dropped data columns or the stratification make the dataset perform\n",
        "better or worse.\n",
        "\n",
        "The model we will be using for this is **Logistic Regression**, since this model is very simple and fast to train."
      ],
      "metadata": {
        "collapsed": false,
        "pycharm": {
          "name": "#%% md\n"
        },
        "id": "V75CPLvB9Snh"
      }
    },
    {
      "cell_type": "code",
      "execution_count": null,
      "outputs": [
        {
          "name": "stdout",
          "output_type": "stream",
          "text": [
            "Normal Dataset LR:\n",
            "Precision: 0.5112219451371571\n",
            "Recall:    0.08886962176221957\n",
            "F1 Score:  0.15141722832610102\n",
            "\n",
            "Stratified Dataset LR:\n",
            "Precision: 0.5166767738023045\n",
            "Recall:    0.0933800964489259\n",
            "F1 Score:  0.15817321080478977\n",
            "\n",
            "No Health Dataset LR:\n",
            "Precision: 0.4827018121911038\n",
            "Recall:    0.06350926628373252\n",
            "F1 Score:  0.11224978450340006\n"
          ]
        }
      ],
      "source": [
        "# Create a standard scalar and one-hot-encoding pipeline for each dataset\n",
        "normal_pipe = Pipeline([('scalar', StandardScaler()), ('lr', LogisticRegression())])\n",
        "stratified_pipe = Pipeline([('scalar', StandardScaler()), ('lr', LogisticRegression())])\n",
        "nohealth_pipe = Pipeline([('scalar', StandardScaler()), ('lr', LogisticRegression())])\n",
        "\n",
        "# Train each logistic regression on its dataset\n",
        "normal_pipe.fit(normal_train_X, normal_train_y)\n",
        "stratified_pipe.fit(stratified_train_X, stratified_train_y)\n",
        "nohealth_pipe.fit(nohealth_train_X, nohealth_train_y)\n",
        "\n",
        "# Make predictions with each logistic regression\n",
        "normal_prediction = normal_pipe.predict(normal_test_X)\n",
        "stratified_prediction = stratified_pipe.predict(stratified_test_X)\n",
        "nohealth_prediction = nohealth_pipe.predict(nohealth_test_X)\n",
        "\n",
        "# Find the score of each regression\n",
        "normal_precision, normal_recall, normal_f, _ = class_metrics(normal_test_y, normal_prediction)\n",
        "stratified_precision, stratified_recall, stratified_f, _ = class_metrics(stratified_test_y, stratified_prediction)\n",
        "nohealth_precision, nohealth_recall, nohealth_f, _ = class_metrics(nohealth_test_y, nohealth_prediction)\n",
        "\n",
        "# Display the score of each regression\n",
        "print(\"Normal Dataset LR:\")\n",
        "print(f\"Precision: {normal_precision[1]}\")\n",
        "print(f\"Recall:    {normal_recall[1]}\")\n",
        "print(f\"F1 Score:  {normal_f[1]}\")\n",
        "print()\n",
        "print(\"Stratified Dataset LR:\")\n",
        "print(f\"Precision: {stratified_precision[1]}\")\n",
        "print(f\"Recall:    {stratified_recall[1]}\")\n",
        "print(f\"F1 Score:  {stratified_f[1]}\")\n",
        "print()\n",
        "print(\"No Health Dataset LR:\")\n",
        "print(f\"Precision: {nohealth_precision[1]}\")\n",
        "print(f\"Recall:    {nohealth_recall[1]}\")\n",
        "print(f\"F1 Score:  {nohealth_f[1]}\")"
      ],
      "metadata": {
        "pycharm": {
          "name": "#%%\n"
        },
        "id": "0C7jqklK9Sni",
        "outputId": "b6f1bef8-0e43-4552-afb3-986c24098dde"
      }
    },
    {
      "cell_type": "markdown",
      "source": [
        "As we can see, the stratified dataset performed marginally better than the normal dataset, whereas the No Health\n",
        "indicators dataset performed moderately worse. If were really trying to predict heart disease, this would indicate to\n",
        "us that using these columns may be unhelpful for our predictions. However, since that is not the case and since we have\n",
        "the data, we are going to use it anyways, and keep with the stratified dataset.\n",
        "\n",
        "However, some of our models may need a smaller subset of the data, such as the Gaussian Process Classifier. This is\n",
        "because they have high memory demands which scale with the data.\n",
        "\n",
        "Below, let's do two things: Relabel the stratified dataset we'll be using to be more simple, and create a subset of that\n",
        "dataset for models which need less data"
      ],
      "metadata": {
        "collapsed": false,
        "pycharm": {
          "name": "#%% md\n"
        },
        "id": "YuJdMmWW9Snj"
      }
    },
    {
      "cell_type": "code",
      "execution_count": null,
      "outputs": [],
      "source": [
        "# Rename the stratified dataset\n",
        "train_X, test_X, train_y, test_y = stratified_train_X, stratified_test_X, stratified_train_y, stratified_test_y\n",
        "\n",
        "# Get a smaller subset of the dataset\n",
        "data_subset = data.sample(5000, random_state=42)\n",
        "data_sub_X = data_subset.iloc[:,1:]\n",
        "data_sub_y = data_subset.loc[:,'HeartDisease']\n",
        "\n",
        "# Get the Stratified test-train split\n",
        "train_sub_X, test_sub_X, train_sub_y, test_sub_y = train_test_split(data_sub_X, data_sub_y, train_size=2/3,\n",
        "                                                                    stratify=data_sub_y, random_state=42)"
      ],
      "metadata": {
        "pycharm": {
          "name": "#%%\n"
        },
        "id": "viXhYrZr9Snj"
      }
    },
    {
      "cell_type": "markdown",
      "source": [
        "# Model Training\n",
        "\n",
        "Now, we need to train each of our models on the stratified data. Since our training dataset is so large (around\n",
        "200,000 samples), we do not need to cross validate our results for each model - they should be representative of true\n",
        "performance relative to one another.\n",
        "\n",
        "Let's start by defining some methods that makes sure that each of our models is trained the same general way."
      ],
      "metadata": {
        "collapsed": false,
        "pycharm": {
          "name": "#%% md\n"
        },
        "id": "daK5zenh9Snj"
      }
    },
    {
      "cell_type": "code",
      "execution_count": null,
      "outputs": [],
      "source": [
        "def train_model(model, parameter_dict, dataset_train_x, dataset_train_y):\n",
        "    \"\"\"This function is used to the find the best model using Cross Validating grid search.\n",
        "    It also applies a standard scaling pipeline to the data.\n",
        "\n",
        "    :param model: An SK Learn model to train\n",
        "    :param parameter_dict: A dictionary of parameters to optimize using grid search. Keys are non-pipe parameters.\n",
        "    :param dataset_train_x: The X values of the training dataset\n",
        "    :param dataset_train_y: The y values of the training dataset\n",
        "    :return best_model: The best model found by the grid search, retrained on all of the data\n",
        "    :return search: The grid search object\n",
        "    \"\"\"\n",
        "\n",
        "    # Create the pipeline\n",
        "    pipe = Pipeline([('scalar', StandardScaler()), ('model', model)])\n",
        "\n",
        "    # Find the parameter grid\n",
        "    parameter_grid = {'model__' + param: parameter_dict[param] for param in parameter_dict}\n",
        "\n",
        "    # Get the GridSearch object\n",
        "    search = GridSearchCV(pipe, parameter_grid, cv=3, n_jobs=-1, verbose=100, scoring='f1')\n",
        "\n",
        "    # Search for the best model\n",
        "    search.fit(dataset_train_x, dataset_train_y)\n",
        "\n",
        "    # Train the best model found\n",
        "    best_model = Pipeline([('scalar', StandardScaler()), ('model', model)]).set_params(**search.best_params_)\n",
        "    best_model.fit(dataset_train_x, dataset_train_y)\n",
        "\n",
        "    # Return the grid search object\n",
        "    return best_model, search\n",
        "\n",
        "\n",
        "def display_results(model_name, best_model, grid_search, dataset_train_x, dataset_train_y,\n",
        "                    dataset_test_x, dataset_test_y):\n",
        "    \"\"\"This function displays the results of the grid search both via tables and graphically.\n",
        "\n",
        "    :param model_name: The name of the SK Learn model trained\n",
        "    :param best_model: The best model found by the grid search\n",
        "    :param grid_search: The grid search object which optimized the model\n",
        "    :param dataset_train_x: The X values of the training dataset\n",
        "    :param dataset_train_y: The y values of the training dataset\n",
        "    :param dataset_test_x: The X values of the training dataset\n",
        "    :param dataset_test_y: The y values of the training dataset\n",
        "    \"\"\"\n",
        "\n",
        "    # Add spacing\n",
        "    print(\"\\n\")\n",
        "\n",
        "    # Start by displaying the trend of the data over each of the parameters\n",
        "    for param in grid_search.best_params_:\n",
        "\n",
        "        # This dict stores the mean performance for each parameter\n",
        "        param_dict = {}\n",
        "\n",
        "        # For the parameter value for each grid search iteration\n",
        "        for p_ind, p in enumerate(grid_search.cv_results_[f'param_{param}']):\n",
        "\n",
        "            # Get P's name\n",
        "            pname = str(p)\n",
        "\n",
        "            # If the parameter is not in the param dictionary, add it\n",
        "            if pname not in param_dict: param_dict[pname] = (1, grid_search.cv_results_['mean_test_score'][p_ind])\n",
        "\n",
        "            # Otherwise, summate them\n",
        "            else: param_dict[pname] = (param_dict[pname][0] + 1,\n",
        "                                   param_dict[pname][1] + grid_search.cv_results_['mean_test_score'][p_ind])\n",
        "\n",
        "        # Finally, find the average value for each parameter value across all grid search iteration\n",
        "        for p in param_dict:\n",
        "            pname = str(p)\n",
        "            param_dict[pname] = param_dict[pname][1] / param_dict[pname][0]\n",
        "\n",
        "        # If the data is numeric, draw a lineplot\n",
        "        if type(list(param_dict.keys())[0]) is not str:\n",
        "            xtick_enum = range(len(list(param_dict.keys())))\n",
        "            ax = sns.lineplot(x=xtick_enum, y=param_dict.values())\n",
        "            ax.set_xticks(xtick_enum, list(param_dict.keys()))\n",
        "\n",
        "        # otherwise, draw a barplot\n",
        "        else: ax = sns.barplot(x=list(param_dict.keys()), y=list(param_dict.values()))\n",
        "\n",
        "        # Since we only care about the differences between models, zoom in the plot to see the differences\n",
        "        max_val = max(param_dict.values())\n",
        "        min_val = min(param_dict.values())\n",
        "        range_val = max_val - min_val\n",
        "        plt.ylim(min_val - range_val*0.1, max_val + range_val*0.1)\n",
        "\n",
        "        # Add plot aesthetics\n",
        "        ax.set_xlabel(param[7:].capitalize() + ' Value')\n",
        "        ax.set_ylabel('F1 Score')\n",
        "        plt.title(f'F1 Score over {param[7:].capitalize()} Value')\n",
        "        plt.show()\n",
        "\n",
        "    # Calculate the performance of the best model\n",
        "    model_train_pred = best_model.predict(dataset_train_x)\n",
        "    model_test_pred = best_model.predict(dataset_test_x)\n",
        "\n",
        "    # Calculate the performance metrics of the best model\n",
        "    model_train_precision, model_train_recall, model_train_f1, _ = class_metrics(dataset_train_y, model_train_pred,\n",
        "                                                                                 zero_division=0)\n",
        "    model_test_precision, model_test_recall, model_test_f1, _ = class_metrics(dataset_test_y, model_test_pred,\n",
        "                                                                              zero_division=0)\n",
        "\n",
        "    # Display which parameters were best\n",
        "    print(\"The best parameters were:\")\n",
        "    for param in grid_search.best_params_:\n",
        "        print(re.search(r'model__(.*)', param).group(1) + f\": {grid_search.best_params_[param]}\")\n",
        "    print(\"\\n\")\n",
        "\n",
        "    # Display the scores of the best model\n",
        "    print(f\"{model_name.title()} Prediction Metrics:\")\n",
        "    print(f\"Train Precision: {model_train_precision[1]}\")\n",
        "    print(f\"Train Recall:    {model_train_recall[1]}\")\n",
        "    print(f\"Train F1 Score:  {model_train_f1[1]}\")\n",
        "    print(f\"Test Precision:  {model_test_precision[1]}\")\n",
        "    print(f\"Test Recall:     {model_test_recall[1]}\")\n",
        "    print(f\"Test F1 Score:   {model_test_f1[1]}\")\n",
        "\n",
        "\n",
        "def save_model(model_name, grid_search):\n",
        "    \"\"\"Save the best model's parameters.\n",
        "\n",
        "    :param model_name: The name of the SK Learn model trained\n",
        "    :param grid_search: The grid search object which optimized the model\n",
        "    \"\"\"\n",
        "\n",
        "    pickle.dump(grid_search.best_params_, open(f'../models/{model_name}.pkl', 'wb'))"
      ],
      "metadata": {
        "pycharm": {
          "name": "#%%\n"
        },
        "id": "ofJGPfJw9Snk"
      }
    },
    {
      "cell_type": "markdown",
      "source": [
        "## Baseline Model\n",
        "\n",
        "A good place to start is to make a baseline. The most simple baseline model we can use is one that always guesses that there is heart disease. Let's see how this performs, in order to compare it to our other models."
      ],
      "metadata": {
        "collapsed": false,
        "pycharm": {
          "name": "#%% md\n"
        },
        "id": "elJxBcSB9Snk"
      }
    },
    {
      "cell_type": "code",
      "execution_count": null,
      "outputs": [
        {
          "name": "stdout",
          "output_type": "stream",
          "text": [
            "Baseline Model Prediction Metrics:\n",
            "Train Precision: 0.08559729075592412\n",
            "Train Recall:    1.0\n",
            "Train F1 Score:  0.15769621292315666\n",
            "Test Precision:  0.08559179729640991\n",
            "Test Recall:     1.0\n",
            "Test F1 Score:   0.15768689024653698\n"
          ]
        }
      ],
      "source": [
        "# Create a dataframe full of 'Yes' Heart Disease Predictions\n",
        "baseline_train_pred = pd.Series([1] * train_y.shape[0])\n",
        "baseline_test_pred = pd.Series([1] * test_y.shape[0])\n",
        "\n",
        "# Find the baseline classification metrics\n",
        "baseline_train_precision, baseline_train_recall, baseline_train_f, _ = class_metrics(train_y,\n",
        "                                                                                     baseline_train_pred,\n",
        "                                                                                     zero_division=0)\n",
        "baseline_test_precision, baseline_test_recall, baseline_test_f, _ = class_metrics(test_y,\n",
        "                                                                                  baseline_test_pred,\n",
        "                                                                                  zero_division=0)\n",
        "\n",
        "# Display the score of each regression\n",
        "print(\"Baseline Model Prediction Metrics:\")\n",
        "print(f\"Train Precision: {baseline_train_precision[1]}\")\n",
        "print(f\"Train Recall:    {baseline_train_recall[1]}\")\n",
        "print(f\"Train F1 Score:  {baseline_train_f[1]}\")\n",
        "print(f\"Test Precision:  {baseline_test_precision[1]}\")\n",
        "print(f\"Test Recall:     {baseline_test_recall[1]}\")\n",
        "print(f\"Test F1 Score:   {baseline_test_f[1]}\")\n"
      ],
      "metadata": {
        "pycharm": {
          "name": "#%%\n"
        },
        "id": "PElvhkdY9Snl",
        "outputId": "76b9fc76-5b79-4eee-b75f-fb89d94a222f"
      }
    },
    {
      "cell_type": "markdown",
      "source": [
        "As we can see, our model does pretty poorly overall. Although it does correctly label all occurrences of heart disease,\n",
        "it fails to label any of the negative cases. Our F Score to beat comes out to be **0.159**."
      ],
      "metadata": {
        "collapsed": false,
        "pycharm": {
          "name": "#%% md\n"
        },
        "id": "ignC69VU9Snl"
      }
    },
    {
      "cell_type": "markdown",
      "source": [
        "## Gaussian Process Classification\n",
        "*By Will Sumerfield*"
      ],
      "metadata": {
        "collapsed": false,
        "pycharm": {
          "name": "#%% md\n"
        },
        "id": "k3ub_79R9Snl"
      }
    },
    {
      "cell_type": "code",
      "execution_count": null,
      "outputs": [
        {
          "name": "stdout",
          "output_type": "stream",
          "text": [
            "Fitting 3 folds for each of 2 candidates, totalling 6 fits\n"
          ]
        },
        {
          "name": "stderr",
          "output_type": "stream",
          "text": [
            "/Users/miguelmonares/.conda/envs/Group041-Sp22/lib/python3.9/site-packages/sklearn/gaussian_process/kernels.py:420: ConvergenceWarning: The optimal value found for dimension 0 of parameter k1__noise_level is close to the specified lower bound 1e-05. Decreasing the bound and calling fit again may find a better value.\n",
            "  warnings.warn(\n",
            "/Users/miguelmonares/.conda/envs/Group041-Sp22/lib/python3.9/site-packages/sklearn/gaussian_process/kernels.py:420: ConvergenceWarning: The optimal value found for dimension 0 of parameter k1__noise_level is close to the specified lower bound 1e-05. Decreasing the bound and calling fit again may find a better value.\n",
            "  warnings.warn(\n",
            "/Users/miguelmonares/.conda/envs/Group041-Sp22/lib/python3.9/site-packages/sklearn/gaussian_process/kernels.py:420: ConvergenceWarning: The optimal value found for dimension 0 of parameter k1__noise_level is close to the specified lower bound 1e-05. Decreasing the bound and calling fit again may find a better value.\n",
            "  warnings.warn(\n"
          ]
        },
        {
          "name": "stdout",
          "output_type": "stream",
          "text": [
            "[CV 2/3; 1/2] START model__kernel=RBF(length_scale=1)...........................\n",
            "[CV 2/3; 1/2] END model__kernel=RBF(length_scale=1);, score=0.019 total time=   1.3s\n",
            "[CV 2/3; 2/2] START model__kernel=WhiteKernel(noise_level=1) + RBF(length_scale=1)\n",
            "[CV 2/3; 2/2] END model__kernel=WhiteKernel(noise_level=1) + RBF(length_scale=1);, score=0.019 total time=   1.4s\n",
            "[CV 1/3; 2/2] START model__kernel=WhiteKernel(noise_level=1) + RBF(length_scale=1)\n",
            "[CV 1/3; 2/2] END model__kernel=WhiteKernel(noise_level=1) + RBF(length_scale=1);, score=0.000 total time=   1.5s\n",
            "[CV 1/3; 1/1] START model__kernel=RBF(length_scale=1)...........................\n",
            "[CV 1/3; 1/1] END model__kernel=RBF(length_scale=1);, score=0.000 total time=   0.5s\n",
            "[CV 3/3; 1/1] START model__kernel=RBF(length_scale=1)...........................\n",
            "[CV 3/3; 1/1] END model__kernel=RBF(length_scale=1);, score=0.000 total time=   0.5s\n",
            "[CV 2/3; 1/2] START model__kernel=RBF(length_scale=1)...........................\n",
            "[CV 2/3; 1/2] END model__kernel=RBF(length_scale=1);, score=0.037 total time= 3.0min\n",
            "[CV 3/3; 2/2] START model__kernel=WhiteKernel(noise_level=1) + RBF(length_scale=1)\n",
            "[CV 3/3; 2/2] END model__kernel=WhiteKernel(noise_level=1) + RBF(length_scale=1);, score=0.000 total time=   1.5s\n",
            "[CV 3/3; 1/2] START model__kernel=RBF(length_scale=1)...........................\n",
            "[CV 3/3; 1/2] END model__kernel=RBF(length_scale=1);, score=0.071 total time= 3.1min\n",
            "[CV 2/3; 1/1] START model__kernel=RBF(length_scale=1)...........................\n",
            "[CV 2/3; 1/1] END model__kernel=RBF(length_scale=1);, score=0.019 total time=   0.5s\n",
            "[CV 1/3; 2/2] START model__kernel=WhiteKernel(noise_level=1) + RBF(length_scale=1)\n",
            "[CV 1/3; 2/2] END model__kernel=WhiteKernel(noise_level=1) + RBF(length_scale=1);, score=0.019 total time= 3.1min\n",
            "[CV 3/3; 1/2] START model__kernel=RBF(length_scale=1)...........................\n",
            "[CV 3/3; 1/2] END model__kernel=RBF(length_scale=1);, score=0.000 total time=   1.4s\n",
            "[CV 3/3; 2/2] START model__kernel=WhiteKernel(noise_level=1) + RBF(length_scale=1)\n",
            "[CV 3/3; 2/2] END model__kernel=WhiteKernel(noise_level=1) + RBF(length_scale=1);, score=0.071 total time= 3.2min\n",
            "[CV 2/3; 2/2] START model__kernel=WhiteKernel(noise_level=1) + RBF(length_scale=1)\n",
            "[CV 2/3; 2/2] END model__kernel=WhiteKernel(noise_level=1) + RBF(length_scale=1);, score=0.037 total time= 3.3min\n",
            "\n",
            "\n"
          ]
        },
        {
          "name": "stderr",
          "output_type": "stream",
          "text": [
            "/var/folders/7k/zf4x4x050t11xxxm55d1vgjw0000gn/T/ipykernel_26172/4111281483.py:86: UserWarning: Attempting to set identical bottom == top == 0.0424434225057278 results in singular transformations; automatically expanding.\n",
            "  plt.ylim(min_val - range_val*0.1, max_val + range_val*0.1)\n"
          ]
        },
        {
          "data": {
            "text/plain": "<Figure size 432x288 with 1 Axes>",
            "image/png": "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\n"
          },
          "metadata": {},
          "output_type": "display_data"
        },
        {
          "name": "stdout",
          "output_type": "stream",
          "text": [
            "The best parameters were:\n",
            "kernel: RBF(length_scale=1)\n",
            "\n",
            "\n",
            "Gaussian Process Classifier Prediction Metrics:\n",
            "Train Precision: 0.6666666666666666\n",
            "Train Recall:    0.038338658146964855\n",
            "Train F1 Score:  0.07250755287009064\n",
            "Test Precision:  0.3333333333333333\n",
            "Test Recall:     0.019230769230769232\n",
            "Test F1 Score:   0.03636363636363637\n"
          ]
        }
      ],
      "source": [
        "# Create a list of potential parameters\n",
        "gpc_params = {'kernel': [RBF(), WhiteKernel() + RBF(), DotProduct(), DotProduct()*RBF(), DotProduct()*RBF()+WhiteKernel()]}\n",
        "\n",
        "# Train the model, and find the best model from the provided inputs\n",
        "best_model, grid_search = train_model(GaussianProcessClassifier(random_state=42, copy_X_train=False), gpc_params,\n",
        "                                      train_sub_X, train_sub_y)\n",
        "\n",
        "# Display the results\n",
        "display_results(\"Gaussian Process Classifier\", best_model, grid_search, train_sub_X, train_sub_y, test_sub_X, test_sub_y)\n",
        "\n",
        "# Save the model\n",
        "save_model(\"Gaussian Process Classifier\", grid_search)"
      ],
      "metadata": {
        "pycharm": {
          "name": "#%%\n"
        },
        "id": "iuco0bOG9Snl",
        "outputId": "39dc673f-430c-40a0-86f7-31749db1b1e4"
      }
    },
    {
      "cell_type": "markdown",
      "source": [
        "## Support Vector Classification\n",
        "*By Miguel Monares*\n",
        "\n",
        "### Support Vector Classification Hypothesis\n",
        "\n",
        "Support Vector Machines (SVM) are effective in high dimensional spaces. Given that our data has decent number of features, we can expect these features to be a positive attribute for the SVM's performance on the dataset. The performance of the SVM works well when the data is mostly separable, but doesn't perform well when the dataset is overlapping. Hence, we can expect that heart disease classification performance of the SVM will depend heavily on whether the features can be effectively separated. It will be important that we use an appropriate kernel in order to get the best performance from this model."
      ],
      "metadata": {
        "collapsed": false,
        "pycharm": {
          "name": "#%% md\n"
        },
        "id": "TE5YCANf9Snm"
      }
    },
    {
      "cell_type": "code",
      "execution_count": null,
      "outputs": [
        {
          "name": "stdout",
          "output_type": "stream",
          "text": [
            "Fitting 3 folds for each of 4 candidates, totalling 12 fits\n"
          ]
        },
        {
          "name": "stderr",
          "output_type": "stream",
          "text": [
            "/Users/miguelmonares/.conda/envs/Group041-Sp22/lib/python3.9/site-packages/sklearn/model_selection/_validation.py:372: FitFailedWarning: \n",
            "3 fits failed out of a total of 12.\n",
            "The score on these train-test partitions for these parameters will be set to nan.\n",
            "If these failures are not expected, you can try to debug them by setting error_score='raise'.\n",
            "\n",
            "Below are more details about the failures:\n",
            "--------------------------------------------------------------------------------\n",
            "3 fits failed with the following error:\n",
            "Traceback (most recent call last):\n",
            "  File \"/Users/miguelmonares/.conda/envs/Group041-Sp22/lib/python3.9/site-packages/sklearn/model_selection/_validation.py\", line 680, in _fit_and_score\n",
            "    estimator.fit(X_train, y_train, **fit_params)\n",
            "  File \"/Users/miguelmonares/.conda/envs/Group041-Sp22/lib/python3.9/site-packages/sklearn/pipeline.py\", line 394, in fit\n",
            "    self._final_estimator.fit(Xt, y, **fit_params_last_step)\n",
            "  File \"/Users/miguelmonares/.conda/envs/Group041-Sp22/lib/python3.9/site-packages/sklearn/svm/_base.py\", line 255, in fit\n",
            "    fit(X, y, sample_weight, solver_type, kernel, random_seed=seed)\n",
            "  File \"/Users/miguelmonares/.conda/envs/Group041-Sp22/lib/python3.9/site-packages/sklearn/svm/_base.py\", line 315, in _dense_fit\n",
            "    ) = libsvm.fit(\n",
            "  File \"sklearn/svm/_libsvm.pyx\", line 173, in sklearn.svm._libsvm.fit\n",
            "ValueError: 'polynomial' is not in list\n",
            "\n",
            "  warnings.warn(some_fits_failed_message, FitFailedWarning)\n",
            "/Users/miguelmonares/.conda/envs/Group041-Sp22/lib/python3.9/site-packages/sklearn/model_selection/_search.py:969: UserWarning: One or more of the test scores are non-finite: [0.01841453        nan 0.         0.11655153]\n",
            "  warnings.warn(\n"
          ]
        },
        {
          "name": "stdout",
          "output_type": "stream",
          "text": [
            "\n",
            "\n"
          ]
        },
        {
          "data": {
            "text/plain": "<Figure size 432x288 with 1 Axes>",
            "image/png": "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\n"
          },
          "metadata": {},
          "output_type": "display_data"
        },
        {
          "name": "stdout",
          "output_type": "stream",
          "text": [
            "The best parameters were:\n",
            "kernel: sigmoid\n",
            "\n",
            "\n",
            "Svc Prediction Metrics:\n",
            "Train Precision: 0.16666666666666666\n",
            "Train Recall:    0.10223642172523961\n",
            "Train F1 Score:  0.12673267326732673\n",
            "Test Precision:  0.2777777777777778\n",
            "Test Recall:     0.16025641025641027\n",
            "Test F1 Score:   0.20325203252032523\n"
          ]
        }
      ],
      "source": [
        "from sklearn import svm\n",
        "# Create a list of potential parameters\n",
        "SVC_params = {'kernel': ['rbf', 'polynomial', 'linear', 'sigmoid']}\n",
        "\n",
        "# Train the model, and find the best model from the provided inputs\n",
        "best_model, grid_search = train_model(svm.SVC(random_state=42, ), SVC_params,\n",
        "                                      train_sub_X, train_sub_y)\n",
        "\n",
        "# Display the results\n",
        "display_results(\"SVC\", best_model, grid_search, train_sub_X, train_sub_y, test_sub_X, test_sub_y)\n",
        "\n",
        "# Save the model\n",
        "save_model(\"SVC\", grid_search)"
      ],
      "metadata": {
        "pycharm": {
          "name": "#%%\n"
        },
        "id": "4SJb2p5U9Snm",
        "outputId": "7f90c5a1-80e9-4a72-f4b5-c2e69921d478"
      }
    },
    {
      "cell_type": "markdown",
      "source": [
        "### Support Vector Classification Analysis\n",
        "\n",
        "The Support Vector Classification Model performed decently compared to"
      ],
      "metadata": {
        "collapsed": false,
        "pycharm": {
          "name": "#%% md\n"
        },
        "id": "nvfV6jJI9Snm"
      }
    },
    {
      "cell_type": "markdown",
      "source": [
        " the other models. The Precision and F1 Score outscored our baseline (.15), which indicates that this model is better suited at predicting the correct status of heart disease for each patient. It has a decent recall score compared to the other models, and is a model we may consider out of the models we compare to use in practice. Out of the kernel functions we chose to use, sigmoid performed the best. This is probably because sigmoid is best suited for binary tasks, and the data is not inherently linearly separable, so the other kernels don't perform as well."
      ],
      "metadata": {
        "collapsed": false,
        "pycharm": {
          "name": "#%% md\n"
        },
        "id": "U9tuccXC9Snm"
      }
    },
    {
      "cell_type": "markdown",
      "source": [
        "## Decision Tree Classification\n",
        "*By Miguel Monares*\n",
        "\n",
        "### Decision Tree Classification Hypothesis\n",
        "*By Miguel Monares*\n",
        "\n",
        "Decision Tree's may be a useful model for our task of heart disease classification because Decision Tree's offer interpretability and visualization that may allow us to discover insights and connections between the features that are indicative of heart disease. However, in order to maximize our performance, we need to make sure that decision tree doesn't overfit to the data, which we can influence by controlling pruning and max-depth. I expect this model will be able to find underlying connection between the features in our data, but will not be among the best."
      ],
      "metadata": {
        "collapsed": false,
        "pycharm": {
          "name": "#%% md\n"
        },
        "id": "eV0DeHfa9Snm"
      }
    },
    {
      "cell_type": "code",
      "execution_count": null,
      "outputs": [
        {
          "name": "stdout",
          "output_type": "stream",
          "text": [
            "Fitting 3 folds for each of 3 candidates, totalling 9 fits\n"
          ]
        },
        {
          "name": "stderr",
          "output_type": "stream",
          "text": [
            "/Users/miguelmonares/.conda/envs/Group041-Sp22/lib/python3.9/site-packages/sklearn/model_selection/_validation.py:372: FitFailedWarning: \n",
            "3 fits failed out of a total of 9.\n",
            "The score on these train-test partitions for these parameters will be set to nan.\n",
            "If these failures are not expected, you can try to debug them by setting error_score='raise'.\n",
            "\n",
            "Below are more details about the failures:\n",
            "--------------------------------------------------------------------------------\n",
            "3 fits failed with the following error:\n",
            "Traceback (most recent call last):\n",
            "  File \"/Users/miguelmonares/.conda/envs/Group041-Sp22/lib/python3.9/site-packages/sklearn/model_selection/_validation.py\", line 680, in _fit_and_score\n",
            "    estimator.fit(X_train, y_train, **fit_params)\n",
            "  File \"/Users/miguelmonares/.conda/envs/Group041-Sp22/lib/python3.9/site-packages/sklearn/pipeline.py\", line 394, in fit\n",
            "    self._final_estimator.fit(Xt, y, **fit_params_last_step)\n",
            "  File \"/Users/miguelmonares/.conda/envs/Group041-Sp22/lib/python3.9/site-packages/sklearn/tree/_classes.py\", line 937, in fit\n",
            "    super().fit(\n",
            "  File \"/Users/miguelmonares/.conda/envs/Group041-Sp22/lib/python3.9/site-packages/sklearn/tree/_classes.py\", line 352, in fit\n",
            "    criterion = CRITERIA_CLF[self.criterion](\n",
            "KeyError: 'log_loss'\n",
            "\n",
            "  warnings.warn(some_fits_failed_message, FitFailedWarning)\n",
            "/Users/miguelmonares/.conda/envs/Group041-Sp22/lib/python3.9/site-packages/sklearn/model_selection/_search.py:969: UserWarning: One or more of the test scores are non-finite: [0.21042229 0.19207993        nan]\n",
            "  warnings.warn(\n"
          ]
        },
        {
          "name": "stdout",
          "output_type": "stream",
          "text": [
            "\n",
            "\n"
          ]
        },
        {
          "data": {
            "text/plain": "<Figure size 432x288 with 1 Axes>",
            "image/png": "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\n"
          },
          "metadata": {},
          "output_type": "display_data"
        },
        {
          "name": "stdout",
          "output_type": "stream",
          "text": [
            "The best parameters were:\n",
            "criterion: gini\n",
            "\n",
            "\n",
            "Decision Tree Classifier Prediction Metrics:\n",
            "Train Precision: 1.0\n",
            "Train Recall:    0.9936102236421726\n",
            "Train F1 Score:  0.9967948717948718\n",
            "Test Precision:  0.1951219512195122\n",
            "Test Recall:     0.2564102564102564\n",
            "Test F1 Score:   0.221606648199446\n"
          ]
        }
      ],
      "source": [
        "from sklearn import tree\n",
        "# Create a list of potential parameters\n",
        "dt_params = {'criterion': ['gini', 'entropy', 'log_loss']}\n",
        "\n",
        "# Train the model, and find the best model from the provided inputs\n",
        "best_model, grid_search = train_model(tree.DecisionTreeClassifier(), dt_params,\n",
        "                                      train_sub_X, train_sub_y)\n",
        "\n",
        "# Display the results\n",
        "display_results(\"Decision Tree Classifier\", best_model, grid_search, train_sub_X, train_sub_y, test_sub_X, test_sub_y)\n",
        "\n",
        "# Save the model\n",
        "save_model(\"Decision Tree Classifier\", grid_search)"
      ],
      "metadata": {
        "pycharm": {
          "name": "#%%\n"
        },
        "id": "YAKLm6EK9Snn",
        "outputId": "183ae3e7-a319-47a6-c21e-2104b99adb29"
      }
    },
    {
      "cell_type": "markdown",
      "source": [
        "### Decision Tree Classification Analysis\n",
        "\n",
        "The decision tree classification model had an f1 score of .222, which outscores the baseline model f1 score (.15). Additionally, it has a higher precision score. It has a close f1 performance to that of the support vector classifier. However, the decision tree classifier has a higher recall (.256 vs .160). Since we place more importance on the value of the recall score vs precision/f1, we declare the the decision tree model is better suited for this task of prediction heart disease. Out of the criterion functions we consider for measuring the quality of splits, the gini function outperforms entropy and log_loss, which can be explained since gini facors big partitions. Gini is also faster computationally, so we prefer to use this criterion in the field."
      ],
      "metadata": {
        "collapsed": false,
        "pycharm": {
          "name": "#%% md\n"
        },
        "id": "HXqH4sSW9Snn"
      }
    },
    {
      "cell_type": "markdown",
      "source": [
        "## Neural Network Classification\n",
        "*By Ritik Raina*"
      ],
      "metadata": {
        "id": "OU4N_2XG9WuD"
      }
    },
    {
      "cell_type": "code",
      "source": [
        ""
      ],
      "metadata": {
        "id": "fRlLznFC9Zg7"
      },
      "execution_count": null,
      "outputs": []
    },
    {
      "cell_type": "code",
      "source": [
        "import torch\n",
        "import torch.nn as nn\n",
        "import torch.optim as optim\n",
        "from torch.utils.data import Dataset, DataLoader\n",
        "import torch.nn.functional as F"
      ],
      "metadata": {
        "id": "CJhtLoHnukUD"
      },
      "execution_count": null,
      "outputs": []
    },
    {
      "cell_type": "code",
      "source": [
        "epochs = 50\n",
        "batch_size = 128\n",
        "learning_rate = 0.001"
      ],
      "metadata": {
        "id": "KdUBq6YpvP6R"
      },
      "execution_count": null,
      "outputs": []
    },
    {
      "cell_type": "code",
      "source": [
        "# Training Dataset\n",
        "class TrainingSet(Dataset):\n",
        "    \n",
        "    def __init__(self, X, y):\n",
        "        self.X = X\n",
        "        self.y = y\n",
        "        \n",
        "    def __getitem__(self, index):\n",
        "        return self.X[index], self.y[index]\n",
        "        \n",
        "    def __len__ (self):\n",
        "        return len(self.X)\n",
        "\n",
        "\n",
        "training_dataset = TrainingSet(torch.FloatTensor(train_X.to_numpy()), \n",
        "                       torch.FloatTensor(train_y.to_numpy()))"
      ],
      "metadata": {
        "id": "0V0kUatxNRRY"
      },
      "execution_count": null,
      "outputs": []
    },
    {
      "cell_type": "code",
      "source": [
        "## Testing Dataset\n",
        "class TestingSet(Dataset):\n",
        "    \n",
        "    def __init__(self, X):\n",
        "        self.X = X\n",
        "        \n",
        "    def __getitem__(self, index):\n",
        "        return self.X[index]\n",
        "        \n",
        "    def __len__ (self):\n",
        "        return len(self.X)\n",
        "    \n",
        "\n",
        "testing_dataset = TestingSet(torch.FloatTensor(test_X.to_numpy()))"
      ],
      "metadata": {
        "id": "wJoFeUW4XdNM"
      },
      "execution_count": null,
      "outputs": []
    },
    {
      "cell_type": "code",
      "source": [
        "train_loader = DataLoader(dataset=training_dataset, batch_size=batch_size, shuffle=True)"
      ],
      "metadata": {
        "id": "i1dFFW70Xfh4"
      },
      "execution_count": null,
      "outputs": []
    },
    {
      "cell_type": "code",
      "source": [
        "class Model(nn.Module):\n",
        "    def __init__(self):\n",
        "        super(Model, self).__init__()\n",
        "        self.layer_1 = nn.Linear(34, 64) \n",
        "        self.layer_2 = nn.Linear(64, 64)\n",
        "        self.layer_out = nn.Linear(64, 1) \n",
        "        \n",
        "        self.relu = nn.ReLU()\n",
        "        self.dropout = nn.Dropout(p=0.1)\n",
        "        self.batchnorm_1 = nn.BatchNorm1d(64)\n",
        "        self.batchnorm_2 = nn.BatchNorm1d(64)\n",
        "        \n",
        "    def forward(self, inputs):\n",
        "        x = self.relu(self.layer_1(inputs))\n",
        "        x = self.batchnorm_1(x)\n",
        "        x = self.relu(self.layer_2(x))\n",
        "        x = self.batchnorm_2(x)\n",
        "        x = self.dropout(x)\n",
        "        x = self.layer_out(x)\n",
        "        \n",
        "        return x"
      ],
      "metadata": {
        "id": "4HZKSreYXtp9"
      },
      "execution_count": null,
      "outputs": []
    },
    {
      "cell_type": "code",
      "source": [
        "device = torch.device(\"cuda:0\" if torch.cuda.is_available() else \"cpu\")\n",
        "\n",
        "model = Model()\n",
        "model.to(device)\n",
        "print(model)\n",
        "criterion = nn.BCEWithLogitsLoss()\n",
        "optimizer = torch.optim.Adam(model.parameters(),lr = learning_rate)"
      ],
      "metadata": {
        "colab": {
          "base_uri": "https://localhost:8080/"
        },
        "id": "_4I94VLIXx6M",
        "outputId": "98118e7b-a3e7-4910-d378-7192e60b1179"
      },
      "execution_count": null,
      "outputs": [
        {
          "output_type": "stream",
          "name": "stdout",
          "text": [
            "Model(\n",
            "  (layer_1): Linear(in_features=34, out_features=64, bias=True)\n",
            "  (layer_2): Linear(in_features=64, out_features=64, bias=True)\n",
            "  (layer_out): Linear(in_features=64, out_features=1, bias=True)\n",
            "  (relu): ReLU()\n",
            "  (dropout): Dropout(p=0.1, inplace=False)\n",
            "  (batchnorm_1): BatchNorm1d(64, eps=1e-05, momentum=0.1, affine=True, track_running_stats=True)\n",
            "  (batchnorm_2): BatchNorm1d(64, eps=1e-05, momentum=0.1, affine=True, track_running_stats=True)\n",
            ")\n"
          ]
        }
      ]
    },
    {
      "cell_type": "code",
      "source": [
        "def binary_acc(y_pred, y_test):\n",
        "    y_pred_tag = torch.round(torch.sigmoid(y_pred))\n",
        "    correct_results_sum = (y_pred_tag == y_test).sum().float()\n",
        "    acc = correct_results_sum/y_test.shape[0]\n",
        "    acc = torch.round(acc * 100)\n",
        "    return acc"
      ],
      "metadata": {
        "id": "txZ3RuvUXz3w"
      },
      "execution_count": null,
      "outputs": []
    },
    {
      "cell_type": "code",
      "source": [
        "model.train()\n",
        "for epoch in range(epochs):\n",
        "  epoch_loss = 0\n",
        "  epoch_acc = 0\n",
        "  for X_batch, y_batch in train_loader:\n",
        "    X_batch, y_batch = X_batch.to(device), y_batch.to(device)\n",
        "    optimizer.zero_grad()\n",
        "    \n",
        "    y_pred = model(X_batch)\n",
        "    \n",
        "    loss = criterion(y_pred, y_batch.unsqueeze(1))\n",
        "    acc = binary_acc(y_pred, y_batch.unsqueeze(1))\n",
        "    \n",
        "    loss.backward()\n",
        "    optimizer.step()\n",
        "    \n",
        "    epoch_loss += loss.item()\n",
        "    epoch_acc += acc.item()\n",
        "\n",
        "  print(f'Epoch {epoch+0:03}: | Loss: {epoch_loss/len(train_loader):.5f} | Acc: {epoch_acc/len(train_loader):.3f}')"
      ],
      "metadata": {
        "colab": {
          "base_uri": "https://localhost:8080/"
        },
        "id": "t01wAedUX18U",
        "outputId": "77ddb334-de7e-406b-b478-722db697df02"
      },
      "execution_count": null,
      "outputs": [
        {
          "output_type": "stream",
          "name": "stdout",
          "text": [
            "Epoch 001: | Loss: 0.27216 | Acc: 89.855\n",
            "Epoch 002: | Loss: 0.23294 | Acc: 91.460\n",
            "Epoch 003: | Loss: 0.23015 | Acc: 91.546\n",
            "Epoch 004: | Loss: 0.22899 | Acc: 91.547\n",
            "Epoch 005: | Loss: 0.22857 | Acc: 91.557\n",
            "Epoch 006: | Loss: 0.22827 | Acc: 91.564\n",
            "Epoch 007: | Loss: 0.22799 | Acc: 91.546\n",
            "Epoch 008: | Loss: 0.22766 | Acc: 91.561\n",
            "Epoch 009: | Loss: 0.22741 | Acc: 91.574\n",
            "Epoch 010: | Loss: 0.22712 | Acc: 91.601\n",
            "Epoch 011: | Loss: 0.22699 | Acc: 91.619\n",
            "Epoch 012: | Loss: 0.22705 | Acc: 91.580\n",
            "Epoch 013: | Loss: 0.22686 | Acc: 91.575\n",
            "Epoch 014: | Loss: 0.22683 | Acc: 91.618\n",
            "Epoch 015: | Loss: 0.22665 | Acc: 91.577\n",
            "Epoch 016: | Loss: 0.22657 | Acc: 91.621\n",
            "Epoch 017: | Loss: 0.22659 | Acc: 91.633\n",
            "Epoch 018: | Loss: 0.22651 | Acc: 91.616\n",
            "Epoch 019: | Loss: 0.22622 | Acc: 91.598\n",
            "Epoch 020: | Loss: 0.22633 | Acc: 91.605\n",
            "Epoch 021: | Loss: 0.22610 | Acc: 91.636\n",
            "Epoch 022: | Loss: 0.22625 | Acc: 91.629\n",
            "Epoch 023: | Loss: 0.22595 | Acc: 91.606\n",
            "Epoch 024: | Loss: 0.22581 | Acc: 91.628\n",
            "Epoch 025: | Loss: 0.22587 | Acc: 91.621\n",
            "Epoch 026: | Loss: 0.22596 | Acc: 91.657\n",
            "Epoch 027: | Loss: 0.22590 | Acc: 91.635\n",
            "Epoch 028: | Loss: 0.22584 | Acc: 91.627\n",
            "Epoch 029: | Loss: 0.22588 | Acc: 91.636\n",
            "Epoch 030: | Loss: 0.22569 | Acc: 91.626\n",
            "Epoch 031: | Loss: 0.22533 | Acc: 91.633\n",
            "Epoch 032: | Loss: 0.22541 | Acc: 91.655\n",
            "Epoch 033: | Loss: 0.22535 | Acc: 91.647\n",
            "Epoch 034: | Loss: 0.22513 | Acc: 91.623\n",
            "Epoch 035: | Loss: 0.22532 | Acc: 91.628\n",
            "Epoch 036: | Loss: 0.22528 | Acc: 91.643\n",
            "Epoch 037: | Loss: 0.22532 | Acc: 91.627\n",
            "Epoch 038: | Loss: 0.22529 | Acc: 91.648\n",
            "Epoch 039: | Loss: 0.22491 | Acc: 91.639\n",
            "Epoch 040: | Loss: 0.22484 | Acc: 91.667\n",
            "Epoch 041: | Loss: 0.22517 | Acc: 91.628\n",
            "Epoch 042: | Loss: 0.22507 | Acc: 91.660\n",
            "Epoch 043: | Loss: 0.22500 | Acc: 91.630\n",
            "Epoch 044: | Loss: 0.22483 | Acc: 91.661\n",
            "Epoch 045: | Loss: 0.22487 | Acc: 91.616\n",
            "Epoch 046: | Loss: 0.22470 | Acc: 91.646\n",
            "Epoch 047: | Loss: 0.22485 | Acc: 91.645\n",
            "Epoch 048: | Loss: 0.22483 | Acc: 91.627\n",
            "Epoch 049: | Loss: 0.22492 | Acc: 91.633\n",
            "Epoch 050: | Loss: 0.22450 | Acc: 91.661\n"
          ]
        }
      ]
    },
    {
      "cell_type": "code",
      "source": [
        "test_loader = DataLoader(dataset=training_dataset, batch_size=1)\n",
        "\n",
        "y_pred_train_list = []\n",
        "model.eval()\n",
        "with torch.no_grad():\n",
        "    for X_batch, y_batch in test_loader:\n",
        "        X_batch = X_batch.to(device)\n",
        "        y_train_pred = model(X_batch)\n",
        "        y_train_pred = torch.sigmoid(y_train_pred)\n",
        "        y_pred_tag = torch.round(y_train_pred)\n",
        "        y_pred_train_list.append(y_pred_tag.cpu().numpy())\n",
        "\n",
        "y_pred_train_list = [a.squeeze().tolist() for a in y_pred_train_list]"
      ],
      "metadata": {
        "id": "eJh544oGfHlD"
      },
      "execution_count": null,
      "outputs": []
    },
    {
      "cell_type": "code",
      "source": [
        "model_train_precision, model_train_recall, model_train_f1, _ = class_metrics(train_y.to_numpy(), y_pred_train_list)"
      ],
      "metadata": {
        "id": "eR6aCdz3gRMx"
      },
      "execution_count": null,
      "outputs": []
    },
    {
      "cell_type": "code",
      "source": [
        "test_loader = DataLoader(dataset=testing_dataset, batch_size=1)\n",
        "\n",
        "y_pred_test_list = []\n",
        "model.eval()\n",
        "with torch.no_grad():\n",
        "    for X_batch in test_loader:\n",
        "        X_batch = X_batch.to(device)\n",
        "        y_test_pred = model(X_batch)\n",
        "        y_test_pred = torch.sigmoid(y_test_pred)\n",
        "        y_pred_tag = torch.round(y_test_pred)\n",
        "        y_pred_test_list.append(y_pred_tag.cpu().numpy())\n",
        "\n",
        "y_pred_test_list = [a.squeeze().tolist() for a in y_pred_test_list]"
      ],
      "metadata": {
        "id": "PSL6pys6X34h"
      },
      "execution_count": null,
      "outputs": []
    },
    {
      "cell_type": "code",
      "source": [
        "model_test_precision, model_test_recall, model_test_f1, _ = class_metrics(test_y.to_numpy(), y_pred_test_list)"
      ],
      "metadata": {
        "id": "hXtRFrdKZL73"
      },
      "execution_count": null,
      "outputs": []
    },
    {
      "cell_type": "code",
      "source": [
        "print(\"For predicting: 0\")\n",
        "print(f\"Train Precision: {model_train_precision[0]}\")\n",
        "print(f\"Train Recall:    {model_train_recall[0]}\")\n",
        "print(f\"Train F1 Score:  {model_train_f1[0]}\")\n",
        "print(f\"Test Precision:  {model_test_precision[0]}\")\n",
        "print(f\"Test Recall:     {model_test_recall[0]}\")\n",
        "print(f\"Test F1 Score:   {model_test_f1[0]}\")"
      ],
      "metadata": {
        "colab": {
          "base_uri": "https://localhost:8080/"
        },
        "id": "ET_RsF7nnkxs",
        "outputId": "91dd4ce6-e65f-4ab5-cb66-aee4517fe468"
      },
      "execution_count": null,
      "outputs": [
        {
          "output_type": "stream",
          "name": "stdout",
          "text": [
            "For predicting: 0\n",
            "Train Precision: 0.9197198250328182\n",
            "Train Recall:    0.995506470989551\n",
            "Train F1 Score:  0.9561136866375339\n",
            "Test Precision:  0.9194046829083325\n",
            "Test Recall:     0.9950038471402923\n",
            "Test F1 Score:   0.9557115758874682\n"
          ]
        }
      ]
    },
    {
      "cell_type": "code",
      "source": [
        "print(\"For predicting: 1\")\n",
        "print(f\"Train Precision: {model_train_precision[1]}\")\n",
        "print(f\"Train Recall:    {model_train_recall[1]}\")\n",
        "print(f\"Train F1 Score:  {model_train_f1[1]}\")\n",
        "print(f\"Test Precision:  {model_test_precision[1]}\")\n",
        "print(f\"Test Recall:     {model_test_recall[1]}\")\n",
        "print(f\"Test F1 Score:   {model_test_f1[1]}\")"
      ],
      "metadata": {
        "colab": {
          "base_uri": "https://localhost:8080/"
        },
        "id": "ewhmJSyYlO_m",
        "outputId": "f281c9e7-3c1f-4307-e056-8cb2077e6b21"
      },
      "execution_count": null,
      "outputs": [
        {
          "output_type": "stream",
          "name": "stdout",
          "text": [
            "For predicting: 1\n",
            "Train Precision: 0.5990846681922197\n",
            "Train Recall:    0.07172995780590717\n",
            "Train F1 Score:  0.1281198003327787\n",
            "Test Precision:  0.5608656447249775\n",
            "Test Recall:     0.06817185444980271\n",
            "Test F1 Score:   0.12156747776800546\n"
          ]
        }
      ]
    },
    {
      "cell_type": "markdown",
      "source": [
        "Here, let's do an analysis to find out what features are incorporated in our predictions. And in this case, check for the kinds of features that could be selected for a better, robust, and more accurate model. In this case, we use the SHAP Explainer. The code is adapted from (https://towardsdatascience.com/a-novel-approach-to-feature-importance-shapley-additive-explanations-d18af30fc21b). \n",
        "\n",
        "We will use the smaller dataset for our feature importance analysis."
      ],
      "metadata": {
        "id": "6oys2Mfww3Lc"
      }
    },
    {
      "cell_type": "code",
      "source": [
        "!pip install shap\n",
        "import shap"
      ],
      "metadata": {
        "colab": {
          "base_uri": "https://localhost:8080/"
        },
        "id": "aCY2hizEZSL3",
        "outputId": "ed9f0885-0121-4b02-e9eb-521ee6a331c3"
      },
      "execution_count": null,
      "outputs": [
        {
          "output_type": "stream",
          "name": "stdout",
          "text": [
            "Looking in indexes: https://pypi.org/simple, https://us-python.pkg.dev/colab-wheels/public/simple/\n",
            "Collecting shap\n",
            "  Downloading shap-0.40.0-cp37-cp37m-manylinux2010_x86_64.whl (564 kB)\n",
            "\u001b[K     |████████████████████████████████| 564 kB 5.1 MB/s \n",
            "\u001b[?25hCollecting slicer==0.0.7\n",
            "  Downloading slicer-0.0.7-py3-none-any.whl (14 kB)\n",
            "Requirement already satisfied: tqdm>4.25.0 in /usr/local/lib/python3.7/dist-packages (from shap) (4.64.0)\n",
            "Requirement already satisfied: numba in /usr/local/lib/python3.7/dist-packages (from shap) (0.51.2)\n",
            "Requirement already satisfied: cloudpickle in /usr/local/lib/python3.7/dist-packages (from shap) (1.3.0)\n",
            "Requirement already satisfied: numpy in /usr/local/lib/python3.7/dist-packages (from shap) (1.21.6)\n",
            "Requirement already satisfied: scikit-learn in /usr/local/lib/python3.7/dist-packages (from shap) (1.0.2)\n",
            "Requirement already satisfied: scipy in /usr/local/lib/python3.7/dist-packages (from shap) (1.4.1)\n",
            "Requirement already satisfied: pandas in /usr/local/lib/python3.7/dist-packages (from shap) (1.3.5)\n",
            "Requirement already satisfied: packaging>20.9 in /usr/local/lib/python3.7/dist-packages (from shap) (21.3)\n",
            "Requirement already satisfied: pyparsing!=3.0.5,>=2.0.2 in /usr/local/lib/python3.7/dist-packages (from packaging>20.9->shap) (3.0.9)\n",
            "Requirement already satisfied: llvmlite<0.35,>=0.34.0.dev0 in /usr/local/lib/python3.7/dist-packages (from numba->shap) (0.34.0)\n",
            "Requirement already satisfied: setuptools in /usr/local/lib/python3.7/dist-packages (from numba->shap) (57.4.0)\n",
            "Requirement already satisfied: pytz>=2017.3 in /usr/local/lib/python3.7/dist-packages (from pandas->shap) (2022.1)\n",
            "Requirement already satisfied: python-dateutil>=2.7.3 in /usr/local/lib/python3.7/dist-packages (from pandas->shap) (2.8.2)\n",
            "Requirement already satisfied: six>=1.5 in /usr/local/lib/python3.7/dist-packages (from python-dateutil>=2.7.3->pandas->shap) (1.15.0)\n",
            "Requirement already satisfied: joblib>=0.11 in /usr/local/lib/python3.7/dist-packages (from scikit-learn->shap) (1.1.0)\n",
            "Requirement already satisfied: threadpoolctl>=2.0.0 in /usr/local/lib/python3.7/dist-packages (from scikit-learn->shap) (3.1.0)\n",
            "Installing collected packages: slicer, shap\n",
            "Successfully installed shap-0.40.0 slicer-0.0.7\n"
          ]
        }
      ]
    },
    {
      "cell_type": "code",
      "source": [
        "e = shap.DeepExplainer(\n",
        "        model, \n",
        "        torch.from_numpy(\n",
        "            test_sub_X.to_numpy().astype(np.float32)\n",
        "        ).to(device))"
      ],
      "metadata": {
        "id": "OO_lsO92bhIt"
      },
      "execution_count": null,
      "outputs": []
    },
    {
      "cell_type": "code",
      "source": [
        "shap_values = e.shap_values(\n",
        "    torch.from_numpy(test_sub_X.to_numpy().astype(np.float32)).to(device)\n",
        ")"
      ],
      "metadata": {
        "id": "8-fYanJycAP5"
      },
      "execution_count": null,
      "outputs": []
    },
    {
      "cell_type": "code",
      "source": [
        "import pandas as pd\n",
        "df = pd.DataFrame({\n",
        "    \"mean_abs_shap\": np.mean(np.abs(shap_values), axis=0), \n",
        "    \"stdev_abs_shap\": np.std(np.abs(shap_values), axis=0), \n",
        "    \"name\": list(train_sub_X.columns)\n",
        "})\n",
        "df.sort_values(\"mean_abs_shap\", ascending=False)[:10]"
      ],
      "metadata": {
        "colab": {
          "base_uri": "https://localhost:8080/",
          "height": 363
        },
        "id": "10cEeszlcNMd",
        "outputId": "b22f16b6-5a7b-4097-80cd-178a78ed8ea3"
      },
      "execution_count": null,
      "outputs": [
        {
          "output_type": "execute_result",
          "data": {
            "text/plain": [
              "    mean_abs_shap  stdev_abs_shap                  name\n",
              "3       14.456402       15.464651           AgeCategory\n",
              "0       10.453290       12.216774                   BMI\n",
              "1       10.291405       16.499401        PhysicalHealth\n",
              "2        5.925713        9.511000          MentalHealth\n",
              "4        2.161188        2.038554             GenHealth\n",
              "5        1.301363        1.858745             SleepTime\n",
              "15       1.233342        0.758103              Sex_Male\n",
              "14       1.054280        0.873192            Sex_Female\n",
              "6        0.979263        0.898632           Smoking_Yes\n",
              "26       0.936557        1.102937  PhysicalActivity_Yes"
            ],
            "text/html": [
              "\n",
              "  <div id=\"df-bc7882f8-bb25-4612-98bd-e74c8cf45b1c\">\n",
              "    <div class=\"colab-df-container\">\n",
              "      <div>\n",
              "<style scoped>\n",
              "    .dataframe tbody tr th:only-of-type {\n",
              "        vertical-align: middle;\n",
              "    }\n",
              "\n",
              "    .dataframe tbody tr th {\n",
              "        vertical-align: top;\n",
              "    }\n",
              "\n",
              "    .dataframe thead th {\n",
              "        text-align: right;\n",
              "    }\n",
              "</style>\n",
              "<table border=\"1\" class=\"dataframe\">\n",
              "  <thead>\n",
              "    <tr style=\"text-align: right;\">\n",
              "      <th></th>\n",
              "      <th>mean_abs_shap</th>\n",
              "      <th>stdev_abs_shap</th>\n",
              "      <th>name</th>\n",
              "    </tr>\n",
              "  </thead>\n",
              "  <tbody>\n",
              "    <tr>\n",
              "      <th>3</th>\n",
              "      <td>14.456402</td>\n",
              "      <td>15.464651</td>\n",
              "      <td>AgeCategory</td>\n",
              "    </tr>\n",
              "    <tr>\n",
              "      <th>0</th>\n",
              "      <td>10.453290</td>\n",
              "      <td>12.216774</td>\n",
              "      <td>BMI</td>\n",
              "    </tr>\n",
              "    <tr>\n",
              "      <th>1</th>\n",
              "      <td>10.291405</td>\n",
              "      <td>16.499401</td>\n",
              "      <td>PhysicalHealth</td>\n",
              "    </tr>\n",
              "    <tr>\n",
              "      <th>2</th>\n",
              "      <td>5.925713</td>\n",
              "      <td>9.511000</td>\n",
              "      <td>MentalHealth</td>\n",
              "    </tr>\n",
              "    <tr>\n",
              "      <th>4</th>\n",
              "      <td>2.161188</td>\n",
              "      <td>2.038554</td>\n",
              "      <td>GenHealth</td>\n",
              "    </tr>\n",
              "    <tr>\n",
              "      <th>5</th>\n",
              "      <td>1.301363</td>\n",
              "      <td>1.858745</td>\n",
              "      <td>SleepTime</td>\n",
              "    </tr>\n",
              "    <tr>\n",
              "      <th>15</th>\n",
              "      <td>1.233342</td>\n",
              "      <td>0.758103</td>\n",
              "      <td>Sex_Male</td>\n",
              "    </tr>\n",
              "    <tr>\n",
              "      <th>14</th>\n",
              "      <td>1.054280</td>\n",
              "      <td>0.873192</td>\n",
              "      <td>Sex_Female</td>\n",
              "    </tr>\n",
              "    <tr>\n",
              "      <th>6</th>\n",
              "      <td>0.979263</td>\n",
              "      <td>0.898632</td>\n",
              "      <td>Smoking_Yes</td>\n",
              "    </tr>\n",
              "    <tr>\n",
              "      <th>26</th>\n",
              "      <td>0.936557</td>\n",
              "      <td>1.102937</td>\n",
              "      <td>PhysicalActivity_Yes</td>\n",
              "    </tr>\n",
              "  </tbody>\n",
              "</table>\n",
              "</div>\n",
              "      <button class=\"colab-df-convert\" onclick=\"convertToInteractive('df-bc7882f8-bb25-4612-98bd-e74c8cf45b1c')\"\n",
              "              title=\"Convert this dataframe to an interactive table.\"\n",
              "              style=\"display:none;\">\n",
              "        \n",
              "  <svg xmlns=\"http://www.w3.org/2000/svg\" height=\"24px\"viewBox=\"0 0 24 24\"\n",
              "       width=\"24px\">\n",
              "    <path d=\"M0 0h24v24H0V0z\" fill=\"none\"/>\n",
              "    <path d=\"M18.56 5.44l.94 2.06.94-2.06 2.06-.94-2.06-.94-.94-2.06-.94 2.06-2.06.94zm-11 1L8.5 8.5l.94-2.06 2.06-.94-2.06-.94L8.5 2.5l-.94 2.06-2.06.94zm10 10l.94 2.06.94-2.06 2.06-.94-2.06-.94-.94-2.06-.94 2.06-2.06.94z\"/><path d=\"M17.41 7.96l-1.37-1.37c-.4-.4-.92-.59-1.43-.59-.52 0-1.04.2-1.43.59L10.3 9.45l-7.72 7.72c-.78.78-.78 2.05 0 2.83L4 21.41c.39.39.9.59 1.41.59.51 0 1.02-.2 1.41-.59l7.78-7.78 2.81-2.81c.8-.78.8-2.07 0-2.86zM5.41 20L4 18.59l7.72-7.72 1.47 1.35L5.41 20z\"/>\n",
              "  </svg>\n",
              "      </button>\n",
              "      \n",
              "  <style>\n",
              "    .colab-df-container {\n",
              "      display:flex;\n",
              "      flex-wrap:wrap;\n",
              "      gap: 12px;\n",
              "    }\n",
              "\n",
              "    .colab-df-convert {\n",
              "      background-color: #E8F0FE;\n",
              "      border: none;\n",
              "      border-radius: 50%;\n",
              "      cursor: pointer;\n",
              "      display: none;\n",
              "      fill: #1967D2;\n",
              "      height: 32px;\n",
              "      padding: 0 0 0 0;\n",
              "      width: 32px;\n",
              "    }\n",
              "\n",
              "    .colab-df-convert:hover {\n",
              "      background-color: #E2EBFA;\n",
              "      box-shadow: 0px 1px 2px rgba(60, 64, 67, 0.3), 0px 1px 3px 1px rgba(60, 64, 67, 0.15);\n",
              "      fill: #174EA6;\n",
              "    }\n",
              "\n",
              "    [theme=dark] .colab-df-convert {\n",
              "      background-color: #3B4455;\n",
              "      fill: #D2E3FC;\n",
              "    }\n",
              "\n",
              "    [theme=dark] .colab-df-convert:hover {\n",
              "      background-color: #434B5C;\n",
              "      box-shadow: 0px 1px 3px 1px rgba(0, 0, 0, 0.15);\n",
              "      filter: drop-shadow(0px 1px 2px rgba(0, 0, 0, 0.3));\n",
              "      fill: #FFFFFF;\n",
              "    }\n",
              "  </style>\n",
              "\n",
              "      <script>\n",
              "        const buttonEl =\n",
              "          document.querySelector('#df-bc7882f8-bb25-4612-98bd-e74c8cf45b1c button.colab-df-convert');\n",
              "        buttonEl.style.display =\n",
              "          google.colab.kernel.accessAllowed ? 'block' : 'none';\n",
              "\n",
              "        async function convertToInteractive(key) {\n",
              "          const element = document.querySelector('#df-bc7882f8-bb25-4612-98bd-e74c8cf45b1c');\n",
              "          const dataTable =\n",
              "            await google.colab.kernel.invokeFunction('convertToInteractive',\n",
              "                                                     [key], {});\n",
              "          if (!dataTable) return;\n",
              "\n",
              "          const docLinkHtml = 'Like what you see? Visit the ' +\n",
              "            '<a target=\"_blank\" href=https://colab.research.google.com/notebooks/data_table.ipynb>data table notebook</a>'\n",
              "            + ' to learn more about interactive tables.';\n",
              "          element.innerHTML = '';\n",
              "          dataTable['output_type'] = 'display_data';\n",
              "          await google.colab.output.renderOutput(dataTable, element);\n",
              "          const docLink = document.createElement('div');\n",
              "          docLink.innerHTML = docLinkHtml;\n",
              "          element.appendChild(docLink);\n",
              "        }\n",
              "      </script>\n",
              "    </div>\n",
              "  </div>\n",
              "  "
            ]
          },
          "metadata": {},
          "execution_count": 187
        }
      ]
    },
    {
      "cell_type": "code",
      "source": [
        "shap.summary_plot(shap_values, features=test_sub_X.to_numpy().astype(np.float32), feature_names=list(test_sub_X.columns))"
      ],
      "metadata": {
        "colab": {
          "base_uri": "https://localhost:8080/",
          "height": 585
        },
        "id": "7fD5ObCJdXNt",
        "outputId": "1346660d-5521-4c1f-eee5-124b2d8ea4b6"
      },
      "execution_count": null,
      "outputs": [
        {
          "output_type": "display_data",
          "data": {
            "text/plain": [
              "<Figure size 576x684 with 2 Axes>"
            ],
            "image/png": "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\n"
          },
          "metadata": {
            "needs_background": "light"
          }
        }
      ]
    },
    {
      "cell_type": "code",
      "source": [
        "shap.summary_plot(shap_values, features=test_sub_X.to_numpy().astype(np.float32), feature_names=list(test_sub_X.columns), plot_type='bar')"
      ],
      "metadata": {
        "colab": {
          "base_uri": "https://localhost:8080/",
          "height": 581
        },
        "id": "sVQdlKBIdgU8",
        "outputId": "ee8f40c2-75a2-44b0-9c50-18ea8dfc9936"
      },
      "execution_count": null,
      "outputs": [
        {
          "output_type": "display_data",
          "data": {
            "text/plain": [
              "<Figure size 576x684 with 1 Axes>"
            ],
            "image/png": "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\n"
          },
          "metadata": {
            "needs_background": "light"
          }
        }
      ]
    },
    {
      "cell_type": "markdown",
      "source": [
        "What we can see here is that 'AgeCategory', 'BMI', 'PhysicalHealth' are the most important features before a sudden drop with the features. This goes to show that these features mostly expedite the process for getting the most accurate assumptions for a patient having/not having a Heart Disease. "
      ],
      "metadata": {
        "id": "wP7OuPOuwzFE"
      }
    },
    {
      "cell_type": "markdown",
      "source": [
        "Let's try to only use those features and check how accurate the model is then!"
      ],
      "metadata": {
        "id": "6hJ5LQ4tx7BI"
      }
    },
    {
      "cell_type": "code",
      "source": [
        "train_X = train_X[['PhysicalHealth', 'BMI', 'AgeCategory']]\n",
        "test_X = test_X[['PhysicalHealth', 'BMI', 'AgeCategory']]\n",
        "\n",
        "training_dataset = TrainingSet(torch.FloatTensor(train_X.to_numpy()), \n",
        "                       torch.FloatTensor(train_y.to_numpy()))\n",
        "\n",
        "testing_dataset = TestingSet(torch.FloatTensor(test_X.to_numpy()))\n",
        "\n",
        "train_loader = DataLoader(dataset=training_dataset, batch_size=batch_size, shuffle=True)\n",
        "test_loader = DataLoader(dataset=testing_dataset, batch_size=1, shuffle=True)"
      ],
      "metadata": {
        "id": "SJtvRKcMzzsT"
      },
      "execution_count": null,
      "outputs": []
    },
    {
      "cell_type": "code",
      "source": [
        "class Model(nn.Module):\n",
        "    def __init__(self):\n",
        "        super(Model, self).__init__()\n",
        "        self.layer_1 = nn.Linear(3, 64) \n",
        "        self.layer_2 = nn.Linear(64, 64)\n",
        "        self.layer_out = nn.Linear(64, 1) \n",
        "        \n",
        "        self.relu = nn.ReLU()\n",
        "        self.dropout = nn.Dropout(p=0.1)\n",
        "        self.batchnorm_1 = nn.BatchNorm1d(64)\n",
        "        self.batchnorm_2 = nn.BatchNorm1d(64)\n",
        "        \n",
        "    def forward(self, inputs):\n",
        "        x = self.relu(self.layer_1(inputs))\n",
        "        x = self.batchnorm_1(x)\n",
        "        x = self.relu(self.layer_2(x))\n",
        "        x = self.batchnorm_2(x)\n",
        "        x = self.dropout(x)\n",
        "        x = self.layer_out(x)\n",
        "        \n",
        "        return x\n",
        "\n",
        "device = torch.device(\"cuda:0\" if torch.cuda.is_available() else \"cpu\")\n",
        "\n",
        "model = Model()\n",
        "model.to(device)\n",
        "print(model)\n",
        "criterion = nn.BCEWithLogitsLoss()\n",
        "optimizer = torch.optim.Adam(model.parameters(),lr = learning_rate)"
      ],
      "metadata": {
        "colab": {
          "base_uri": "https://localhost:8080/"
        },
        "id": "t4Juu8pc0Jk4",
        "outputId": "e19e7a2d-5b03-4fe9-cfe9-048e51ccd452"
      },
      "execution_count": null,
      "outputs": [
        {
          "output_type": "stream",
          "name": "stdout",
          "text": [
            "Model(\n",
            "  (layer_1): Linear(in_features=3, out_features=64, bias=True)\n",
            "  (layer_2): Linear(in_features=64, out_features=64, bias=True)\n",
            "  (layer_out): Linear(in_features=64, out_features=1, bias=True)\n",
            "  (relu): ReLU()\n",
            "  (dropout): Dropout(p=0.1, inplace=False)\n",
            "  (batchnorm_1): BatchNorm1d(64, eps=1e-05, momentum=0.1, affine=True, track_running_stats=True)\n",
            "  (batchnorm_2): BatchNorm1d(64, eps=1e-05, momentum=0.1, affine=True, track_running_stats=True)\n",
            ")\n"
          ]
        }
      ]
    },
    {
      "cell_type": "code",
      "source": [
        "model.train()\n",
        "for epoch in range(epochs):\n",
        "  epoch_loss = 0\n",
        "  epoch_acc = 0\n",
        "  for X_batch, y_batch in train_loader:\n",
        "    X_batch, y_batch = X_batch.to(device), y_batch.to(device)\n",
        "    optimizer.zero_grad()\n",
        "    \n",
        "    y_pred = model(X_batch)\n",
        "    \n",
        "    loss = criterion(y_pred, y_batch.unsqueeze(1))\n",
        "    acc = binary_acc(y_pred, y_batch.unsqueeze(1))\n",
        "    \n",
        "    loss.backward()\n",
        "    optimizer.step()\n",
        "    \n",
        "    epoch_loss += loss.item()\n",
        "    epoch_acc += acc.item()\n",
        "\n",
        "  print(f'Epoch {epoch+0:03}: | Loss: {epoch_loss/len(train_loader):.5f} | Acc: {epoch_acc/len(train_loader):.3f}')"
      ],
      "metadata": {
        "colab": {
          "base_uri": "https://localhost:8080/"
        },
        "id": "W18NMQ8Vzz77",
        "outputId": "eaf00e07-d871-4b9a-81c6-c864053958e7"
      },
      "execution_count": null,
      "outputs": [
        {
          "output_type": "stream",
          "name": "stdout",
          "text": [
            "Epoch 000: | Loss: 0.28634 | Acc: 90.253\n",
            "Epoch 001: | Loss: 0.25405 | Acc: 91.424\n",
            "Epoch 002: | Loss: 0.25263 | Acc: 91.441\n",
            "Epoch 003: | Loss: 0.25213 | Acc: 91.448\n",
            "Epoch 004: | Loss: 0.25152 | Acc: 91.456\n",
            "Epoch 005: | Loss: 0.25153 | Acc: 91.471\n",
            "Epoch 006: | Loss: 0.25104 | Acc: 91.478\n",
            "Epoch 007: | Loss: 0.25103 | Acc: 91.474\n",
            "Epoch 008: | Loss: 0.25093 | Acc: 91.469\n",
            "Epoch 009: | Loss: 0.25083 | Acc: 91.469\n",
            "Epoch 010: | Loss: 0.25096 | Acc: 91.475\n",
            "Epoch 011: | Loss: 0.25066 | Acc: 91.476\n",
            "Epoch 012: | Loss: 0.25060 | Acc: 91.467\n",
            "Epoch 013: | Loss: 0.25076 | Acc: 91.475\n",
            "Epoch 014: | Loss: 0.25064 | Acc: 91.465\n",
            "Epoch 015: | Loss: 0.25074 | Acc: 91.460\n",
            "Epoch 016: | Loss: 0.25060 | Acc: 91.464\n",
            "Epoch 017: | Loss: 0.25067 | Acc: 91.477\n",
            "Epoch 018: | Loss: 0.25056 | Acc: 91.461\n",
            "Epoch 019: | Loss: 0.25043 | Acc: 91.460\n",
            "Epoch 020: | Loss: 0.25030 | Acc: 91.468\n",
            "Epoch 021: | Loss: 0.25055 | Acc: 91.462\n",
            "Epoch 022: | Loss: 0.25053 | Acc: 91.480\n",
            "Epoch 023: | Loss: 0.25058 | Acc: 91.468\n",
            "Epoch 024: | Loss: 0.25033 | Acc: 91.468\n",
            "Epoch 025: | Loss: 0.25051 | Acc: 91.471\n",
            "Epoch 026: | Loss: 0.25044 | Acc: 91.451\n",
            "Epoch 027: | Loss: 0.25046 | Acc: 91.458\n",
            "Epoch 028: | Loss: 0.25055 | Acc: 91.454\n",
            "Epoch 029: | Loss: 0.25049 | Acc: 91.474\n",
            "Epoch 030: | Loss: 0.25034 | Acc: 91.477\n",
            "Epoch 031: | Loss: 0.25031 | Acc: 91.474\n",
            "Epoch 032: | Loss: 0.25042 | Acc: 91.471\n",
            "Epoch 033: | Loss: 0.25029 | Acc: 91.473\n",
            "Epoch 034: | Loss: 0.25036 | Acc: 91.467\n",
            "Epoch 035: | Loss: 0.25057 | Acc: 91.469\n",
            "Epoch 036: | Loss: 0.25047 | Acc: 91.466\n",
            "Epoch 037: | Loss: 0.25053 | Acc: 91.470\n",
            "Epoch 038: | Loss: 0.25048 | Acc: 91.480\n",
            "Epoch 039: | Loss: 0.25046 | Acc: 91.466\n",
            "Epoch 040: | Loss: 0.25036 | Acc: 91.480\n",
            "Epoch 041: | Loss: 0.25044 | Acc: 91.471\n",
            "Epoch 042: | Loss: 0.25030 | Acc: 91.477\n",
            "Epoch 043: | Loss: 0.25033 | Acc: 91.472\n",
            "Epoch 044: | Loss: 0.25056 | Acc: 91.477\n",
            "Epoch 045: | Loss: 0.25028 | Acc: 91.466\n",
            "Epoch 046: | Loss: 0.25029 | Acc: 91.469\n",
            "Epoch 047: | Loss: 0.25045 | Acc: 91.474\n",
            "Epoch 048: | Loss: 0.25033 | Acc: 91.465\n",
            "Epoch 049: | Loss: 0.25036 | Acc: 91.468\n"
          ]
        }
      ]
    },
    {
      "cell_type": "code",
      "source": [
        "test_loader = DataLoader(dataset=training_dataset, batch_size=1)\n",
        "\n",
        "y_pred_train_list = []\n",
        "model.eval()\n",
        "with torch.no_grad():\n",
        "    for X_batch, y_batch in test_loader:\n",
        "        X_batch = X_batch.to(device)\n",
        "        y_train_pred = model(X_batch)\n",
        "        y_train_pred = torch.sigmoid(y_train_pred)\n",
        "        y_pred_tag = torch.round(y_train_pred)\n",
        "        y_pred_train_list.append(y_pred_tag.cpu().numpy())\n",
        "\n",
        "y_pred_train_list = [a.squeeze().tolist() for a in y_pred_train_list]"
      ],
      "metadata": {
        "id": "ZxgK-Fkz0E2T"
      },
      "execution_count": null,
      "outputs": []
    },
    {
      "cell_type": "code",
      "source": [
        "model_train_precision, model_train_recall, model_train_f1, _ = class_metrics(train_y.to_numpy(), y_pred_train_list)"
      ],
      "metadata": {
        "id": "e5i_OMz60fK6"
      },
      "execution_count": null,
      "outputs": []
    },
    {
      "cell_type": "code",
      "source": [
        "test_loader = DataLoader(dataset=testing_dataset, batch_size=1)\n",
        "\n",
        "y_pred_test_list = []\n",
        "model.eval()\n",
        "with torch.no_grad():\n",
        "    for X_batch in test_loader:\n",
        "        X_batch = X_batch.to(device)\n",
        "        y_test_pred = model(X_batch)\n",
        "        y_test_pred = torch.sigmoid(y_test_pred)\n",
        "        y_pred_tag = torch.round(y_test_pred)\n",
        "        y_pred_test_list.append(y_pred_tag.cpu().numpy())\n",
        "\n",
        "y_pred_test_list = [a.squeeze().tolist() for a in y_pred_test_list]"
      ],
      "metadata": {
        "id": "uoaJnSiI00hQ"
      },
      "execution_count": null,
      "outputs": []
    },
    {
      "cell_type": "code",
      "source": [
        "model_test_precision, model_test_recall, model_test_f1, _ = class_metrics(test_y.to_numpy(), y_pred_test_list)"
      ],
      "metadata": {
        "id": "O0iu3X1M016d"
      },
      "execution_count": null,
      "outputs": []
    },
    {
      "cell_type": "code",
      "source": [
        "print(\"For predicting: 0\")\n",
        "print(f\"Train Precision: {model_train_precision[0]}\")\n",
        "print(f\"Train Recall:    {model_train_recall[0]}\")\n",
        "print(f\"Train F1 Score:  {model_train_f1[0]}\")\n",
        "print(f\"Test Precision:  {model_test_precision[0]}\")\n",
        "print(f\"Test Recall:     {model_test_recall[0]}\")\n",
        "print(f\"Test F1 Score:   {model_test_f1[0]}\")"
      ],
      "metadata": {
        "colab": {
          "base_uri": "https://localhost:8080/"
        },
        "id": "uoMY8_hD04DY",
        "outputId": "137f2615-0cf7-4ab8-b5d0-c1c8a0f744fc"
      },
      "execution_count": null,
      "outputs": [
        {
          "output_type": "stream",
          "name": "stdout",
          "text": [
            "For predicting: 0\n",
            "Train Precision: 0.9144027092440759\n",
            "Train Recall:    1.0\n",
            "Train F1 Score:  0.9552877300357963\n",
            "Test Precision:  0.9144082027035901\n",
            "Test Recall:     1.0\n",
            "Test F1 Score:   0.9552907278732224\n"
          ]
        }
      ]
    },
    {
      "cell_type": "code",
      "source": [
        "print(\"For predicting: 1\")\n",
        "print(f\"Train Precision: {model_train_precision[1]}\")\n",
        "print(f\"Train Recall:    {model_train_recall[1]}\")\n",
        "print(f\"Train F1 Score:  {model_train_f1[1]}\")\n",
        "print(f\"Test Precision:  {model_test_precision[1]}\")\n",
        "print(f\"Test Recall:     {model_test_recall[1]}\")\n",
        "print(f\"Test F1 Score:   {model_test_f1[1]}\")"
      ],
      "metadata": {
        "colab": {
          "base_uri": "https://localhost:8080/"
        },
        "id": "yzFux5vu07GE",
        "outputId": "ac908e1d-c6a1-4581-8b28-9fb37795684c"
      },
      "execution_count": null,
      "outputs": [
        {
          "output_type": "stream",
          "name": "stdout",
          "text": [
            "For predicting: 1\n",
            "Train Precision: 0.0\n",
            "Train Recall:    0.0\n",
            "Train F1 Score:  0.0\n",
            "Test Precision:  0.0\n",
            "Test Recall:     0.0\n",
            "Test F1 Score:   0.0\n"
          ]
        }
      ]
    },
    {
      "cell_type": "markdown",
      "source": [
        "This clearly shows that using the top three features made the accuracy very similar to what was earlier. However, the accuracy for predicting 1 was skewed. However, this kind of analysis is extremely important for us in order to find out what features make the model better/ or worst like in our case."
      ],
      "metadata": {
        "id": "bDHokkz_2Gwt"
      }
    }
  ],
  "metadata": {
    "kernelspec": {
      "name": "python3",
      "language": "python",
      "display_name": "Python 3 (ipykernel)"
    },
    "language_info": {
      "codemirror_mode": {
        "name": "ipython",
        "version": 3
      },
      "file_extension": ".py",
      "mimetype": "text/x-python",
      "name": "python",
      "nbconvert_exporter": "python",
      "pygments_lexer": "ipython3",
      "version": "3.9.13"
    },
    "colab": {
      "name": "model_training.ipynb",
      "provenance": []
=======
 "cells": [
  {
   "cell_type": "markdown",
   "source": [
    "# Model Training and Testing\n",
    "\n",
    "In this file, we train each of our models on the exact same training dataset, and test them\n",
    "on the same testing dataset. This allows us to judge their performance, strengths, and\n",
    "weaknesses using a comparable measure. We hope that this will, in conjunction with our\n",
    "hypotheses, help us understand the merits of each model, and be more informed in future\n",
    "instances of model selection."
   ],
   "metadata": {
    "collapsed": false,
    "pycharm": {
     "name": "#%% md\n"
    }
   }
  },
  {
   "cell_type": "code",
   "execution_count": 1,
   "outputs": [
    {
     "name": "stdout",
     "output_type": "stream",
     "text": [
      "HI\n"
     ]
    }
   ],
   "source": [
    "print(\"HI\")"
   ],
   "metadata": {
    "collapsed": false,
    "pycharm": {
     "name": "#%%\n"
    }
   }
  },
  {
   "cell_type": "markdown",
   "source": [
    "## Imports"
   ],
   "metadata": {
    "collapsed": false,
    "pycharm": {
     "name": "#%% md\n"
    }
   }
  },
  {
   "cell_type": "code",
   "execution_count": 59,
   "outputs": [],
   "source": [
    "import pandas as pd\n",
    "import numpy as np\n",
    "import sklearn as sk\n",
    "from sklearn.model_selection import train_test_split\n",
    "from sklearn.linear_model import LogisticRegression\n",
    "from sklearn.preprocessing import StandardScaler\n",
    "from sklearn.pipeline import Pipeline\n",
    "from sklearn.preprocessing import OneHotEncoder\n",
    "from sklearn.metrics import precision_recall_fscore_support as class_metrics\n",
    "from sklearn.gaussian_process import GaussianProcessClassifier\n",
    "from sklearn.model_selection import GridSearchCV\n",
    "from sklearn.gaussian_process.kernels import RBF, WhiteKernel\n",
    "import matplotlib.pyplot as plt\n",
    "import seaborn as sns\n",
    "import regex as re\n",
    "import pickle"
   ],
   "metadata": {
    "collapsed": false,
    "pycharm": {
     "name": "#%%\n"
    }
   }
  },
  {
   "cell_type": "markdown",
   "source": [
    "## Create the Dataset\n",
    "\n",
    "First, we separate out the testing and training dataset for each of our models to train on.\n",
    "In this case, we decided against k-cross validation due to the sheer size of our dataset.\n",
    "The accuracy of our models should be representative of their performance on future data as\n",
    "well, since there is such a large quantity of training data.\n",
    "\n",
    "Our dataset does have a few issues: several of the variables have classes which occur very infrequently.\n",
    "This may bias our results, since we don't know much about how that variable affects heart disease relative to the other\n",
    "classes. Therefore, we may need to stratify our data to get more accurate results.\n",
    "Additionally, the columns **GenHealth** and **Stroke** have the potential to bias our results.\n",
    "These factors are much more likely to occur due to heart disease, but may not be a good predictor\n",
    "of its future fruition. Therefore, to deal with each of these issues, we will make separate versions of our dataset for\n",
    "each of these cases: **Normal**, **Stratified**, and **No Health Indicators**."
   ],
   "metadata": {
    "collapsed": false,
    "pycharm": {
     "name": "#%% md\n"
    }
   }
  },
  {
   "cell_type": "code",
   "execution_count": 3,
   "outputs": [
    {
     "name": "stdout",
     "output_type": "stream",
     "text": [
      "Rows:     319795\n",
      "Columns:  35\n"
     ]
    }
   ],
   "source": [
    "# Import the dataset\n",
    "data = pd.read_csv('../data/raw_data.csv')\n",
    "\n",
    "# Create a lists of each type of feature\n",
    "nominal_features = ['Smoking', 'AlcoholDrinking', 'Stroke', 'DiffWalking', 'Sex', 'Race', 'Diabetic',\n",
    "                  'PhysicalActivity', 'Asthma', 'KidneyDisease', 'SkinCancer']\n",
    "ordinal_features = ['AgeCategory', 'GenHealth']\n",
    "continuous_features = ['BMI', 'PhysicalHealth', 'MentalHealth', 'SleepTime']\n",
    "\n",
    "# region Convert the nominal features into one-hot encodings\n",
    "\n",
    "# Create a One-Hot Encoder\n",
    "encoder = OneHotEncoder()\n",
    "\n",
    "# For each nominal feature...\n",
    "for feature in nominal_features:\n",
    "\n",
    "    # Get an encoded version\n",
    "    encoded_feature = pd.DataFrame(encoder.fit_transform(data[[feature]]).toarray(),\n",
    "                                   columns=[f'{feature}_{f_class}' for f_class in data[feature].unique()])\n",
    "\n",
    "    # Remove the old feature from the data\n",
    "    data = data.drop(feature, axis=1)\n",
    "\n",
    "    # Add the encoded feature to the data\n",
    "    data = data.join(encoded_feature)\n",
    "\n",
    "# endregion Convert the nominal features into one-hot encodings\n",
    "\n",
    "# region Convert the ordinal features into labels\n",
    "\n",
    "# For each nominal feature...\n",
    "for feature in ordinal_features:\n",
    "\n",
    "    # Replace the old feature with an encoded feature\n",
    "    data[feature] = data[feature].astype('category').cat.codes\n",
    "\n",
    "# endregion Convert the ordinal features into labels\n",
    "\n",
    "# Convert the output column to be numerical\n",
    "data['HeartDisease'] = data['HeartDisease'].astype('category').cat.codes\n",
    "\n",
    "# Get the X and y of the dataset\n",
    "data_X = data.iloc[:,1:]\n",
    "data_y = data.loc[:,'HeartDisease']\n",
    "\n",
    "# Display the head of the data\n",
    "data.head()\n",
    "print(\"Rows:    \", data.shape[0])\n",
    "print(\"Columns: \", data.shape[1])"
   ],
   "metadata": {
    "collapsed": false,
    "pycharm": {
     "name": "#%%\n"
    }
   }
  },
  {
   "cell_type": "code",
   "execution_count": 4,
   "outputs": [],
   "source": [
    "# Get the Normal test-train split\n",
    "normal_train_X, normal_test_X, normal_train_y, normal_test_y = train_test_split(data_X, data_y, train_size=2/3,\n",
    "                                                                                random_state=42)\n",
    "\n",
    "# Get the Stratified test-train split\n",
    "stratified_train_X, stratified_test_X, stratified_train_y, stratified_test_y = train_test_split(data_X, data_y,\n",
    "                                                                                                train_size=2/3,\n",
    "                                                                                                stratify=data_y,\n",
    "                                                                                                random_state=42)\n",
    "# Get the No Health test-train split\n",
    "dropped_features = [feature for feature in data.columns if ('GenHealth' in feature or 'Stroke' in feature) and feature in data_X.columns]\n",
    "nohealth_train_X, nohealth_test_X, nohealth_train_y, nohealth_test_y = train_test_split(data_X.drop(dropped_features,\n",
    "                                                                                                    axis=1),\n",
    "                                                                                        data_y, train_size=2/3,\n",
    "                                                                                        random_state=42)"
   ],
   "metadata": {
    "collapsed": false,
    "pycharm": {
     "name": "#%%\n"
    }
   }
  },
  {
   "cell_type": "markdown",
   "source": [
    "## Dataset Tuning\n",
    "\n",
    "Now that we know have our datasets, we need to find which we want to use. To do that, we can introduce a simple model\n",
    "which we will use as a measure. By comparing the results of the model trained on each of the different datasets, we\n",
    "can get a sense of how the changes impact performance, and potentially help us intuit whether any bias is introduced by\n",
    "our data. In specific, we are looking to see if the dropped data columns or the stratification make the dataset perform\n",
    "better or worse.\n",
    "\n",
    "The model we will be using for this is **Logistic Regression**, since this model is very simple and fast to train."
   ],
   "metadata": {
    "collapsed": false,
    "pycharm": {
     "name": "#%% md\n"
    }
   }
  },
  {
   "cell_type": "code",
   "execution_count": 5,
   "outputs": [
    {
     "name": "stdout",
     "output_type": "stream",
     "text": [
      "Normal Dataset LR:\n",
      "Precision: 0.5112219451371571\n",
      "Recall:    0.08886962176221957\n",
      "F1 Score:  0.15141722832610102\n",
      "\n",
      "Stratified Dataset LR:\n",
      "Precision: 0.5166767738023045\n",
      "Recall:    0.0933800964489259\n",
      "F1 Score:  0.15817321080478977\n",
      "\n",
      "No Health Dataset LR:\n",
      "Precision: 0.4827018121911038\n",
      "Recall:    0.06350926628373252\n",
      "F1 Score:  0.11224978450340006\n"
     ]
    }
   ],
   "source": [
    "# Create a standard scalar and one-hot-encoding pipeline for each dataset\n",
    "normal_pipe = Pipeline([('scalar', StandardScaler()), ('lr', LogisticRegression())])\n",
    "stratified_pipe = Pipeline([('scalar', StandardScaler()), ('lr', LogisticRegression())])\n",
    "nohealth_pipe = Pipeline([('scalar', StandardScaler()), ('lr', LogisticRegression())])\n",
    "\n",
    "# Train each logistic regression on its dataset\n",
    "normal_pipe.fit(normal_train_X, normal_train_y)\n",
    "stratified_pipe.fit(stratified_train_X, stratified_train_y)\n",
    "nohealth_pipe.fit(nohealth_train_X, nohealth_train_y)\n",
    "\n",
    "# Make predictions with each logistic regression\n",
    "normal_prediction = normal_pipe.predict(normal_test_X)\n",
    "stratified_prediction = stratified_pipe.predict(stratified_test_X)\n",
    "nohealth_prediction = nohealth_pipe.predict(nohealth_test_X)\n",
    "\n",
    "# Find the score of each regression\n",
    "normal_precision, normal_recall, normal_f, _ = class_metrics(normal_test_y, normal_prediction)\n",
    "stratified_precision, stratified_recall, stratified_f, _ = class_metrics(stratified_test_y, stratified_prediction)\n",
    "nohealth_precision, nohealth_recall, nohealth_f, _ = class_metrics(nohealth_test_y, nohealth_prediction)\n",
    "\n",
    "# Display the score of each regression\n",
    "print(\"Normal Dataset LR:\")\n",
    "print(f\"Precision: {normal_precision[1]}\")\n",
    "print(f\"Recall:    {normal_recall[1]}\")\n",
    "print(f\"F1 Score:  {normal_f[1]}\")\n",
    "print()\n",
    "print(\"Stratified Dataset LR:\")\n",
    "print(f\"Precision: {stratified_precision[1]}\")\n",
    "print(f\"Recall:    {stratified_recall[1]}\")\n",
    "print(f\"F1 Score:  {stratified_f[1]}\")\n",
    "print()\n",
    "print(\"No Health Dataset LR:\")\n",
    "print(f\"Precision: {nohealth_precision[1]}\")\n",
    "print(f\"Recall:    {nohealth_recall[1]}\")\n",
    "print(f\"F1 Score:  {nohealth_f[1]}\")"
   ],
   "metadata": {
    "collapsed": false,
    "pycharm": {
     "name": "#%%\n"
    }
   }
  },
  {
   "cell_type": "markdown",
   "source": [
    "As we can see, the stratified dataset performed marginally better than the normal dataset, whereas the No Health\n",
    "indicators dataset performed moderately worse. If were really trying to predict heart disease, this would indicate to\n",
    "us that using these columns may be unhelpful for our predictions. However, since that is not the case and since we have\n",
    "the data, we are going to use it anyways, and keep with the stratified dataset.\n",
    "\n",
    "However, some of our models may need a smaller subset of the data, such as the Gaussian Process Classifier. This is\n",
    "because they have high memory demands which scale with the data.\n",
    "\n",
    "Below, let's do two things: Relabel the stratified dataset we'll be using to be more simple, and create a subset of that\n",
    "dataset for models which need less data"
   ],
   "metadata": {
    "collapsed": false,
    "pycharm": {
     "name": "#%% md\n"
    }
   }
  },
  {
   "cell_type": "code",
   "execution_count": 6,
   "outputs": [],
   "source": [
    "# Rename the stratified dataset\n",
    "train_X, test_X, train_y, test_y = stratified_train_X, stratified_test_X, stratified_train_y, stratified_test_y\n",
    "\n",
    "# Get a smaller subset of the dataset\n",
    "data_subset = data.sample(5000, random_state=42)\n",
    "data_sub_X = data_subset.iloc[:,1:]\n",
    "data_sub_y = data_subset.loc[:,'HeartDisease']\n",
    "\n",
    "# Get the Stratified test-train split\n",
    "train_sub_X, test_sub_X, train_sub_y, test_sub_y = train_test_split(data_sub_X, data_sub_y, train_size=2/3,\n",
    "                                                                    stratify=data_sub_y, random_state=42)"
   ],
   "metadata": {
    "collapsed": false,
    "pycharm": {
     "name": "#%%\n"
    }
   }
  },
  {
   "cell_type": "markdown",
   "source": [
    "# Model Training\n",
    "\n",
    "Now, we need to train each of our models on the stratified data. Since our training dataset is so large (around\n",
    "200,000 samples), we do not need to cross validate our results for each model - they should be representative of true\n",
    "performance relative to one another.\n",
    "\n",
    "Let's start by defining some methods that makes sure that each of our models is trained the same general way."
   ],
   "metadata": {
    "collapsed": false,
    "pycharm": {
     "name": "#%% md\n"
    }
   }
  },
  {
   "cell_type": "code",
   "execution_count": 62,
   "outputs": [],
   "source": [
    "def train_model(model, parameter_dict, dataset_train_x, dataset_train_y):\n",
    "    \"\"\"This function is used to the find the best model using Cross Validating grid search.\n",
    "    It also applies a standard scaling pipeline to the data.\n",
    "\n",
    "    :param model: An SK Learn model to train\n",
    "    :param parameter_dict: A dictionary of parameters to optimize using grid search. Keys are non-pipe parameters.\n",
    "    :param dataset_train_x: The X values of the training dataset\n",
    "    :param dataset_train_y: The y values of the training dataset\n",
    "    :return best_model: The best model found by the grid search, retrained on all of the data\n",
    "    :return search: The grid search object\n",
    "    \"\"\"\n",
    "\n",
    "    # Create the pipeline\n",
    "    pipe = Pipeline([('scalar', StandardScaler()), ('model', model)])\n",
    "\n",
    "    # Find the parameter grid\n",
    "    parameter_grid = {'model__' + param: parameter_dict[param] for param in parameter_dict}\n",
    "\n",
    "    # Get the GridSearch object\n",
    "    search = GridSearchCV(pipe, parameter_grid, cv=3, n_jobs=-1, verbose=100, scoring='f1')\n",
    "\n",
    "    # Search for the best model\n",
    "    search.fit(dataset_train_x, dataset_train_y)\n",
    "\n",
    "    # Train the best model found\n",
    "    best_model = Pipeline([('scalar', StandardScaler()), ('model', model)]).set_params(**search.best_params_)\n",
    "    best_model.fit(dataset_train_x, dataset_train_y)\n",
    "\n",
    "    # Return the grid search object\n",
    "    return best_model, search\n",
    "\n",
    "\n",
    "def display_results(model_name, best_model, grid_search, dataset_train_x, dataset_train_y,\n",
    "                    dataset_test_x, dataset_test_y):\n",
    "    \"\"\"This function displays the results of the grid search both via tables and graphically.\n",
    "\n",
    "    :param model_name: The name of the SK Learn model trained\n",
    "    :param best_model: The best model found by the grid search\n",
    "    :param grid_search: The grid search object which optimized the model\n",
    "    :param dataset_train_x: The X values of the training dataset\n",
    "    :param dataset_train_y: The y values of the training dataset\n",
    "    :param dataset_test_x: The X values of the training dataset\n",
    "    :param dataset_test_y: The y values of the training dataset\n",
    "    \"\"\"\n",
    "\n",
    "    # Add spacing\n",
    "    print(\"\\n\")\n",
    "\n",
    "    # Start by displaying the trend of the data over each of the parameters\n",
    "    for param in grid_search.best_params_:\n",
    "\n",
    "        # This dict stores the mean performance for each parameter\n",
    "        param_dict = {}\n",
    "\n",
    "        # For the parameter value for each grid search iteration\n",
    "        for p_ind, p in enumerate(grid_search.cv_results_[f'param_{param}']):\n",
    "\n",
    "            # Get P's name\n",
    "            pname = str(p)\n",
    "\n",
    "            # If the parameter is not in the param dictionary, add it\n",
    "            if pname not in param_dict: param_dict[pname] = (1, grid_search.cv_results_['mean_test_score'][p_ind])\n",
    "\n",
    "            # Otherwise, summate them\n",
    "            else: param_dict[pname] = (param_dict[pname][0] + 1,\n",
    "                                   param_dict[pname][1] + grid_search.cv_results_['mean_test_score'][p_ind])\n",
    "\n",
    "        # Finally, find the average value for each parameter value across all grid search iteration\n",
    "        for p in param_dict:\n",
    "            pname = str(p)\n",
    "            param_dict[pname] = param_dict[pname][1] / param_dict[pname][0]\n",
    "\n",
    "        # If the data is numeric, draw a lineplot\n",
    "        if type(list(param_dict.keys())[0]) is not str:\n",
    "            xtick_enum = range(len(list(param_dict.keys())))\n",
    "            ax = sns.lineplot(x=xtick_enum, y=param_dict.values())\n",
    "            ax.set_xticks(xtick_enum, list(param_dict.keys()))\n",
    "\n",
    "        # otherwise, draw a barplot\n",
    "        else: ax = sns.barplot(x=list(param_dict.keys()), y=list(param_dict.values()))\n",
    "\n",
    "        # Since we only care about the differences between models, zoom in the plot to see the differences\n",
    "        max_val = max(param_dict.values())\n",
    "        min_val = min(param_dict.values())\n",
    "        range_val = max_val - min_val\n",
    "        plt.ylim(min_val - range_val*0.1, max_val + range_val*0.1)\n",
    "\n",
    "        # Add plot aesthetics\n",
    "        ax.set_xlabel(param[7:].capitalize() + ' Value')\n",
    "        ax.set_ylabel('F1 Score')\n",
    "        plt.title(f'F1 Score over {param[7:].capitalize()} Value')\n",
    "        plt.show()\n",
    "\n",
    "    # Calculate the performance of the best model\n",
    "    model_train_pred = best_model.predict(dataset_train_x)\n",
    "    model_test_pred = best_model.predict(dataset_test_x)\n",
    "\n",
    "    # Calculate the performance metrics of the best model\n",
    "    model_train_precision, model_train_recall, model_train_f1, _ = class_metrics(dataset_train_y, model_train_pred,\n",
    "                                                                                 zero_division=0)\n",
    "    model_test_precision, model_test_recall, model_test_f1, _ = class_metrics(dataset_test_y, model_test_pred,\n",
    "                                                                              zero_division=0)\n",
    "\n",
    "    # Display which parameters were best\n",
    "    print(\"The best parameters were:\")\n",
    "    for param in grid_search.best_params_:\n",
    "        print(re.search(r'model__(.*)', param).group(1) + f\": {grid_search.best_params_[param]}\")\n",
    "    print(\"\\n\")\n",
    "\n",
    "    # Display the scores of the best model\n",
    "    print(f\"{model_name.title()} Prediction Metrics:\")\n",
    "    print(f\"Train Precision: {model_train_precision[1]}\")\n",
    "    print(f\"Train Recall:    {model_train_recall[1]}\")\n",
    "    print(f\"Train F1 Score:  {model_train_f1[1]}\")\n",
    "    print(f\"Test Precision:  {model_test_precision[1]}\")\n",
    "    print(f\"Test Recall:     {model_test_recall[1]}\")\n",
    "    print(f\"Test F1 Score:   {model_test_f1[1]}\")\n",
    "\n",
    "\n",
    "def save_model(model_name, grid_search):\n",
    "    \"\"\"Save the best model's parameters.\n",
    "\n",
    "    :param model_name: The name of the SK Learn model trained\n",
    "    :param grid_search: The grid search object which optimized the model\n",
    "    \"\"\"\n",
    "\n",
    "    pickle.dump(grid_search.best_params_, open(f'../models/{model_name}.pkl', 'wb'))"
   ],
   "metadata": {
    "collapsed": false,
    "pycharm": {
     "name": "#%%\n"
    }
   }
  },
  {
   "cell_type": "markdown",
   "source": [
    "## Baseline Model\n",
    "\n",
    "A good place to start is to make a baseline. The most simple baseline model we can use is one that always guesses that there is heart disease. Let's see how this performs, in order to compare it to our other models."
   ],
   "metadata": {
    "collapsed": false,
    "pycharm": {
     "name": "#%% md\n"
    }
   }
  },
  {
   "cell_type": "code",
   "execution_count": 57,
   "outputs": [
    {
     "name": "stdout",
     "output_type": "stream",
     "text": [
      "Baseline Model Prediction Metrics:\n",
      "Train Precision: 0.08559729075592412\n",
      "Train Recall:    1.0\n",
      "Train F1 Score:  0.15769621292315666\n",
      "Test Precision:  0.08559179729640991\n",
      "Test Recall:     1.0\n",
      "Test F1 Score:   0.15768689024653698\n"
     ]
    }
   ],
   "source": [
    "# Create a dataframe full of 'Yes' Heart Disease Predictions\n",
    "baseline_train_pred = pd.Series([1] * train_y.shape[0])\n",
    "baseline_test_pred = pd.Series([1] * test_y.shape[0])\n",
    "\n",
    "# Find the baseline classification metrics\n",
    "baseline_train_precision, baseline_train_recall, baseline_train_f, _ = class_metrics(train_y,\n",
    "                                                                                     baseline_train_pred,\n",
    "                                                                                     zero_division=0)\n",
    "baseline_test_precision, baseline_test_recall, baseline_test_f, _ = class_metrics(test_y,\n",
    "                                                                                  baseline_test_pred,\n",
    "                                                                                  zero_division=0)\n",
    "\n",
    "# Display the score of each regression\n",
    "print(\"Baseline Model Prediction Metrics:\")\n",
    "print(f\"Train Precision: {baseline_train_precision[1]}\")\n",
    "print(f\"Train Recall:    {baseline_train_recall[1]}\")\n",
    "print(f\"Train F1 Score:  {baseline_train_f[1]}\")\n",
    "print(f\"Test Precision:  {baseline_test_precision[1]}\")\n",
    "print(f\"Test Recall:     {baseline_test_recall[1]}\")\n",
    "print(f\"Test F1 Score:   {baseline_test_f[1]}\")\n"
   ],
   "metadata": {
    "collapsed": false,
    "pycharm": {
     "name": "#%%\n"
    }
   }
  },
  {
   "cell_type": "markdown",
   "source": [
    "As we can see, our model does pretty poorly overall. Although it does correctly label all occurrences of heart disease,\n",
    "it fails to label any of the negative cases. Our F Score to beat comes out to be **0.159**."
   ],
   "metadata": {
    "collapsed": false,
    "pycharm": {
     "name": "#%% md\n"
    }
   }
  },
  {
   "cell_type": "markdown",
   "source": [
    "## Gaussian Process Classification\n",
    "*By Will Sumerfield*"
   ],
   "metadata": {
    "collapsed": false,
    "pycharm": {
     "name": "#%% md\n"
    }
   }
  },
  {
   "cell_type": "code",
   "execution_count": 12,
   "outputs": [
    {
     "name": "stdout",
     "output_type": "stream",
     "text": [
      "Fitting 3 folds for each of 2 candidates, totalling 6 fits\n"
     ]
    },
    {
     "name": "stderr",
     "output_type": "stream",
     "text": [
      "/Users/miguelmonares/.conda/envs/Group041-Sp22/lib/python3.9/site-packages/sklearn/gaussian_process/kernels.py:420: ConvergenceWarning: The optimal value found for dimension 0 of parameter k1__noise_level is close to the specified lower bound 1e-05. Decreasing the bound and calling fit again may find a better value.\n",
      "  warnings.warn(\n",
      "/Users/miguelmonares/.conda/envs/Group041-Sp22/lib/python3.9/site-packages/sklearn/gaussian_process/kernels.py:420: ConvergenceWarning: The optimal value found for dimension 0 of parameter k1__noise_level is close to the specified lower bound 1e-05. Decreasing the bound and calling fit again may find a better value.\n",
      "  warnings.warn(\n",
      "/Users/miguelmonares/.conda/envs/Group041-Sp22/lib/python3.9/site-packages/sklearn/gaussian_process/kernels.py:420: ConvergenceWarning: The optimal value found for dimension 0 of parameter k1__noise_level is close to the specified lower bound 1e-05. Decreasing the bound and calling fit again may find a better value.\n",
      "  warnings.warn(\n"
     ]
    },
    {
     "name": "stdout",
     "output_type": "stream",
     "text": [
      "[CV 2/3; 1/2] START model__kernel=RBF(length_scale=1)...........................\n",
      "[CV 2/3; 1/2] END model__kernel=RBF(length_scale=1);, score=0.019 total time=   1.3s\n",
      "[CV 2/3; 2/2] START model__kernel=WhiteKernel(noise_level=1) + RBF(length_scale=1)\n",
      "[CV 2/3; 2/2] END model__kernel=WhiteKernel(noise_level=1) + RBF(length_scale=1);, score=0.019 total time=   1.4s\n",
      "[CV 1/3; 2/2] START model__kernel=WhiteKernel(noise_level=1) + RBF(length_scale=1)\n",
      "[CV 1/3; 2/2] END model__kernel=WhiteKernel(noise_level=1) + RBF(length_scale=1);, score=0.000 total time=   1.5s\n",
      "[CV 1/3; 1/1] START model__kernel=RBF(length_scale=1)...........................\n",
      "[CV 1/3; 1/1] END model__kernel=RBF(length_scale=1);, score=0.000 total time=   0.5s\n",
      "[CV 3/3; 1/1] START model__kernel=RBF(length_scale=1)...........................\n",
      "[CV 3/3; 1/1] END model__kernel=RBF(length_scale=1);, score=0.000 total time=   0.5s\n",
      "[CV 2/3; 1/2] START model__kernel=RBF(length_scale=1)...........................\n",
      "[CV 2/3; 1/2] END model__kernel=RBF(length_scale=1);, score=0.037 total time= 3.0min\n",
      "[CV 3/3; 2/2] START model__kernel=WhiteKernel(noise_level=1) + RBF(length_scale=1)\n",
      "[CV 3/3; 2/2] END model__kernel=WhiteKernel(noise_level=1) + RBF(length_scale=1);, score=0.000 total time=   1.5s\n",
      "[CV 3/3; 1/2] START model__kernel=RBF(length_scale=1)...........................\n",
      "[CV 3/3; 1/2] END model__kernel=RBF(length_scale=1);, score=0.071 total time= 3.1min\n",
      "[CV 2/3; 1/1] START model__kernel=RBF(length_scale=1)...........................\n",
      "[CV 2/3; 1/1] END model__kernel=RBF(length_scale=1);, score=0.019 total time=   0.5s\n",
      "[CV 1/3; 2/2] START model__kernel=WhiteKernel(noise_level=1) + RBF(length_scale=1)\n",
      "[CV 1/3; 2/2] END model__kernel=WhiteKernel(noise_level=1) + RBF(length_scale=1);, score=0.019 total time= 3.1min\n",
      "[CV 3/3; 1/2] START model__kernel=RBF(length_scale=1)...........................\n",
      "[CV 3/3; 1/2] END model__kernel=RBF(length_scale=1);, score=0.000 total time=   1.4s\n",
      "[CV 3/3; 2/2] START model__kernel=WhiteKernel(noise_level=1) + RBF(length_scale=1)\n",
      "[CV 3/3; 2/2] END model__kernel=WhiteKernel(noise_level=1) + RBF(length_scale=1);, score=0.071 total time= 3.2min\n",
      "[CV 2/3; 2/2] START model__kernel=WhiteKernel(noise_level=1) + RBF(length_scale=1)\n",
      "[CV 2/3; 2/2] END model__kernel=WhiteKernel(noise_level=1) + RBF(length_scale=1);, score=0.037 total time= 3.3min\n",
      "\n",
      "\n"
     ]
    },
    {
     "name": "stderr",
     "output_type": "stream",
     "text": [
      "/var/folders/7k/zf4x4x050t11xxxm55d1vgjw0000gn/T/ipykernel_26172/4111281483.py:86: UserWarning: Attempting to set identical bottom == top == 0.0424434225057278 results in singular transformations; automatically expanding.\n",
      "  plt.ylim(min_val - range_val*0.1, max_val + range_val*0.1)\n"
     ]
    },
    {
     "data": {
      "text/plain": "<Figure size 432x288 with 1 Axes>",
      "image/png": "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\n"
     },
     "metadata": {},
     "output_type": "display_data"
    },
    {
     "name": "stdout",
     "output_type": "stream",
     "text": [
      "The best parameters were:\n",
      "kernel: RBF(length_scale=1)\n",
      "\n",
      "\n",
      "Gaussian Process Classifier Prediction Metrics:\n",
      "Train Precision: 0.6666666666666666\n",
      "Train Recall:    0.038338658146964855\n",
      "Train F1 Score:  0.07250755287009064\n",
      "Test Precision:  0.3333333333333333\n",
      "Test Recall:     0.019230769230769232\n",
      "Test F1 Score:   0.03636363636363637\n"
     ]
    }
   ],
   "source": [
    "# Create a list of potential parameters\n",
    "gpc_params = {'kernel': [RBF(), WhiteKernel() + RBF(), DotProduct(), DotProduct()*RBF(), DotProduct()*RBF()+WhiteKernel()]}\n",
    "\n",
    "# Train the model, and find the best model from the provided inputs\n",
    "best_model, grid_search = train_model(GaussianProcessClassifier(random_state=42, copy_X_train=False), gpc_params,\n",
    "                                      train_sub_X, train_sub_y)\n",
    "\n",
    "# Display the results\n",
    "display_results(\"Gaussian Process Classifier\", best_model, grid_search, train_sub_X, train_sub_y, test_sub_X, test_sub_y)\n",
    "\n",
    "# Save the model\n",
    "save_model(\"Gaussian Process Classifier\", grid_search)"
   ],
   "metadata": {
    "collapsed": false,
    "pycharm": {
     "name": "#%%\n"
    }
   }
  },
  {
   "cell_type": "markdown",
   "source": [
    "## Support Vector Classification\n",
    "*By Miguel Monares*\n",
    "\n",
    "### Support Vector Classification Hypothesis\n",
    "\n",
    "Support Vector Machines (SVM) are effective in high dimensional spaces. Given that our data has decent number of features, we can expect these features to be a positive attribute for the SVM's performance on the dataset. The performance of the SVM works well when the data is mostly separable, but doesn't perform well when the dataset is overlapping. Hence, we can expect that heart disease classification performance of the SVM will depend heavily on whether the features can be effectively separated. It will be important that we use an appropriate kernel in order to get the best performance from this model."
   ],
   "metadata": {
    "collapsed": false,
    "pycharm": {
     "name": "#%% md\n"
    }
   }
  },
  {
   "cell_type": "code",
   "execution_count": 71,
   "outputs": [
    {
     "name": "stdout",
     "output_type": "stream",
     "text": [
      "Fitting 3 folds for each of 4 candidates, totalling 12 fits\n"
     ]
    },
    {
     "name": "stderr",
     "output_type": "stream",
     "text": [
      "/Users/miguelmonares/.conda/envs/Group041-Sp22/lib/python3.9/site-packages/sklearn/model_selection/_validation.py:372: FitFailedWarning: \n",
      "3 fits failed out of a total of 12.\n",
      "The score on these train-test partitions for these parameters will be set to nan.\n",
      "If these failures are not expected, you can try to debug them by setting error_score='raise'.\n",
      "\n",
      "Below are more details about the failures:\n",
      "--------------------------------------------------------------------------------\n",
      "3 fits failed with the following error:\n",
      "Traceback (most recent call last):\n",
      "  File \"/Users/miguelmonares/.conda/envs/Group041-Sp22/lib/python3.9/site-packages/sklearn/model_selection/_validation.py\", line 680, in _fit_and_score\n",
      "    estimator.fit(X_train, y_train, **fit_params)\n",
      "  File \"/Users/miguelmonares/.conda/envs/Group041-Sp22/lib/python3.9/site-packages/sklearn/pipeline.py\", line 394, in fit\n",
      "    self._final_estimator.fit(Xt, y, **fit_params_last_step)\n",
      "  File \"/Users/miguelmonares/.conda/envs/Group041-Sp22/lib/python3.9/site-packages/sklearn/svm/_base.py\", line 255, in fit\n",
      "    fit(X, y, sample_weight, solver_type, kernel, random_seed=seed)\n",
      "  File \"/Users/miguelmonares/.conda/envs/Group041-Sp22/lib/python3.9/site-packages/sklearn/svm/_base.py\", line 315, in _dense_fit\n",
      "    ) = libsvm.fit(\n",
      "  File \"sklearn/svm/_libsvm.pyx\", line 173, in sklearn.svm._libsvm.fit\n",
      "ValueError: 'polynomial' is not in list\n",
      "\n",
      "  warnings.warn(some_fits_failed_message, FitFailedWarning)\n",
      "/Users/miguelmonares/.conda/envs/Group041-Sp22/lib/python3.9/site-packages/sklearn/model_selection/_search.py:969: UserWarning: One or more of the test scores are non-finite: [0.01841453        nan 0.         0.11655153]\n",
      "  warnings.warn(\n"
     ]
    },
    {
     "name": "stdout",
     "output_type": "stream",
     "text": [
      "\n",
      "\n"
     ]
    },
    {
     "data": {
      "text/plain": "<Figure size 432x288 with 1 Axes>",
      "image/png": "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\n"
     },
     "metadata": {},
     "output_type": "display_data"
    },
    {
     "name": "stdout",
     "output_type": "stream",
     "text": [
      "The best parameters were:\n",
      "kernel: sigmoid\n",
      "\n",
      "\n",
      "Svc Prediction Metrics:\n",
      "Train Precision: 0.16666666666666666\n",
      "Train Recall:    0.10223642172523961\n",
      "Train F1 Score:  0.12673267326732673\n",
      "Test Precision:  0.2777777777777778\n",
      "Test Recall:     0.16025641025641027\n",
      "Test F1 Score:   0.20325203252032523\n"
     ]
    }
   ],
   "source": [
    "from sklearn import svm\n",
    "# Create a list of potential parameters\n",
    "SVC_params = {'kernel': ['rbf', 'polynomial', 'linear', 'sigmoid']}\n",
    "\n",
    "# Train the model, and find the best model from the provided inputs\n",
    "best_model, grid_search = train_model(svm.SVC(random_state=42, ), SVC_params,\n",
    "                                      train_sub_X, train_sub_y)\n",
    "\n",
    "# Display the results\n",
    "display_results(\"SVC\", best_model, grid_search, train_sub_X, train_sub_y, test_sub_X, test_sub_y)\n",
    "\n",
    "# Save the model\n",
    "save_model(\"SVC\", grid_search)"
   ],
   "metadata": {
    "collapsed": false,
    "pycharm": {
     "name": "#%%\n"
    }
   }
  },
  {
   "cell_type": "markdown",
   "source": [
    "### Support Vector Classification Analysis\n",
    "\n",
    "The Support Vector Classification Model performed decently compared to"
   ],
   "metadata": {
    "collapsed": false,
    "pycharm": {
     "name": "#%% md\n"
    }
   }
  },
  {
   "cell_type": "markdown",
   "source": [
    " the other models. The Precision and F1 Score outscored our baseline (.15), which indicates that this model is better suited at predicting the correct status of heart disease for each patient. It has a decent recall score compared to the other models, and is a model we may consider out of the models we compare to use in practice. Out of the kernel functions we chose to use, sigmoid performed the best. This is probably because sigmoid is best suited for binary tasks, and the data is not inherently linearly separable, so the other kernels don't perform as well."
   ],
   "metadata": {
    "collapsed": false,
    "pycharm": {
     "name": "#%% md\n"
    }
   }
  },
  {
   "cell_type": "markdown",
   "source": [
    "## Decision Tree Classification\n",
    "*By Miguel Monares*\n",
    "\n",
    "### Decision Tree Classification Hypothesis\n",
    "*By Miguel Monares*\n",
    "\n",
    "Decision Tree's may be a useful model for our task of heart disease classification because Decision Tree's offer interpretability and visualization that may allow us to discover insights and connections between the features that are indicative of heart disease. However, in order to maximize our performance, we need to make sure that decision tree doesn't overfit to the data, which we can influence by controlling pruning and max-depth. I expect this model will be able to find underlying connection between the features in our data, but will not be among the best."
   ],
   "metadata": {
    "collapsed": false,
    "pycharm": {
     "name": "#%% md\n"
    }
   }
  },
  {
   "cell_type": "code",
   "execution_count": 72,
   "outputs": [
    {
     "name": "stdout",
     "output_type": "stream",
     "text": [
      "Fitting 3 folds for each of 3 candidates, totalling 9 fits\n"
     ]
    },
    {
     "name": "stderr",
     "output_type": "stream",
     "text": [
      "/Users/miguelmonares/.conda/envs/Group041-Sp22/lib/python3.9/site-packages/sklearn/model_selection/_validation.py:372: FitFailedWarning: \n",
      "3 fits failed out of a total of 9.\n",
      "The score on these train-test partitions for these parameters will be set to nan.\n",
      "If these failures are not expected, you can try to debug them by setting error_score='raise'.\n",
      "\n",
      "Below are more details about the failures:\n",
      "--------------------------------------------------------------------------------\n",
      "3 fits failed with the following error:\n",
      "Traceback (most recent call last):\n",
      "  File \"/Users/miguelmonares/.conda/envs/Group041-Sp22/lib/python3.9/site-packages/sklearn/model_selection/_validation.py\", line 680, in _fit_and_score\n",
      "    estimator.fit(X_train, y_train, **fit_params)\n",
      "  File \"/Users/miguelmonares/.conda/envs/Group041-Sp22/lib/python3.9/site-packages/sklearn/pipeline.py\", line 394, in fit\n",
      "    self._final_estimator.fit(Xt, y, **fit_params_last_step)\n",
      "  File \"/Users/miguelmonares/.conda/envs/Group041-Sp22/lib/python3.9/site-packages/sklearn/tree/_classes.py\", line 937, in fit\n",
      "    super().fit(\n",
      "  File \"/Users/miguelmonares/.conda/envs/Group041-Sp22/lib/python3.9/site-packages/sklearn/tree/_classes.py\", line 352, in fit\n",
      "    criterion = CRITERIA_CLF[self.criterion](\n",
      "KeyError: 'log_loss'\n",
      "\n",
      "  warnings.warn(some_fits_failed_message, FitFailedWarning)\n",
      "/Users/miguelmonares/.conda/envs/Group041-Sp22/lib/python3.9/site-packages/sklearn/model_selection/_search.py:969: UserWarning: One or more of the test scores are non-finite: [0.21042229 0.19207993        nan]\n",
      "  warnings.warn(\n"
     ]
    },
    {
     "name": "stdout",
     "output_type": "stream",
     "text": [
      "\n",
      "\n"
     ]
    },
    {
     "data": {
      "text/plain": "<Figure size 432x288 with 1 Axes>",
      "image/png": "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\n"
     },
     "metadata": {},
     "output_type": "display_data"
    },
    {
     "name": "stdout",
     "output_type": "stream",
     "text": [
      "The best parameters were:\n",
      "criterion: gini\n",
      "\n",
      "\n",
      "Decision Tree Classifier Prediction Metrics:\n",
      "Train Precision: 1.0\n",
      "Train Recall:    0.9936102236421726\n",
      "Train F1 Score:  0.9967948717948718\n",
      "Test Precision:  0.1951219512195122\n",
      "Test Recall:     0.2564102564102564\n",
      "Test F1 Score:   0.221606648199446\n"
     ]
    }
   ],
   "source": [
    "from sklearn import tree\n",
    "# Create a list of potential parameters\n",
    "dt_params = {'criterion': ['gini', 'entropy', 'log_loss']}\n",
    "\n",
    "# Train the model, and find the best model from the provided inputs\n",
    "best_model, grid_search = train_model(tree.DecisionTreeClassifier(), dt_params,\n",
    "                                      train_sub_X, train_sub_y)\n",
    "\n",
    "# Display the results\n",
    "display_results(\"Decision Tree Classifier\", best_model, grid_search, train_sub_X, train_sub_y, test_sub_X, test_sub_y)\n",
    "\n",
    "# Save the model\n",
    "save_model(\"Decision Tree Classifier\", grid_search)"
   ],
   "metadata": {
    "collapsed": false,
    "pycharm": {
     "name": "#%%\n"
    }
   }
  },
  {
   "cell_type": "markdown",
   "source": [
    "### Decision Tree Classification Analysis\n",
    "\n",
    "The decision tree classification model had an f1 score of .222, which outscores the baseline model f1 score (.15). Additionally, it has a higher precision score. It has a close f1 performance to that of the support vector classifier. However, the decision tree classifier has a higher recall (.256 vs .160). Since we place more importance on the value of the recall score vs precision/f1, we declare the the decision tree model is better suited for this task of prediction heart disease. Out of the criterion functions we consider for measuring the quality of splits, the gini function outperforms entropy and log_loss, which can be explained since gini facors big partitions. Gini is also faster computationally, so we prefer to use this criterion in the field."
   ],
   "metadata": {
    "collapsed": false,
    "pycharm": {
     "name": "#%% md\n"
    }
   }
  },
  {
   "cell_type": "markdown",
   "source": [],
   "metadata": {
    "collapsed": false,
    "pycharm": {
     "name": "#%% md\n"
    }
   }
  },
  {
   "cell_type": "code",
   "execution_count": null,
   "outputs": [],
   "source": [],
   "metadata": {
    "collapsed": false,
    "pycharm": {
     "name": "#%%\n"
>>>>>>> 7435ad1f5f2f96ed658159c743d23579934b6c6c
    }
   }
  }
 ],
 "metadata": {
  "kernelspec": {
   "name": "python3",
   "language": "python",
   "display_name": "Python 3 (ipykernel)"
  },
  "language_info": {
   "codemirror_mode": {
    "name": "ipython",
    "version": 3
   },
   "file_extension": ".py",
   "mimetype": "text/x-python",
   "name": "python",
   "nbconvert_exporter": "python",
   "pygments_lexer": "ipython3",
   "version": "3.9.13"
  }
 },
 "nbformat": 4,
 "nbformat_minor": 1
}